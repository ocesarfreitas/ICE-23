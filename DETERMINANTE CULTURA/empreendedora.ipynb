{
 "cells": [
  {
   "cell_type": "code",
   "execution_count": 78,
   "metadata": {
    "ExecuteTime": {
     "end_time": "2022-09-16T13:53:10.838716Z",
     "start_time": "2022-09-16T13:53:10.819774Z"
    },
    "run_control": {
     "marked": true
    }
   },
   "outputs": [],
   "source": [
    "import pandas as pd\n",
    "import os"
   ]
  },
  {
   "cell_type": "code",
   "execution_count": 79,
   "metadata": {
    "ExecuteTime": {
     "end_time": "2022-09-16T13:53:11.120962Z",
     "start_time": "2022-09-16T13:53:10.950420Z"
    }
   },
   "outputs": [],
   "source": [
    "name = 'Pesquisas pelo Termo Empreendedora'\n",
    "\n",
    "ufs = pd.read_csv('geoMap-EmpreendedoraUF.csv',header=2).rename(columns={\n",
    "    'Region':'UF',\n",
    "    'empreendedora: (9/15/17 - 9/15/22)':name\n",
    "})\n",
    "ufs = ufs.set_index('UF')\n",
    "\n",
    "df = pd.DataFrame()\n",
    "\n",
    "for i in os.listdir('empreendedora'):\n",
    "    uf = pd.read_csv('empreendedora/'+i, header=1).rename(columns={\n",
    "    'City':'Município',\n",
    "    'empreendedora: (9/15/17 - 9/15/22)':name\n",
    "    }).dropna()\n",
    "    uf[name] = uf[name]*(ufs.loc[i.split('.')[0][-2:]][name]/100)\n",
    "    \n",
    "    df = pd.concat([df,uf])\n",
    "    \n",
    "df.to_csv('geoMap-Empreendedora.csv', index=False)"
   ]
  },
  {
   "cell_type": "code",
   "execution_count": null,
   "metadata": {},
   "outputs": [],
   "source": []
  }
 ],
 "metadata": {
  "hide_input": false,
  "kernelspec": {
   "display_name": "Python 3",
   "language": "python",
   "name": "python3"
  },
  "language_info": {
   "codemirror_mode": {
    "name": "ipython",
    "version": 3
   },
   "file_extension": ".py",
   "mimetype": "text/x-python",
   "name": "python",
   "nbconvert_exporter": "python",
   "pygments_lexer": "ipython3",
   "version": "3.7.4"
  },
  "varInspector": {
   "cols": {
    "lenName": 16,
    "lenType": 16,
    "lenVar": 40
   },
   "kernels_config": {
    "python": {
     "delete_cmd_postfix": "",
     "delete_cmd_prefix": "del ",
     "library": "var_list.py",
     "varRefreshCmd": "print(var_dic_list())"
    },
    "r": {
     "delete_cmd_postfix": ") ",
     "delete_cmd_prefix": "rm(",
     "library": "var_list.r",
     "varRefreshCmd": "cat(var_dic_list()) "
    }
   },
   "types_to_exclude": [
    "module",
    "function",
    "builtin_function_or_method",
    "instance",
    "_Feature"
   ],
   "window_display": false
  }
 },
 "nbformat": 4,
 "nbformat_minor": 2
}
