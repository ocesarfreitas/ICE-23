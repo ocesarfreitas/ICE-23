{
 "cells": [
  {
   "cell_type": "code",
   "execution_count": 4,
   "metadata": {
    "ExecuteTime": {
     "end_time": "2022-09-06T14:04:54.011148Z",
     "start_time": "2022-09-06T14:04:52.629869Z"
    }
   },
   "outputs": [],
   "source": [
    "import pandas as pd\n",
    "import numpy as np\n",
    "from funcs import *"
   ]
  },
  {
   "cell_type": "code",
   "execution_count": 5,
   "metadata": {
    "ExecuteTime": {
     "end_time": "2022-09-06T04:09:45.909320Z",
     "start_time": "2022-09-06T04:09:45.892959Z"
    }
   },
   "outputs": [],
   "source": [
    "# ---------------------------------------------------------------------------------------------\n",
    "# 2.3. DETERMINANTE INFRAESTRUTURA\n",
    "\n",
    "infraestrutura = {}"
   ]
  },
  {
   "cell_type": "code",
   "execution_count": 6,
   "metadata": {
    "ExecuteTime": {
     "end_time": "2022-09-06T04:09:46.036061Z",
     "start_time": "2022-09-06T04:09:46.023914Z"
    }
   },
   "outputs": [],
   "source": [
    "# ---------------------------------------------------------------------------------------------\n",
    "# 2.3.1. Subdeterminante Transporte Interurbano\n",
    "\n",
    "subdet = 'Transporte Interurbano'"
   ]
  },
  {
   "cell_type": "code",
   "execution_count": 7,
   "metadata": {
    "ExecuteTime": {
     "end_time": "2022-09-06T04:09:46.177399Z",
     "start_time": "2022-09-06T04:09:46.163466Z"
    },
    "code_folding": []
   },
   "outputs": [],
   "source": [
    "# 2.3.1.1. Indicador Conectividade via Rodovias"
   ]
  },
  {
   "cell_type": "code",
   "execution_count": 8,
   "metadata": {
    "ExecuteTime": {
     "end_time": "2022-09-06T04:09:46.317577Z",
     "start_time": "2022-09-06T04:09:46.302533Z"
    }
   },
   "outputs": [],
   "source": [
    "# 2.3.1.2. Indicador Número de Decolagens por Ano"
   ]
  },
  {
   "cell_type": "code",
   "execution_count": 9,
   "metadata": {
    "ExecuteTime": {
     "end_time": "2022-09-06T04:09:46.457879Z",
     "start_time": "2022-09-06T04:09:46.443230Z"
    }
   },
   "outputs": [],
   "source": [
    "# 2.3.1.3. Indicador Distância ao Porto Mais Próximo"
   ]
  },
  {
   "cell_type": "code",
   "execution_count": 10,
   "metadata": {
    "ExecuteTime": {
     "end_time": "2022-09-06T04:09:46.583353Z",
     "start_time": "2022-09-06T04:09:46.577366Z"
    }
   },
   "outputs": [],
   "source": [
    "# ---------------------------------------------------------------------------------------------\n",
    "# 2.3.2. Subdeterminante Condições Urbanas\n",
    "\n",
    "subdet = 'Condições Urbanas'"
   ]
  },
  {
   "cell_type": "code",
   "execution_count": 11,
   "metadata": {
    "ExecuteTime": {
     "end_time": "2022-09-06T04:09:58.323548Z",
     "start_time": "2022-09-06T04:09:46.737769Z"
    }
   },
   "outputs": [],
   "source": [
    "# 2.3.2.1. Indicador Acesso à Internet Rápida\n",
    "\n",
    "banda = pd.read_csv('DETERMINANTE INFRAESTRUTURA/Acessos_Banda_Larga_Fixa_2021.csv', sep=';')\n",
    "banda = banda.groupby(['Município', 'UF']).agg('sum')['Acessos']\n",
    "pop = pd.read_csv('AMOSTRA/100-municipios.csv').rename(columns={'NOME DO MUNICÍPIO':'Município'}).set_index(['Município', 'UF'])\n",
    "\n",
    "ind_int = pd.DataFrame()\n",
    "ind_int['Acesso à Internet Rápida'] = (banda/pop['POPULAÇÃO ESTIMADA']).dropna()\n",
    "sub_condurb = ind_int"
   ]
  },
  {
   "cell_type": "code",
   "execution_count": null,
   "metadata": {},
   "outputs": [],
   "source": [
    "pd.read_csv('DETERMINANTE INFRAESTRUTURA/sd22_m2_completo.csv')['m2']"
   ]
  },
  {
   "cell_type": "code",
   "execution_count": 12,
   "metadata": {
    "ExecuteTime": {
     "end_time": "2022-09-06T04:09:58.402421Z",
     "start_time": "2022-09-06T04:09:58.389355Z"
    }
   },
   "outputs": [
    {
     "data": {
      "text/html": [
       "<div>\n",
       "<style scoped>\n",
       "    .dataframe tbody tr th:only-of-type {\n",
       "        vertical-align: middle;\n",
       "    }\n",
       "\n",
       "    .dataframe tbody tr th {\n",
       "        vertical-align: top;\n",
       "    }\n",
       "\n",
       "    .dataframe thead th {\n",
       "        text-align: right;\n",
       "    }\n",
       "</style>\n",
       "<table border=\"1\" class=\"dataframe\">\n",
       "  <thead>\n",
       "    <tr style=\"text-align: right;\">\n",
       "      <th></th>\n",
       "      <th></th>\n",
       "      <th>Acesso à Internet Rápida</th>\n",
       "      <th>Preço Médio do m²</th>\n",
       "    </tr>\n",
       "    <tr>\n",
       "      <th>Município</th>\n",
       "      <th>UF</th>\n",
       "      <th></th>\n",
       "      <th></th>\n",
       "    </tr>\n",
       "  </thead>\n",
       "  <tbody>\n",
       "    <tr>\n",
       "      <th>Ananindeua</th>\n",
       "      <th>PA</th>\n",
       "      <td>1.066862</td>\n",
       "      <td>NaN</td>\n",
       "    </tr>\n",
       "    <tr>\n",
       "      <th>Anápolis</th>\n",
       "      <th>GO</th>\n",
       "      <td>1.920036</td>\n",
       "      <td>NaN</td>\n",
       "    </tr>\n",
       "    <tr>\n",
       "      <th>Aparecida de Goiânia</th>\n",
       "      <th>GO</th>\n",
       "      <td>2.498362</td>\n",
       "      <td>NaN</td>\n",
       "    </tr>\n",
       "    <tr>\n",
       "      <th>Aracaju</th>\n",
       "      <th>SE</th>\n",
       "      <td>2.662584</td>\n",
       "      <td>NaN</td>\n",
       "    </tr>\n",
       "    <tr>\n",
       "      <th>Bauru</th>\n",
       "      <th>SP</th>\n",
       "      <td>4.469560</td>\n",
       "      <td>NaN</td>\n",
       "    </tr>\n",
       "    <tr>\n",
       "      <th>...</th>\n",
       "      <th>...</th>\n",
       "      <td>...</td>\n",
       "      <td>...</td>\n",
       "    </tr>\n",
       "    <tr>\n",
       "      <th>Uberlândia</th>\n",
       "      <th>MG</th>\n",
       "      <td>4.122173</td>\n",
       "      <td>NaN</td>\n",
       "    </tr>\n",
       "    <tr>\n",
       "      <th>Vila Velha</th>\n",
       "      <th>ES</th>\n",
       "      <td>3.002172</td>\n",
       "      <td>NaN</td>\n",
       "    </tr>\n",
       "    <tr>\n",
       "      <th>Vitória</th>\n",
       "      <th>ES</th>\n",
       "      <td>3.796173</td>\n",
       "      <td>NaN</td>\n",
       "    </tr>\n",
       "    <tr>\n",
       "      <th>Vitória da Conquista</th>\n",
       "      <th>BA</th>\n",
       "      <td>2.116921</td>\n",
       "      <td>NaN</td>\n",
       "    </tr>\n",
       "    <tr>\n",
       "      <th>Várzea Grande</th>\n",
       "      <th>MT</th>\n",
       "      <td>1.656226</td>\n",
       "      <td>NaN</td>\n",
       "    </tr>\n",
       "  </tbody>\n",
       "</table>\n",
       "<p>101 rows × 2 columns</p>\n",
       "</div>"
      ],
      "text/plain": [
       "                         Acesso à Internet Rápida  Preço Médio do m²\n",
       "Município            UF                                             \n",
       "Ananindeua           PA                  1.066862                NaN\n",
       "Anápolis             GO                  1.920036                NaN\n",
       "Aparecida de Goiânia GO                  2.498362                NaN\n",
       "Aracaju              SE                  2.662584                NaN\n",
       "Bauru                SP                  4.469560                NaN\n",
       "...                                           ...                ...\n",
       "Uberlândia           MG                  4.122173                NaN\n",
       "Vila Velha           ES                  3.002172                NaN\n",
       "Vitória              ES                  3.796173                NaN\n",
       "Vitória da Conquista BA                  2.116921                NaN\n",
       "Várzea Grande        MT                  1.656226                NaN\n",
       "\n",
       "[101 rows x 2 columns]"
      ]
     },
     "execution_count": 12,
     "metadata": {},
     "output_type": "execute_result"
    }
   ],
   "source": [
    "# 2.3.2.2. Indicador Preço Médio do m²\n",
    "\n",
    "sub_condurb['Preço Médio do m²'] = pd.read_csv('DETERMINANTE INFRAESTRUTURA/sd22_m2_completo.csv')['m2']\n",
    "sub_condurb"
   ]
  },
  {
   "cell_type": "code",
   "execution_count": 13,
   "metadata": {
    "ExecuteTime": {
     "end_time": "2022-09-06T04:09:58.529474Z",
     "start_time": "2022-09-06T04:09:58.452529Z"
    }
   },
   "outputs": [
    {
     "name": "stderr",
     "output_type": "stream",
     "text": [
      "C:\\Users\\CLIENTE\\AppData\\Local\\Temp\\ipykernel_17008\\3390248164.py:13: FutureWarning: The frame.append method is deprecated and will be removed from pandas in a future version. Use pandas.concat instead.\n",
      "  atual = atual.append({\n",
      "C:\\Users\\CLIENTE\\AppData\\Local\\Temp\\ipykernel_17008\\3390248164.py:18: FutureWarning: The frame.append method is deprecated and will be removed from pandas in a future version. Use pandas.concat instead.\n",
      "  atual = atual.append({\n",
      "C:\\Users\\CLIENTE\\AppData\\Local\\Temp\\ipykernel_17008\\3390248164.py:23: FutureWarning: The frame.append method is deprecated and will be removed from pandas in a future version. Use pandas.concat instead.\n",
      "  atual = atual.append({\n",
      "C:\\Users\\CLIENTE\\AppData\\Local\\Temp\\ipykernel_17008\\3390248164.py:28: FutureWarning: The frame.append method is deprecated and will be removed from pandas in a future version. Use pandas.concat instead.\n",
      "  atual = atual.append({\n",
      "C:\\Users\\CLIENTE\\AppData\\Local\\Temp\\ipykernel_17008\\3390248164.py:33: FutureWarning: The frame.append method is deprecated and will be removed from pandas in a future version. Use pandas.concat instead.\n",
      "  atual = atual.append({\n",
      "C:\\Users\\CLIENTE\\AppData\\Local\\Temp\\ipykernel_17008\\3390248164.py:38: FutureWarning: The frame.append method is deprecated and will be removed from pandas in a future version. Use pandas.concat instead.\n",
      "  atual = atual.append({\n",
      "C:\\Users\\CLIENTE\\AppData\\Local\\Temp\\ipykernel_17008\\3390248164.py:43: FutureWarning: The frame.append method is deprecated and will be removed from pandas in a future version. Use pandas.concat instead.\n",
      "  atual = atual.append({\n",
      "C:\\Users\\CLIENTE\\AppData\\Local\\Temp\\ipykernel_17008\\3390248164.py:48: FutureWarning: The frame.append method is deprecated and will be removed from pandas in a future version. Use pandas.concat instead.\n",
      "  atual = atual.append({\n",
      "C:\\Users\\CLIENTE\\AppData\\Local\\Temp\\ipykernel_17008\\3390248164.py:53: FutureWarning: The frame.append method is deprecated and will be removed from pandas in a future version. Use pandas.concat instead.\n",
      "  atual = atual.append({\n",
      "C:\\Users\\CLIENTE\\AppData\\Local\\Temp\\ipykernel_17008\\3390248164.py:58: FutureWarning: The frame.append method is deprecated and will be removed from pandas in a future version. Use pandas.concat instead.\n",
      "  atual = atual.append({\n",
      "C:\\Users\\CLIENTE\\AppData\\Local\\Temp\\ipykernel_17008\\3390248164.py:63: FutureWarning: The frame.append method is deprecated and will be removed from pandas in a future version. Use pandas.concat instead.\n",
      "  atual = atual.append({\n",
      "C:\\Users\\CLIENTE\\AppData\\Local\\Temp\\ipykernel_17008\\3390248164.py:68: FutureWarning: The frame.append method is deprecated and will be removed from pandas in a future version. Use pandas.concat instead.\n",
      "  atual = atual.append({\n"
     ]
    }
   ],
   "source": [
    "# 2.3.2.3. Indicador Custo da Energia Elétrica\n",
    "\n",
    "# COLETA REALIZADA EM 6 DE SETEMBRO\n",
    "\n",
    "distri = pd.read_csv('DETERMINANTE INFRAESTRUTURA/distribuidoras.csv').drop('UF', axis=1)\n",
    "distri['Distribuidora'] = distri['Distribuidora'].apply(lambda x: x.upper() if type(x) != type(1.5) else None)\n",
    "ranking = pd.read_excel('DETERMINANTE INFRAESTRUTURA/RankingB1.xlsx')[['Distribuidora', 'UF', 'Tarifa Convencional']]\n",
    "ranking['Distribuidora'] = ranking['Distribuidora'].apply(lambda x: x.upper() if type(x) != type(1.5) else None)\n",
    "\n",
    "atual = pd.merge(distri,ranking, on='Distribuidora').drop('Distribuidora', axis=1)\n",
    "\n",
    "# adicionar manualmente a media ponderada do preço nas cidades com mais de uma distribuidora\n",
    "atual = atual.append({\n",
    "    'Município':'Campina Grande',\n",
    "    'UF':'PB',\n",
    "    'Tarifa Convencional':0.568994603\n",
    "}, ignore_index=True)\n",
    "atual = atual.append({\n",
    "    'Município':'Duque de Caxias',\n",
    "    'UF':'RJ',\n",
    "    'Tarifa Convencional':0.817278973\n",
    "}, ignore_index=True)\n",
    "atual = atual.append({\n",
    "    'Município':'Petrópolis',\n",
    "    'UF':'RJ',\n",
    "    'Tarifa Convencional':0.826959994\n",
    "}, ignore_index=True)\n",
    "atual = atual.append({\n",
    "    'Município':'Santa Maria',\n",
    "    'UF':'RS',\n",
    "    'Tarifa Convencional':0.644020688\n",
    "}, ignore_index=True)\n",
    "atual = atual.append({\n",
    "    'Município':'Guarujá',\n",
    "    'UF':'RS',\n",
    "    'Tarifa Convencional':0.622065737\n",
    "}, ignore_index=True)\n",
    "atual = atual.append({\n",
    "    'Município':'Mogi das Cruzes',\n",
    "    'UF':'SP',\n",
    "    'Tarifa Convencional':0.637558772\n",
    "}, ignore_index=True)\n",
    "atual = atual.append({\n",
    "    'Município':'Praia Grande',\n",
    "    'UF':'SP',\n",
    "    'Tarifa Convencional':0.620542118\n",
    "}, ignore_index=True)\n",
    "atual = atual.append({\n",
    "    'Município':'Santos',\n",
    "    'UF':'SP',\n",
    "    'Tarifa Convencional':0.620119901\n",
    "}, ignore_index=True)\n",
    "atual = atual.append({\n",
    "    'Município':'São José do Rio Preto',\n",
    "    'UF':'SP',\n",
    "    'Tarifa Convencional':0.685554926\n",
    "}, ignore_index=True)\n",
    "atual = atual.append({\n",
    "    'Município':'São Paulo',\n",
    "    'UF':'SP',\n",
    "    'Tarifa Convencional':0.594588207\n",
    "}, ignore_index=True)\n",
    "atual = atual.append({\n",
    "    'Município':'Sorocaba',\n",
    "    'UF':'SP',\n",
    "    'Tarifa Convencional':0.620400308\n",
    "}, ignore_index=True)\n",
    "atual = atual.append({\n",
    "    'Município':'Suzano',\n",
    "    'UF':'SP',\n",
    "    'Tarifa Convencional':0.637468135\n",
    "}, ignore_index=True)\n",
    "atual = atual.rename(columns={'Tarifa Convencional':'Custo da Energia Elétrica'}).set_index(['Município', 'UF'])\n",
    "sub_condurb = pd.merge(sub_condurb, atual, left_index=True, right_index=True)"
   ]
  },
  {
   "cell_type": "code",
   "execution_count": 14,
   "metadata": {
    "ExecuteTime": {
     "end_time": "2022-09-06T04:09:58.874755Z",
     "start_time": "2022-09-06T04:09:58.595505Z"
    },
    "run_control": {
     "marked": true
    }
   },
   "outputs": [],
   "source": [
    "# 2.3.2.4. Indicador Taxa de Homicídios\n",
    "\n",
    "deaths = pd.read_csv('DETERMINANTE INFRAESTRUTURA/A194712189_28_143_208.csv', encoding='latin-1',sep=';', header=4).head(-8)\n",
    "deaths['Município'] = deaths['Município'].apply(lambda x: x.split()[0])\n",
    "deaths = deaths.set_index('Município')\n",
    "\n",
    "cod = pd.read_excel('DETERMINANTE INFRAESTRUTURA/RELATORIO_DTB_BRASIL_MUNICIPIO.xls')\n",
    "cod = cod.rename(columns={'Código Município Completo':'id_municipio'})\n",
    "cod['id_municipio'] = cod['id_municipio'].apply(str)\n",
    "cod = cod[['Nome_Município','Nome_UF','id_municipio']].rename(columns={\n",
    "    'Nome_Município':'Município',\n",
    "    'Nome_UF':'UF'\n",
    "}).set_index(['Município', 'UF'])\n",
    "\n",
    "a = pd.merge(cod, pop, left_index=True, right_index=True).reset_index()\n",
    "a['id_municipio'] = a['id_municipio'].apply(lambda x:x[:-1])\n",
    "a = a.set_index('id_municipio')[['Município', 'UF', 'POPULAÇÃO ESTIMADA']]\n",
    "\n",
    "deaths = pd.merge(a, deaths, left_index=True, right_index=True).reset_index(drop=True).set_index(['Município', 'UF'])\n",
    "ind_deaths = pd.DataFrame()\n",
    "ind_deaths['Taxa de Homicídios'] = deaths['Óbitos_p/Ocorrênc']*100000/deaths['POPULAÇÃO ESTIMADA']\n",
    "\n",
    "sub_condurb = pd.merge(sub_condurb, ind_deaths, left_index=True, right_index=True)"
   ]
  },
  {
   "cell_type": "code",
   "execution_count": 15,
   "metadata": {
    "ExecuteTime": {
     "end_time": "2022-09-06T04:10:15.839160Z",
     "start_time": "2022-09-06T04:10:15.695464Z"
    }
   },
   "outputs": [],
   "source": [
    "missing_data(sub_condurb)\n",
    "extreme_values(sub_condurb)\n",
    "create_subindex(sub_condurb, subdet)\n",
    "infraestrutura[subdet] = sub_condurb"
   ]
  },
  {
   "cell_type": "code",
   "execution_count": 16,
   "metadata": {
    "ExecuteTime": {
     "end_time": "2022-09-06T04:10:27.541125Z",
     "start_time": "2022-09-06T04:10:27.513202Z"
    }
   },
   "outputs": [
    {
     "data": {
      "text/html": [
       "<div>\n",
       "<style scoped>\n",
       "    .dataframe tbody tr th:only-of-type {\n",
       "        vertical-align: middle;\n",
       "    }\n",
       "\n",
       "    .dataframe tbody tr th {\n",
       "        vertical-align: top;\n",
       "    }\n",
       "\n",
       "    .dataframe thead th {\n",
       "        text-align: right;\n",
       "    }\n",
       "</style>\n",
       "<table border=\"1\" class=\"dataframe\">\n",
       "  <thead>\n",
       "    <tr style=\"text-align: right;\">\n",
       "      <th></th>\n",
       "      <th></th>\n",
       "      <th>Acesso à Internet Rápida</th>\n",
       "      <th>Preço Médio do m²</th>\n",
       "      <th>Custo da Energia Elétrica</th>\n",
       "      <th>Taxa de Homicídios</th>\n",
       "      <th>Índice de Condições Urbanas</th>\n",
       "    </tr>\n",
       "    <tr>\n",
       "      <th>Município</th>\n",
       "      <th>UF</th>\n",
       "      <th></th>\n",
       "      <th></th>\n",
       "      <th></th>\n",
       "      <th></th>\n",
       "      <th></th>\n",
       "    </tr>\n",
       "  </thead>\n",
       "  <tbody>\n",
       "    <tr>\n",
       "      <th>Ananindeua</th>\n",
       "      <th>PA</th>\n",
       "      <td>1.066862</td>\n",
       "      <td>0.0</td>\n",
       "      <td>0.76597</td>\n",
       "      <td>43.855591</td>\n",
       "      <td>6.554648</td>\n",
       "    </tr>\n",
       "    <tr>\n",
       "      <th>Anápolis</th>\n",
       "      <th>GO</th>\n",
       "      <td>1.920036</td>\n",
       "      <td>0.0</td>\n",
       "      <td>0.63689</td>\n",
       "      <td>24.714647</td>\n",
       "      <td>5.096725</td>\n",
       "    </tr>\n",
       "    <tr>\n",
       "      <th>Aparecida de Goiânia</th>\n",
       "      <th>GO</th>\n",
       "      <td>2.498362</td>\n",
       "      <td>0.0</td>\n",
       "      <td>0.63689</td>\n",
       "      <td>31.569643</td>\n",
       "      <td>5.839578</td>\n",
       "    </tr>\n",
       "    <tr>\n",
       "      <th>Aracaju</th>\n",
       "      <th>SE</th>\n",
       "      <td>2.662584</td>\n",
       "      <td>0.0</td>\n",
       "      <td>0.67799</td>\n",
       "      <td>49.805683</td>\n",
       "      <td>7.182366</td>\n",
       "    </tr>\n",
       "    <tr>\n",
       "      <th>Bauru</th>\n",
       "      <th>SP</th>\n",
       "      <td>4.469560</td>\n",
       "      <td>0.0</td>\n",
       "      <td>0.67864</td>\n",
       "      <td>11.003233</td>\n",
       "      <td>6.757942</td>\n",
       "    </tr>\n",
       "    <tr>\n",
       "      <th>...</th>\n",
       "      <th>...</th>\n",
       "      <td>...</td>\n",
       "      <td>...</td>\n",
       "      <td>...</td>\n",
       "      <td>...</td>\n",
       "      <td>...</td>\n",
       "    </tr>\n",
       "    <tr>\n",
       "      <th>Uberlândia</th>\n",
       "      <th>MG</th>\n",
       "      <td>4.122173</td>\n",
       "      <td>0.0</td>\n",
       "      <td>0.61805</td>\n",
       "      <td>5.943982</td>\n",
       "      <td>5.697370</td>\n",
       "    </tr>\n",
       "    <tr>\n",
       "      <th>Vila Velha</th>\n",
       "      <th>ES</th>\n",
       "      <td>3.002172</td>\n",
       "      <td>0.0</td>\n",
       "      <td>0.61051</td>\n",
       "      <td>28.506552</td>\n",
       "      <td>5.825149</td>\n",
       "    </tr>\n",
       "    <tr>\n",
       "      <th>Vitória</th>\n",
       "      <th>ES</th>\n",
       "      <td>3.796173</td>\n",
       "      <td>0.0</td>\n",
       "      <td>0.61051</td>\n",
       "      <td>34.367609</td>\n",
       "      <td>6.682811</td>\n",
       "    </tr>\n",
       "    <tr>\n",
       "      <th>Vitória da Conquista</th>\n",
       "      <th>BA</th>\n",
       "      <td>2.116921</td>\n",
       "      <td>0.0</td>\n",
       "      <td>0.74949</td>\n",
       "      <td>56.162937</td>\n",
       "      <td>7.741678</td>\n",
       "    </tr>\n",
       "    <tr>\n",
       "      <th>Várzea Grande</th>\n",
       "      <th>MT</th>\n",
       "      <td>1.656226</td>\n",
       "      <td>0.0</td>\n",
       "      <td>0.82512</td>\n",
       "      <td>21.695485</td>\n",
       "      <td>6.537707</td>\n",
       "    </tr>\n",
       "  </tbody>\n",
       "</table>\n",
       "<p>100 rows × 5 columns</p>\n",
       "</div>"
      ],
      "text/plain": [
       "                         Acesso à Internet Rápida  Preço Médio do m²  \\\n",
       "Município            UF                                                \n",
       "Ananindeua           PA                  1.066862                0.0   \n",
       "Anápolis             GO                  1.920036                0.0   \n",
       "Aparecida de Goiânia GO                  2.498362                0.0   \n",
       "Aracaju              SE                  2.662584                0.0   \n",
       "Bauru                SP                  4.469560                0.0   \n",
       "...                                           ...                ...   \n",
       "Uberlândia           MG                  4.122173                0.0   \n",
       "Vila Velha           ES                  3.002172                0.0   \n",
       "Vitória              ES                  3.796173                0.0   \n",
       "Vitória da Conquista BA                  2.116921                0.0   \n",
       "Várzea Grande        MT                  1.656226                0.0   \n",
       "\n",
       "                         Custo da Energia Elétrica  Taxa de Homicídios  \\\n",
       "Município            UF                                                  \n",
       "Ananindeua           PA                    0.76597           43.855591   \n",
       "Anápolis             GO                    0.63689           24.714647   \n",
       "Aparecida de Goiânia GO                    0.63689           31.569643   \n",
       "Aracaju              SE                    0.67799           49.805683   \n",
       "Bauru                SP                    0.67864           11.003233   \n",
       "...                                            ...                 ...   \n",
       "Uberlândia           MG                    0.61805            5.943982   \n",
       "Vila Velha           ES                    0.61051           28.506552   \n",
       "Vitória              ES                    0.61051           34.367609   \n",
       "Vitória da Conquista BA                    0.74949           56.162937   \n",
       "Várzea Grande        MT                    0.82512           21.695485   \n",
       "\n",
       "                         Índice de Condições Urbanas  \n",
       "Município            UF                               \n",
       "Ananindeua           PA                     6.554648  \n",
       "Anápolis             GO                     5.096725  \n",
       "Aparecida de Goiânia GO                     5.839578  \n",
       "Aracaju              SE                     7.182366  \n",
       "Bauru                SP                     6.757942  \n",
       "...                                              ...  \n",
       "Uberlândia           MG                     5.697370  \n",
       "Vila Velha           ES                     5.825149  \n",
       "Vitória              ES                     6.682811  \n",
       "Vitória da Conquista BA                     7.741678  \n",
       "Várzea Grande        MT                     6.537707  \n",
       "\n",
       "[100 rows x 5 columns]"
      ]
     },
     "execution_count": 16,
     "metadata": {},
     "output_type": "execute_result"
    }
   ],
   "source": [
    "sub_condurb"
   ]
  },
  {
   "cell_type": "code",
   "execution_count": 17,
   "metadata": {
    "ExecuteTime": {
     "end_time": "2022-09-06T14:55:06.593346Z",
     "start_time": "2022-09-06T14:54:59.526480Z"
    }
   },
   "outputs": [],
   "source": [
    "thrash = pd.read_csv('DETERMINANTE INFRAESTRUTURA/Dados_Estatisticos.csv')"
   ]
  },
  {
   "cell_type": "code",
   "execution_count": 18,
   "metadata": {
    "ExecuteTime": {
     "end_time": "2022-09-06T14:57:31.972484Z",
     "start_time": "2022-09-06T14:55:10.894239Z"
    }
   },
   "outputs": [
    {
     "ename": "NameError",
     "evalue": "name 'columns' is not defined",
     "output_type": "error",
     "traceback": [
      "\u001b[1;31m---------------------------------------------------------------------------\u001b[0m",
      "\u001b[1;31mNameError\u001b[0m                                 Traceback (most recent call last)",
      "\u001b[1;32m~\\AppData\\Local\\Temp\\ipykernel_17008\\3484642170.py\u001b[0m in \u001b[0;36m<module>\u001b[1;34m\u001b[0m\n\u001b[0;32m      1\u001b[0m \u001b[0md\u001b[0m \u001b[1;33m=\u001b[0m \u001b[1;33m{\u001b[0m\u001b[0mj\u001b[0m\u001b[1;33m:\u001b[0m\u001b[1;34m';'\u001b[0m\u001b[1;33m.\u001b[0m\u001b[0mjoin\u001b[0m\u001b[1;33m(\u001b[0m\u001b[1;33m[\u001b[0m\u001b[0mstr\u001b[0m\u001b[1;33m(\u001b[0m\u001b[0mi\u001b[0m\u001b[1;33m)\u001b[0m \u001b[1;32mfor\u001b[0m \u001b[0mi\u001b[0m \u001b[1;32min\u001b[0m \u001b[0mthrash\u001b[0m\u001b[1;33m.\u001b[0m\u001b[0mloc\u001b[0m\u001b[1;33m[\u001b[0m\u001b[0mj\u001b[0m\u001b[1;33m]\u001b[0m\u001b[1;33m]\u001b[0m\u001b[1;33m)\u001b[0m \u001b[1;32mfor\u001b[0m \u001b[0mj\u001b[0m \u001b[1;32min\u001b[0m \u001b[0mrange\u001b[0m\u001b[1;33m(\u001b[0m\u001b[0mlen\u001b[0m\u001b[1;33m(\u001b[0m\u001b[0mthrash\u001b[0m\u001b[1;33m)\u001b[0m\u001b[1;33m)\u001b[0m\u001b[1;33m}\u001b[0m\u001b[1;33m\u001b[0m\u001b[1;33m\u001b[0m\u001b[0m\n\u001b[1;32m----> 2\u001b[1;33m \u001b[0mvaluesdf\u001b[0m \u001b[1;33m=\u001b[0m \u001b[0mpd\u001b[0m\u001b[1;33m.\u001b[0m\u001b[0mDataFrame\u001b[0m\u001b[1;33m(\u001b[0m\u001b[1;33m[\u001b[0m\u001b[0md\u001b[0m\u001b[1;33m]\u001b[0m\u001b[1;33m)\u001b[0m\u001b[1;33m.\u001b[0m\u001b[0mT\u001b[0m\u001b[1;33m.\u001b[0m\u001b[0mrename\u001b[0m\u001b[1;33m(\u001b[0m\u001b[0mcolumns\u001b[0m\u001b[1;33m=\u001b[0m\u001b[1;33m{\u001b[0m\u001b[1;36m0\u001b[0m\u001b[1;33m:\u001b[0m\u001b[0mcolumns\u001b[0m\u001b[1;33m}\u001b[0m\u001b[1;33m)\u001b[0m\u001b[1;33m\u001b[0m\u001b[1;33m\u001b[0m\u001b[0m\n\u001b[0m\u001b[0;32m      3\u001b[0m \u001b[0mvaluesdf\u001b[0m\u001b[1;33m.\u001b[0m\u001b[0mto_csv\u001b[0m\u001b[1;33m(\u001b[0m\u001b[1;34m'DETERMINANTE INFRAESTRUTURA/Dados_Estatisticos.csv'\u001b[0m\u001b[1;33m,\u001b[0m \u001b[0mindex\u001b[0m\u001b[1;33m=\u001b[0m\u001b[1;32mFalse\u001b[0m\u001b[1;33m)\u001b[0m\u001b[1;33m\u001b[0m\u001b[1;33m\u001b[0m\u001b[0m\n",
      "\u001b[1;31mNameError\u001b[0m: name 'columns' is not defined"
     ]
    }
   ],
   "source": [
    "d = {j:';'.join([str(i) for i in thrash.loc[j]]) for j in range(len(thrash))}\n",
    "valuesdf = pd.DataFrame([d]).T.rename(columns={0:columns})\n",
    "valuesdf.to_csv('DETERMINANTE INFRAESTRUTURA/Dados_Estatisticos.csv', index=False)"
   ]
  },
  {
   "cell_type": "code",
   "execution_count": 49,
   "metadata": {
    "ExecuteTime": {
     "end_time": "2022-09-06T14:46:41.357024Z",
     "start_time": "2022-09-06T14:46:14.611812Z"
    }
   },
   "outputs": [],
   "source": [
    "a = pd.read_csv('https://sistemas.anac.gov.br/dadosabertos/Voos%20e%20opera%C3%A7%C3%B5es%20a%C3%A9reas/Dados%20Estat%C3%ADsticos%20do%20Transporte%20A%C3%A9reo/Dados_Estatisticos.csv', on_bad_lines='skip')"
   ]
  },
  {
   "cell_type": "code",
   "execution_count": 66,
   "metadata": {
    "ExecuteTime": {
     "end_time": "2022-09-06T14:51:44.724539Z",
     "start_time": "2022-09-06T14:51:44.712569Z"
    }
   },
   "outputs": [
    {
     "data": {
      "text/plain": [
       "'MWM;\"MODERN TRANSPORTE AEREO DE CARGA S.A\";\"BRASILEIRA\";\"2021\";\"7\";\"SBEG\";\"MANAUS\";\"AM\";\"NORTE\";\"BRASIL\";\"AMÉRICA DO SUL\";\"SBBR\";\"BRASÍLIA\";\"DF\";\"CENTRO-OESTE\";\"BRASIL\";\"AMÉRICA DO SUL\";\"DOMÉSTICA\";\"REGULAR\";\"0\";\"0\";\"24899\";\"0\";\"0\";\"0\";\"0\";\"305931\";\"241936\";\"79029\";\"17532\";\"9\";\"241942000\";\"0\";\"0\";\"0\";\"157050\";\"26\";\"0\"'"
      ]
     },
     "execution_count": 66,
     "metadata": {},
     "output_type": "execute_result"
    }
   ],
   "source": [
    "a.loc[205000]['Atualizado em: 2022-08-24']"
   ]
  },
  {
   "cell_type": "code",
   "execution_count": 64,
   "metadata": {
    "ExecuteTime": {
     "end_time": "2022-09-06T14:51:33.323477Z",
     "start_time": "2022-09-06T14:51:33.294537Z"
    }
   },
   "outputs": [
    {
     "data": {
      "text/html": [
       "<div>\n",
       "<style scoped>\n",
       "    .dataframe tbody tr th:only-of-type {\n",
       "        vertical-align: middle;\n",
       "    }\n",
       "\n",
       "    .dataframe tbody tr th {\n",
       "        vertical-align: top;\n",
       "    }\n",
       "\n",
       "    .dataframe thead th {\n",
       "        text-align: right;\n",
       "    }\n",
       "</style>\n",
       "<table border=\"1\" class=\"dataframe\">\n",
       "  <thead>\n",
       "    <tr style=\"text-align: right;\">\n",
       "      <th></th>\n",
       "      <th>Atualizado em: 2022-08-24</th>\n",
       "    </tr>\n",
       "  </thead>\n",
       "  <tbody>\n",
       "    <tr>\n",
       "      <th>0</th>\n",
       "      <td>EMPRESA_SIGLA;\"EMPRESA_NOME\";\"EMPRESA_NACIONAL...</td>\n",
       "    </tr>\n",
       "    <tr>\n",
       "      <th>1</th>\n",
       "      <td>ABJ;\"ABAETÉ LINHAS AÉREAS S.A.\";\"BRASILEIRA\";\"...</td>\n",
       "    </tr>\n",
       "    <tr>\n",
       "      <th>2</th>\n",
       "      <td>ABJ;\"ABAETÉ LINHAS AÉREAS S.A.\";\"BRASILEIRA\";\"...</td>\n",
       "    </tr>\n",
       "    <tr>\n",
       "      <th>3</th>\n",
       "      <td>ABJ;\"ABAETÉ LINHAS AÉREAS S.A.\";\"BRASILEIRA\";\"...</td>\n",
       "    </tr>\n",
       "    <tr>\n",
       "      <th>4</th>\n",
       "      <td>ABJ;\"ABAETÉ LINHAS AÉREAS S.A.\";\"BRASILEIRA\";\"...</td>\n",
       "    </tr>\n",
       "    <tr>\n",
       "      <th>...</th>\n",
       "      <td>...</td>\n",
       "    </tr>\n",
       "    <tr>\n",
       "      <th>207279</th>\n",
       "      <td>URO;\"EUROPEAN CARGO LTD.\";\"ESTRANGEIRA\";\"2022\"...</td>\n",
       "    </tr>\n",
       "    <tr>\n",
       "      <th>207280</th>\n",
       "      <td>URO;\"EUROPEAN CARGO LTD.\";\"ESTRANGEIRA\";\"2022\"...</td>\n",
       "    </tr>\n",
       "    <tr>\n",
       "      <th>207281</th>\n",
       "      <td>URO;\"EUROPEAN CARGO LTD.\";\"ESTRANGEIRA\";\"2022\"...</td>\n",
       "    </tr>\n",
       "    <tr>\n",
       "      <th>207282</th>\n",
       "      <td>URO;\"EUROPEAN CARGO LTD.\";\"ESTRANGEIRA\";\"2022\"...</td>\n",
       "    </tr>\n",
       "    <tr>\n",
       "      <th>207283</th>\n",
       "      <td>URO;\"EUROPEAN CARGO LTD.\";\"ESTRANGEIRA\";\"2022\"...</td>\n",
       "    </tr>\n",
       "  </tbody>\n",
       "</table>\n",
       "<p>207284 rows × 1 columns</p>\n",
       "</div>"
      ],
      "text/plain": [
       "                                Atualizado em: 2022-08-24\n",
       "0       EMPRESA_SIGLA;\"EMPRESA_NOME\";\"EMPRESA_NACIONAL...\n",
       "1       ABJ;\"ABAETÉ LINHAS AÉREAS S.A.\";\"BRASILEIRA\";\"...\n",
       "2       ABJ;\"ABAETÉ LINHAS AÉREAS S.A.\";\"BRASILEIRA\";\"...\n",
       "3       ABJ;\"ABAETÉ LINHAS AÉREAS S.A.\";\"BRASILEIRA\";\"...\n",
       "4       ABJ;\"ABAETÉ LINHAS AÉREAS S.A.\";\"BRASILEIRA\";\"...\n",
       "...                                                   ...\n",
       "207279  URO;\"EUROPEAN CARGO LTD.\";\"ESTRANGEIRA\";\"2022\"...\n",
       "207280  URO;\"EUROPEAN CARGO LTD.\";\"ESTRANGEIRA\";\"2022\"...\n",
       "207281  URO;\"EUROPEAN CARGO LTD.\";\"ESTRANGEIRA\";\"2022\"...\n",
       "207282  URO;\"EUROPEAN CARGO LTD.\";\"ESTRANGEIRA\";\"2022\"...\n",
       "207283  URO;\"EUROPEAN CARGO LTD.\";\"ESTRANGEIRA\";\"2022\"...\n",
       "\n",
       "[207284 rows x 1 columns]"
      ]
     },
     "execution_count": 64,
     "metadata": {},
     "output_type": "execute_result"
    }
   ],
   "source": [
    "a"
   ]
  },
  {
   "cell_type": "code",
   "execution_count": 72,
   "metadata": {
    "ExecuteTime": {
     "end_time": "2022-09-06T14:58:51.139917Z",
     "start_time": "2022-09-06T14:58:44.061911Z"
    }
   },
   "outputs": [],
   "source": [
    "b = pd.read_csv('DETERMINANTE INFRAESTRUTURA/Dados_Estatisticos.csv')"
   ]
  },
  {
   "cell_type": "code",
   "execution_count": 97,
   "metadata": {
    "ExecuteTime": {
     "end_time": "2022-09-06T15:03:24.991141Z",
     "start_time": "2022-09-06T15:03:24.977180Z"
    }
   },
   "outputs": [
    {
     "data": {
      "text/plain": [
       "['EMPRESA_SIGLA',\n",
       " '\"EMPRESA_NOME\"',\n",
       " '\"EMPRESA_NACIONALIDADE\"',\n",
       " '\"ANO\"',\n",
       " '\"MES\"',\n",
       " '\"AEROPORTO_DE_ORIGEM_SIGLA\"',\n",
       " '\"AEROPORTO_DE_ORIGEM_NOME\"',\n",
       " '\"AEROPORTO_DE_ORIGEM_UF\"',\n",
       " '\"AEROPORTO_DE_ORIGEM_REGIAO\"',\n",
       " '\"AEROPORTO_DE_ORIGEM_PAIS\"',\n",
       " '\"AEROPORTO_DE_ORIGEM_CONTINENTE\"',\n",
       " '\"AEROPORTO_DE_DESTINO_SIGLA\"',\n",
       " '\"AEROPORTO_DE_DESTINO_NOME\"',\n",
       " '\"AEROPORTO_DE_DESTINO_UF\"',\n",
       " '\"AEROPORTO_DE_DESTINO_REGIAO\"',\n",
       " '\"AEROPORTO_DE_DESTINO_PAIS\"',\n",
       " '\"AEROPORTO_DE_DESTINO_CONTINENTE\"',\n",
       " '\"NATUREZA\"',\n",
       " '\"GRUPO_DE_VOO\"',\n",
       " '\"PASSAGEIROS_PAGOS\"',\n",
       " '\"PASSAGEIROS_GRATIS\"',\n",
       " '\"CARGA_PAGA_KG\"',\n",
       " '\"CARGA_GRATIS_KG\"',\n",
       " '\"CORREIO_KG\"',\n",
       " '\"ASK\"',\n",
       " '\"RPK\"',\n",
       " '\"ATK\"',\n",
       " '\"RTK\"',\n",
       " '\"COMBUSTIVEL_LITROS\"',\n",
       " '\"DISTANCIA_VOADA_KM\"',\n",
       " '\"DECOLAGENS\"',\n",
       " '\"CARGA_PAGA_KM\"',\n",
       " '\"CARGA_GRATIS_KM\"',\n",
       " '\"CORREIO_KM\"',\n",
       " '\"ASSENTOS\"',\n",
       " '\"PAYLOAD\"',\n",
       " '\"HORAS_VOADAS\"',\n",
       " '\"BAGAGEM_KG\"']"
      ]
     },
     "execution_count": 97,
     "metadata": {},
     "output_type": "execute_result"
    }
   ],
   "source": [
    "b.columns[0].split(';')"
   ]
  },
  {
   "cell_type": "code",
   "execution_count": 106,
   "metadata": {
    "ExecuteTime": {
     "end_time": "2022-09-06T15:12:49.692642Z",
     "start_time": "2022-09-06T15:11:27.757522Z"
    },
    "scrolled": false
   },
   "outputs": [],
   "source": [
    "for i in range(len(b)):\n",
    "    if len(b.iloc[i][b.columns[0]].split(';')) != 43:\n",
    "        print(len(b.iloc[i][b.columns[0]].split(';')))"
   ]
  },
  {
   "cell_type": "code",
   "execution_count": 107,
   "metadata": {
    "ExecuteTime": {
     "end_time": "2022-09-06T15:12:53.346706Z",
     "start_time": "2022-09-06T15:12:53.334720Z"
    }
   },
   "outputs": [
    {
     "data": {
      "text/plain": [
       "'AZU;\"AZUL LINHAS AÉREAS BRASILEIRAS S/A\";\"BRASILEIRA\";\"2021\";\"10\";\"SBSP\";\"SÃO PAULO\";\"SP\";\"SUDESTE\";\"BRASIL\";\"AMÉRICA DO SUL\";\"SBVT\";\"VITÓRIA\";\"ES\";\"SUDESTE\";\"BRASIL\";\"AMÉRICA DO SUL\";\"DOMÉSTICA\";\"REGULAR\";\"\";\"\";\"\";\"\";\"\";\"89208\";\"6804\";\"8120\";\"510\";\"5044\";\"756\";\"1\";\"0\";\"0\";\"0\";\"118\";\"10741\";\"2;15\";\"\";nan;nan;nan;nan'"
      ]
     },
     "execution_count": 107,
     "metadata": {},
     "output_type": "execute_result"
    }
   ],
   "source": [
    "b.iloc[900001][b.columns[0]]"
   ]
  },
  {
   "cell_type": "code",
   "execution_count": 103,
   "metadata": {
    "ExecuteTime": {
     "end_time": "2022-09-06T15:03:56.410114Z",
     "start_time": "2022-09-06T15:03:56.396569Z"
    }
   },
   "outputs": [
    {
     "data": {
      "text/plain": [
       "['AZU',\n",
       " '\"AZUL LINHAS AÉREAS BRASILEIRAS S/A\"',\n",
       " '\"BRASILEIRA\"',\n",
       " '\"2021\"',\n",
       " '\"10\"',\n",
       " '\"SBSP\"',\n",
       " '\"SÃO PAULO\"',\n",
       " '\"SP\"',\n",
       " '\"SUDESTE\"',\n",
       " '\"BRASIL\"',\n",
       " '\"AMÉRICA DO SUL\"',\n",
       " '\"SBTC\"',\n",
       " '\"UNA\"',\n",
       " '\"BA\"',\n",
       " '\"NORDESTE\"',\n",
       " '\"BRASIL\"',\n",
       " '\"AMÉRICA DO SUL\"',\n",
       " '\"DOMÉSTICA\"',\n",
       " '\"REGULAR\"',\n",
       " '\"490\"',\n",
       " '\"0\"',\n",
       " '\"110\"',\n",
       " '\"0\"',\n",
       " '\"0\"',\n",
       " '\"1061400\"',\n",
       " '\"597800\"',\n",
       " '\"96720\"',\n",
       " '\"53843\"',\n",
       " '\"22790\"',\n",
       " '\"6100\"',\n",
       " '\"5\"',\n",
       " '\"134200\"',\n",
       " '\"0\"',\n",
       " '\"0\"',\n",
       " '\"870\"',\n",
       " '\"79280\"',\n",
       " '\"9',\n",
       " '5\"',\n",
       " '\"7275\"',\n",
       " 'nan',\n",
       " 'nan',\n",
       " 'nan',\n",
       " 'nan']"
      ]
     },
     "execution_count": 103,
     "metadata": {},
     "output_type": "execute_result"
    }
   ],
   "source": [
    "b.iloc[i][b.columns[0]].split(';')"
   ]
  },
  {
   "cell_type": "code",
   "execution_count": null,
   "metadata": {},
   "outputs": [],
   "source": []
  }
 ],
 "metadata": {
  "hide_input": false,
  "kernelspec": {
   "display_name": "Python 3 (ipykernel)",
   "language": "python",
   "name": "python3"
  },
  "language_info": {
   "codemirror_mode": {
    "name": "ipython",
    "version": 3
   },
   "file_extension": ".py",
   "mimetype": "text/x-python",
   "name": "python",
   "nbconvert_exporter": "python",
   "pygments_lexer": "ipython3",
   "version": "3.9.7"
  },
  "latex_envs": {
   "LaTeX_envs_menu_present": true,
   "autoclose": false,
   "autocomplete": true,
   "bibliofile": "biblio.bib",
   "cite_by": "apalike",
   "current_citInitial": 1,
   "eqLabelWithNumbers": true,
   "eqNumInitial": 1,
   "hotkeys": {
    "equation": "Ctrl-E",
    "itemize": "Ctrl-I"
   },
   "labels_anchors": false,
   "latex_user_defs": false,
   "report_style_numbering": false,
   "user_envs_cfg": false
  },
  "varInspector": {
   "cols": {
    "lenName": 16,
    "lenType": 16,
    "lenVar": 40
   },
   "kernels_config": {
    "python": {
     "delete_cmd_postfix": "",
     "delete_cmd_prefix": "del ",
     "library": "var_list.py",
     "varRefreshCmd": "print(var_dic_list())"
    },
    "r": {
     "delete_cmd_postfix": ") ",
     "delete_cmd_prefix": "rm(",
     "library": "var_list.r",
     "varRefreshCmd": "cat(var_dic_list()) "
    }
   },
   "types_to_exclude": [
    "module",
    "function",
    "builtin_function_or_method",
    "instance",
    "_Feature"
   ],
   "window_display": false
  }
 },
 "nbformat": 4,
 "nbformat_minor": 2
}
