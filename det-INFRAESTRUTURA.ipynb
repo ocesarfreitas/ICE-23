{
 "cells": [
  {
   "cell_type": "code",
   "execution_count": 2,
   "metadata": {
    "ExecuteTime": {
     "end_time": "2022-09-06T21:26:03.814025Z",
     "start_time": "2022-09-06T21:26:02.926332Z"
    }
   },
   "outputs": [],
   "source": [
    "import pandas as pd\n",
    "import numpy as np\n",
    "from funcs import *"
   ]
  },
  {
   "cell_type": "code",
   "execution_count": 3,
   "metadata": {
    "ExecuteTime": {
     "end_time": "2022-09-06T21:26:03.856227Z",
     "start_time": "2022-09-06T21:26:03.839780Z"
    }
   },
   "outputs": [],
   "source": [
    "# ---------------------------------------------------------------------------------------------\n",
    "# 2.3. DETERMINANTE INFRAESTRUTURA\n",
    "\n",
    "infraestrutura = {}"
   ]
  },
  {
   "cell_type": "code",
   "execution_count": 4,
   "metadata": {
    "ExecuteTime": {
     "end_time": "2022-09-06T21:26:03.902781Z",
     "start_time": "2022-09-06T21:26:03.877067Z"
    }
   },
   "outputs": [],
   "source": [
    "# ---------------------------------------------------------------------------------------------\n",
    "# 2.3.1. Subdeterminante Transporte Interurbano\n",
    "\n",
    "subdet = 'Transporte Interurbano'"
   ]
  },
  {
   "cell_type": "code",
   "execution_count": 147,
   "metadata": {
    "ExecuteTime": {
     "end_time": "2022-09-07T15:03:45.810745Z",
     "start_time": "2022-09-07T15:03:45.791773Z"
    },
    "code_folding": []
   },
   "outputs": [],
   "source": [
    "# 2.3.1.1. Indicador Conectividade via Rodovias"
   ]
  },
  {
   "cell_type": "code",
   "execution_count": 156,
   "metadata": {
    "ExecuteTime": {
     "end_time": "2022-09-07T15:20:41.472204Z",
     "start_time": "2022-09-07T15:20:41.293396Z"
    }
   },
   "outputs": [],
   "source": [
    "# 2.3.1.2. Indicador Número de Decolagens por Ano\n",
    "\n",
    "deco = pd.read_csv('DETERMINANTE INFRAESTRUTURA/voos_brasil.csv').drop('sigla_aero',axis=1).rename(columns={\n",
    "    'sigla_uf':'sigla_uf_ref',\n",
    "    'nome':'nome_ref'\n",
    "})\n",
    "\n",
    "ref = pd.read_csv('https://raw.githubusercontent.com/manginidouglas/ice2021/main/infraestrutura/aeroportos/sd21_voos_completo.xlsx')\n",
    "ref['sigla_uf_ref'] = ref['sigla_uf_ref'].fillna(ref['sigla_uf'])\n",
    "ref['nome_ref'] = ref['nome_ref'].fillna(ref['nome'])\n",
    "ref = ref[['nome', 'sigla_uf','nome_ref','sigla_uf_ref']].rename(columns={\n",
    "    'sigla_uf':'UF',\n",
    "    'nome':'Município'\n",
    "})\n",
    "\n",
    "deco = pd.merge(deco,ref, how='inner', on=['nome_ref', 'sigla_uf_ref'])\n",
    "deco = deco.groupby(['Município','UF'], as_index=False).agg('sum').set_index(['Município', 'UF'])\n",
    "\n",
    "deco.to_csv('DETERMINANTE INFRAESTRUTURA/decolagens.csv') \n",
    "# salvando o indicador para mudar manualmente casos de letra maiuscula\n",
    "\n",
    "deco = pd.read_csv('DETERMINANTE INFRAESTRUTURA/decolagens.csv')"
   ]
  },
  {
   "cell_type": "code",
   "execution_count": 166,
   "metadata": {
    "ExecuteTime": {
     "end_time": "2022-09-07T16:06:26.857431Z",
     "start_time": "2022-09-07T16:06:26.823194Z"
    }
   },
   "outputs": [
    {
     "data": {
      "text/html": [
       "<div>\n",
       "<style scoped>\n",
       "    .dataframe tbody tr th:only-of-type {\n",
       "        vertical-align: middle;\n",
       "    }\n",
       "\n",
       "    .dataframe tbody tr th {\n",
       "        vertical-align: top;\n",
       "    }\n",
       "\n",
       "    .dataframe thead th {\n",
       "        text-align: right;\n",
       "    }\n",
       "</style>\n",
       "<table border=\"1\" class=\"dataframe\">\n",
       "  <thead>\n",
       "    <tr style=\"text-align: right;\">\n",
       "      <th></th>\n",
       "      <th></th>\n",
       "      <th>Distância ao Porto Mais Próximo</th>\n",
       "    </tr>\n",
       "    <tr>\n",
       "      <th>Município</th>\n",
       "      <th>UF</th>\n",
       "      <th></th>\n",
       "    </tr>\n",
       "  </thead>\n",
       "  <tbody>\n",
       "    <tr>\n",
       "      <th>Salvador</th>\n",
       "      <th>BA</th>\n",
       "      <td>0.200000</td>\n",
       "    </tr>\n",
       "    <tr>\n",
       "      <th>Guarujá</th>\n",
       "      <th>SP</th>\n",
       "      <td>0.166667</td>\n",
       "    </tr>\n",
       "    <tr>\n",
       "      <th>Porto Alegre</th>\n",
       "      <th>RS</th>\n",
       "      <td>0.166667</td>\n",
       "    </tr>\n",
       "    <tr>\n",
       "      <th>Niterói</th>\n",
       "      <th>RJ</th>\n",
       "      <td>0.142857</td>\n",
       "    </tr>\n",
       "    <tr>\n",
       "      <th>Natal</th>\n",
       "      <th>RN</th>\n",
       "      <td>0.142857</td>\n",
       "    </tr>\n",
       "    <tr>\n",
       "      <th>...</th>\n",
       "      <th>...</th>\n",
       "      <td>...</td>\n",
       "    </tr>\n",
       "    <tr>\n",
       "      <th>Brasília</th>\n",
       "      <th>DF</th>\n",
       "      <td>0.001136</td>\n",
       "    </tr>\n",
       "    <tr>\n",
       "      <th>Anápolis</th>\n",
       "      <th>GO</th>\n",
       "      <td>0.001125</td>\n",
       "    </tr>\n",
       "    <tr>\n",
       "      <th>Palmas</th>\n",
       "      <th>TO</th>\n",
       "      <td>0.001059</td>\n",
       "    </tr>\n",
       "    <tr>\n",
       "      <th>Várzea Grande</th>\n",
       "      <th>MT</th>\n",
       "      <td>0.000891</td>\n",
       "    </tr>\n",
       "    <tr>\n",
       "      <th>Cuiabá</th>\n",
       "      <th>MT</th>\n",
       "      <td>0.000876</td>\n",
       "    </tr>\n",
       "  </tbody>\n",
       "</table>\n",
       "<p>101 rows × 1 columns</p>\n",
       "</div>"
      ],
      "text/plain": [
       "                  Distância ao Porto Mais Próximo\n",
       "Município     UF                                 \n",
       "Salvador      BA                         0.200000\n",
       "Guarujá       SP                         0.166667\n",
       "Porto Alegre  RS                         0.166667\n",
       "Niterói       RJ                         0.142857\n",
       "Natal         RN                         0.142857\n",
       "...                                           ...\n",
       "Brasília      DF                         0.001136\n",
       "Anápolis      GO                         0.001125\n",
       "Palmas        TO                         0.001059\n",
       "Várzea Grande MT                         0.000891\n",
       "Cuiabá        MT                         0.000876\n",
       "\n",
       "[101 rows x 1 columns]"
      ]
     },
     "execution_count": 166,
     "metadata": {},
     "output_type": "execute_result"
    }
   ],
   "source": [
    "# 2.3.1.3. Indicador Distância ao Porto Mais Próximo\n",
    "\n",
    "portos = pd.read_csv('DETERMINANTE INFRAESTRUTURA/sd22_portos.csv').rename(columns={\n",
    "    'i213':'Distância ao Porto Mais Próximo',\n",
    "    'nome':'Município',\n",
    "    'sigla_uf':'UF'\n",
    "}).drop('id_municipio',axis=1).set_index(['Município', 'UF'])"
   ]
  },
  {
   "cell_type": "code",
   "execution_count": 148,
   "metadata": {
    "ExecuteTime": {
     "end_time": "2022-09-07T15:04:10.524033Z",
     "start_time": "2022-09-07T15:04:10.510069Z"
    }
   },
   "outputs": [],
   "source": [
    "# ---------------------------------------------------------------------------------------------\n",
    "# 2.3.2. Subdeterminante Condições Urbanas\n",
    "\n",
    "subdet = 'Condições Urbanas'"
   ]
  },
  {
   "cell_type": "code",
   "execution_count": 149,
   "metadata": {
    "ExecuteTime": {
     "end_time": "2022-09-07T15:04:24.567916Z",
     "start_time": "2022-09-07T15:04:10.630324Z"
    }
   },
   "outputs": [],
   "source": [
    "# 2.3.2.1. Indicador Acesso à Internet Rápida\n",
    "\n",
    "banda = pd.read_csv('DETERMINANTE INFRAESTRUTURA/Acessos_Banda_Larga_Fixa_2021.csv', sep=';')\n",
    "banda = banda.groupby(['Município', 'UF']).agg('sum')['Acessos']\n",
    "pop = pd.read_csv('AMOSTRA/100-municipios.csv').rename(columns={'NOME DO MUNICÍPIO':'Município'}).set_index(['Município', 'UF'])\n",
    "\n",
    "ind_int = pd.DataFrame()\n",
    "ind_int['Acesso à Internet Rápida'] = (banda/pop['POPULAÇÃO ESTIMADA']).dropna()\n",
    "sub_condurb = ind_int"
   ]
  },
  {
   "cell_type": "code",
   "execution_count": 108,
   "metadata": {
    "ExecuteTime": {
     "end_time": "2022-09-06T21:20:00.954251Z",
     "start_time": "2022-09-06T21:20:00.393330Z"
    }
   },
   "outputs": [],
   "source": [
    "# 2.3.2.2. Indicador Preço Médio do m²\n",
    "\n",
    "ind_m2 = pd.read_csv('DETERMINANTE INFRAESTRUTURA/sd22_m2_completo.csv')[['id_municipio', 'm2']]\n",
    "ind_m2['id_municipio'] = ind_m2['id_municipio'].apply(str)\n",
    "ind_m2 = ind_m2.set_index('id_municipio')\n",
    "\n",
    "ind_m2 = pd.merge(cod.reset_index().set_index('id_municipio'), ind_m2, left_index=True, right_index=True).reset_index(drop=True).set_index(['Município', 'UF'])\n",
    "sub_condurb['Preço Médio do m²'] = negative(ind_m2['m2'])"
   ]
  },
  {
   "cell_type": "code",
   "execution_count": 109,
   "metadata": {
    "ExecuteTime": {
     "end_time": "2022-09-06T21:20:01.288316Z",
     "start_time": "2022-09-06T21:20:01.075449Z"
    }
   },
   "outputs": [],
   "source": [
    "# 2.3.2.3. Indicador Custo da Energia Elétrica\n",
    "\n",
    "# COLETA REALIZADA EM 6 DE SETEMBRO\n",
    "\n",
    "distri = pd.read_csv('DETERMINANTE INFRAESTRUTURA/distribuidoras.csv').drop('UF', axis=1)\n",
    "distri['Distribuidora'] = distri['Distribuidora'].apply(lambda x: x.upper() if type(x) != type(1.5) else None)\n",
    "ranking = pd.read_excel('DETERMINANTE INFRAESTRUTURA/RankingB1.xlsx')[['Distribuidora', 'UF', 'Tarifa Convencional']]\n",
    "ranking['Distribuidora'] = ranking['Distribuidora'].apply(lambda x: x.upper() if type(x) != type(1.5) else None)\n",
    "\n",
    "atual = pd.merge(distri,ranking, on='Distribuidora').drop('Distribuidora', axis=1)\n",
    "\n",
    "# adicionar manualmente a media ponderada do preço nas cidades com mais de uma distribuidora\n",
    "atual = atual.append({\n",
    "    'Município':'Campina Grande',\n",
    "    'UF':'PB',\n",
    "    'Tarifa Convencional':0.568994603\n",
    "}, ignore_index=True)\n",
    "atual = atual.append({\n",
    "    'Município':'Duque de Caxias',\n",
    "    'UF':'RJ',\n",
    "    'Tarifa Convencional':0.817278973\n",
    "}, ignore_index=True)\n",
    "atual = atual.append({\n",
    "    'Município':'Petrópolis',\n",
    "    'UF':'RJ',\n",
    "    'Tarifa Convencional':0.826959994\n",
    "}, ignore_index=True)\n",
    "atual = atual.append({\n",
    "    'Município':'Santa Maria',\n",
    "    'UF':'RS',\n",
    "    'Tarifa Convencional':0.644020688\n",
    "}, ignore_index=True)\n",
    "atual = atual.append({\n",
    "    'Município':'Guarujá',\n",
    "    'UF':'SP',\n",
    "    'Tarifa Convencional':0.622065737\n",
    "}, ignore_index=True)\n",
    "atual = atual.append({\n",
    "    'Município':'Mogi das Cruzes',\n",
    "    'UF':'SP',\n",
    "    'Tarifa Convencional':0.637558772\n",
    "}, ignore_index=True)\n",
    "atual = atual.append({\n",
    "    'Município':'Praia Grande',\n",
    "    'UF':'SP',\n",
    "    'Tarifa Convencional':0.620542118\n",
    "}, ignore_index=True)\n",
    "atual = atual.append({\n",
    "    'Município':'Santos',\n",
    "    'UF':'SP',\n",
    "    'Tarifa Convencional':0.620119901\n",
    "}, ignore_index=True)\n",
    "atual = atual.append({\n",
    "    'Município':'São José do Rio Preto',\n",
    "    'UF':'SP',\n",
    "    'Tarifa Convencional':0.685554926\n",
    "}, ignore_index=True)\n",
    "atual = atual.append({\n",
    "    'Município':'São Paulo',\n",
    "    'UF':'SP',\n",
    "    'Tarifa Convencional':0.594588207\n",
    "}, ignore_index=True)\n",
    "atual = atual.append({\n",
    "    'Município':'Sorocaba',\n",
    "    'UF':'SP',\n",
    "    'Tarifa Convencional':0.620400308\n",
    "}, ignore_index=True)\n",
    "atual = atual.append({\n",
    "    'Município':'Suzano',\n",
    "    'UF':'SP',\n",
    "    'Tarifa Convencional':0.637468135\n",
    "}, ignore_index=True)\n",
    "atual = negative(atual.rename(columns={'Tarifa Convencional':'Custo da Energia Elétrica'}).set_index(['Município', 'UF']))\n",
    "sub_condurb = pd.merge(sub_condurb, atual, left_index=True, right_index=True)"
   ]
  },
  {
   "cell_type": "code",
   "execution_count": 110,
   "metadata": {
    "ExecuteTime": {
     "end_time": "2022-09-06T21:20:01.512376Z",
     "start_time": "2022-09-06T21:20:01.444831Z"
    },
    "run_control": {
     "marked": true
    }
   },
   "outputs": [],
   "source": [
    "# 2.3.2.4. Indicador Taxa de Homicídios\n",
    "\n",
    "deaths = pd.read_csv('DETERMINANTE INFRAESTRUTURA/A194712189_28_143_208.csv', encoding='latin-1',sep=';', header=4).head(-8)\n",
    "deaths['Município'] = deaths['Município'].apply(lambda x: x.split()[0])\n",
    "deaths = deaths.set_index('Município')\n",
    "\n",
    "a = pd.merge(cod, pop, left_index=True, right_index=True).reset_index()\n",
    "a['id_municipio'] = a['id_municipio'].apply(lambda x:x[:-1])\n",
    "a = a.set_index('id_municipio')[['Município', 'UF', 'POPULAÇÃO ESTIMADA']]\n",
    "\n",
    "deaths = pd.merge(a, deaths, left_index=True, right_index=True).reset_index(drop=True).set_index(['Município', 'UF'])\n",
    "ind_deaths = pd.DataFrame()\n",
    "ind_deaths['Taxa de Homicídios'] = negative(deaths['Óbitos_p/Ocorrênc']*100000/deaths['POPULAÇÃO ESTIMADA'])\n",
    "\n",
    "sub_condurb = pd.merge(sub_condurb, ind_deaths, left_index=True, right_index=True)"
   ]
  },
  {
   "cell_type": "code",
   "execution_count": 111,
   "metadata": {
    "ExecuteTime": {
     "end_time": "2022-09-06T21:20:01.904095Z",
     "start_time": "2022-09-06T21:20:01.607260Z"
    }
   },
   "outputs": [],
   "source": [
    "missing_data(sub_condurb)\n",
    "extreme_values(sub_condurb)\n",
    "create_subindex(sub_condurb, subdet)\n",
    "infraestrutura[subdet] = sub_condurb"
   ]
  }
 ],
 "metadata": {
  "hide_input": false,
  "kernelspec": {
   "display_name": "Python 3",
   "language": "python",
   "name": "python3"
  },
  "language_info": {
   "codemirror_mode": {
    "name": "ipython",
    "version": 3
   },
   "file_extension": ".py",
   "mimetype": "text/x-python",
   "name": "python",
   "nbconvert_exporter": "python",
   "pygments_lexer": "ipython3",
   "version": "3.7.4"
  },
  "latex_envs": {
   "LaTeX_envs_menu_present": true,
   "autoclose": false,
   "autocomplete": true,
   "bibliofile": "biblio.bib",
   "cite_by": "apalike",
   "current_citInitial": 1,
   "eqLabelWithNumbers": true,
   "eqNumInitial": 1,
   "hotkeys": {
    "equation": "Ctrl-E",
    "itemize": "Ctrl-I"
   },
   "labels_anchors": false,
   "latex_user_defs": false,
   "report_style_numbering": false,
   "user_envs_cfg": false
  },
  "varInspector": {
   "cols": {
    "lenName": 16,
    "lenType": 16,
    "lenVar": 40
   },
   "kernels_config": {
    "python": {
     "delete_cmd_postfix": "",
     "delete_cmd_prefix": "del ",
     "library": "var_list.py",
     "varRefreshCmd": "print(var_dic_list())"
    },
    "r": {
     "delete_cmd_postfix": ") ",
     "delete_cmd_prefix": "rm(",
     "library": "var_list.r",
     "varRefreshCmd": "cat(var_dic_list()) "
    }
   },
   "types_to_exclude": [
    "module",
    "function",
    "builtin_function_or_method",
    "instance",
    "_Feature"
   ],
   "window_display": false
  }
 },
 "nbformat": 4,
 "nbformat_minor": 2
}
