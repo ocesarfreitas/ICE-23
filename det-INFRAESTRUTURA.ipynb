{
 "cells": [
  {
   "cell_type": "code",
   "execution_count": 100,
   "metadata": {
    "ExecuteTime": {
     "end_time": "2022-09-06T21:19:29.473009Z",
     "start_time": "2022-09-06T21:19:29.464795Z"
    }
   },
   "outputs": [],
   "source": [
    "import pandas as pd\n",
    "import numpy as np\n",
    "from funcs import *"
   ]
  },
  {
   "cell_type": "code",
   "execution_count": 101,
   "metadata": {
    "ExecuteTime": {
     "end_time": "2022-09-06T21:19:29.644088Z",
     "start_time": "2022-09-06T21:19:29.637260Z"
    }
   },
   "outputs": [],
   "source": [
    "# ---------------------------------------------------------------------------------------------\n",
    "# 2.3. DETERMINANTE INFRAESTRUTURA\n",
    "\n",
    "infraestrutura = {}"
   ]
  },
  {
   "cell_type": "code",
   "execution_count": 102,
   "metadata": {
    "ExecuteTime": {
     "end_time": "2022-09-06T21:19:29.784538Z",
     "start_time": "2022-09-06T21:19:29.773326Z"
    }
   },
   "outputs": [],
   "source": [
    "# ---------------------------------------------------------------------------------------------\n",
    "# 2.3.1. Subdeterminante Transporte Interurbano\n",
    "\n",
    "subdet = 'Transporte Interurbano'"
   ]
  },
  {
   "cell_type": "code",
   "execution_count": 103,
   "metadata": {
    "ExecuteTime": {
     "end_time": "2022-09-06T21:19:29.946870Z",
     "start_time": "2022-09-06T21:19:29.928042Z"
    },
    "code_folding": []
   },
   "outputs": [],
   "source": [
    "# 2.3.1.1. Indicador Conectividade via Rodovias"
   ]
  },
  {
   "cell_type": "code",
   "execution_count": 104,
   "metadata": {
    "ExecuteTime": {
     "end_time": "2022-09-06T21:19:30.132107Z",
     "start_time": "2022-09-06T21:19:30.119894Z"
    }
   },
   "outputs": [],
   "source": [
    "# 2.3.1.2. Indicador Número de Decolagens por Ano"
   ]
  },
  {
   "cell_type": "code",
   "execution_count": 105,
   "metadata": {
    "ExecuteTime": {
     "end_time": "2022-09-06T21:19:30.310416Z",
     "start_time": "2022-09-06T21:19:30.296987Z"
    }
   },
   "outputs": [],
   "source": [
    "# 2.3.1.3. Indicador Distância ao Porto Mais Próximo"
   ]
  },
  {
   "cell_type": "code",
   "execution_count": 106,
   "metadata": {
    "ExecuteTime": {
     "end_time": "2022-09-06T21:19:30.481715Z",
     "start_time": "2022-09-06T21:19:30.470350Z"
    }
   },
   "outputs": [],
   "source": [
    "# ---------------------------------------------------------------------------------------------\n",
    "# 2.3.2. Subdeterminante Condições Urbanas\n",
    "\n",
    "subdet = 'Condições Urbanas'"
   ]
  },
  {
   "cell_type": "code",
   "execution_count": 107,
   "metadata": {
    "ExecuteTime": {
     "end_time": "2022-09-06T21:20:00.266766Z",
     "start_time": "2022-09-06T21:19:30.653112Z"
    }
   },
   "outputs": [],
   "source": [
    "# 2.3.2.1. Indicador Acesso à Internet Rápida\n",
    "\n",
    "banda = pd.read_csv('DETERMINANTE INFRAESTRUTURA/Acessos_Banda_Larga_Fixa_2021.csv', sep=';')\n",
    "banda = banda.groupby(['Município', 'UF']).agg('sum')['Acessos']\n",
    "pop = pd.read_csv('AMOSTRA/100-municipios.csv').rename(columns={'NOME DO MUNICÍPIO':'Município'}).set_index(['Município', 'UF'])\n",
    "\n",
    "ind_int = pd.DataFrame()\n",
    "ind_int['Acesso à Internet Rápida'] = (banda/pop['POPULAÇÃO ESTIMADA']).dropna()\n",
    "sub_condurb = ind_int"
   ]
  },
  {
   "cell_type": "code",
   "execution_count": 108,
   "metadata": {
    "ExecuteTime": {
     "end_time": "2022-09-06T21:20:00.954251Z",
     "start_time": "2022-09-06T21:20:00.393330Z"
    }
   },
   "outputs": [],
   "source": [
    "# 2.3.2.2. Indicador Preço Médio do m²\n",
    "\n",
    "ind_m2 = pd.read_csv('DETERMINANTE INFRAESTRUTURA/sd22_m2_completo.csv')[['id_municipio', 'm2']]\n",
    "ind_m2['id_municipio'] = ind_m2['id_municipio'].apply(str)\n",
    "ind_m2 = ind_m2.set_index('id_municipio')\n",
    "\n",
    "cod = pd.read_excel('DETERMINANTE INFRAESTRUTURA/RELATORIO_DTB_BRASIL_MUNICIPIO.xls')\n",
    "cod = cod.rename(columns={'Código Município Completo':'id_municipio'})\n",
    "cod['id_municipio'] = cod['id_municipio'].apply(str)\n",
    "cod = cod[['Nome_Município','Nome_UF','id_municipio']].rename(columns={\n",
    "    'Nome_Município':'Município',\n",
    "    'Nome_UF':'UF'\n",
    "}).set_index(['Município', 'UF'])\n",
    "\n",
    "ind_m2 = pd.merge(cod.reset_index().set_index('id_municipio'), ind_m2, left_index=True, right_index=True).reset_index(drop=True).set_index(['Município', 'UF'])\n",
    "sub_condurb['Preço Médio do m²'] = negative(ind_m2['m2'])"
   ]
  },
  {
   "cell_type": "code",
   "execution_count": 109,
   "metadata": {
    "ExecuteTime": {
     "end_time": "2022-09-06T21:20:01.288316Z",
     "start_time": "2022-09-06T21:20:01.075449Z"
    }
   },
   "outputs": [],
   "source": [
    "# 2.3.2.3. Indicador Custo da Energia Elétrica\n",
    "\n",
    "# COLETA REALIZADA EM 6 DE SETEMBRO\n",
    "\n",
    "distri = pd.read_csv('DETERMINANTE INFRAESTRUTURA/distribuidoras.csv').drop('UF', axis=1)\n",
    "distri['Distribuidora'] = distri['Distribuidora'].apply(lambda x: x.upper() if type(x) != type(1.5) else None)\n",
    "ranking = pd.read_excel('DETERMINANTE INFRAESTRUTURA/RankingB1.xlsx')[['Distribuidora', 'UF', 'Tarifa Convencional']]\n",
    "ranking['Distribuidora'] = ranking['Distribuidora'].apply(lambda x: x.upper() if type(x) != type(1.5) else None)\n",
    "\n",
    "atual = pd.merge(distri,ranking, on='Distribuidora').drop('Distribuidora', axis=1)\n",
    "\n",
    "# adicionar manualmente a media ponderada do preço nas cidades com mais de uma distribuidora\n",
    "atual = atual.append({\n",
    "    'Município':'Campina Grande',\n",
    "    'UF':'PB',\n",
    "    'Tarifa Convencional':0.568994603\n",
    "}, ignore_index=True)\n",
    "atual = atual.append({\n",
    "    'Município':'Duque de Caxias',\n",
    "    'UF':'RJ',\n",
    "    'Tarifa Convencional':0.817278973\n",
    "}, ignore_index=True)\n",
    "atual = atual.append({\n",
    "    'Município':'Petrópolis',\n",
    "    'UF':'RJ',\n",
    "    'Tarifa Convencional':0.826959994\n",
    "}, ignore_index=True)\n",
    "atual = atual.append({\n",
    "    'Município':'Santa Maria',\n",
    "    'UF':'RS',\n",
    "    'Tarifa Convencional':0.644020688\n",
    "}, ignore_index=True)\n",
    "atual = atual.append({\n",
    "    'Município':'Guarujá',\n",
    "    'UF':'SP',\n",
    "    'Tarifa Convencional':0.622065737\n",
    "}, ignore_index=True)\n",
    "atual = atual.append({\n",
    "    'Município':'Mogi das Cruzes',\n",
    "    'UF':'SP',\n",
    "    'Tarifa Convencional':0.637558772\n",
    "}, ignore_index=True)\n",
    "atual = atual.append({\n",
    "    'Município':'Praia Grande',\n",
    "    'UF':'SP',\n",
    "    'Tarifa Convencional':0.620542118\n",
    "}, ignore_index=True)\n",
    "atual = atual.append({\n",
    "    'Município':'Santos',\n",
    "    'UF':'SP',\n",
    "    'Tarifa Convencional':0.620119901\n",
    "}, ignore_index=True)\n",
    "atual = atual.append({\n",
    "    'Município':'São José do Rio Preto',\n",
    "    'UF':'SP',\n",
    "    'Tarifa Convencional':0.685554926\n",
    "}, ignore_index=True)\n",
    "atual = atual.append({\n",
    "    'Município':'São Paulo',\n",
    "    'UF':'SP',\n",
    "    'Tarifa Convencional':0.594588207\n",
    "}, ignore_index=True)\n",
    "atual = atual.append({\n",
    "    'Município':'Sorocaba',\n",
    "    'UF':'SP',\n",
    "    'Tarifa Convencional':0.620400308\n",
    "}, ignore_index=True)\n",
    "atual = atual.append({\n",
    "    'Município':'Suzano',\n",
    "    'UF':'SP',\n",
    "    'Tarifa Convencional':0.637468135\n",
    "}, ignore_index=True)\n",
    "atual = negative(atual.rename(columns={'Tarifa Convencional':'Custo da Energia Elétrica'}).set_index(['Município', 'UF']))\n",
    "sub_condurb = pd.merge(sub_condurb, atual, left_index=True, right_index=True)"
   ]
  },
  {
   "cell_type": "code",
   "execution_count": 110,
   "metadata": {
    "ExecuteTime": {
     "end_time": "2022-09-06T21:20:01.512376Z",
     "start_time": "2022-09-06T21:20:01.444831Z"
    },
    "run_control": {
     "marked": true
    }
   },
   "outputs": [],
   "source": [
    "# 2.3.2.4. Indicador Taxa de Homicídios\n",
    "\n",
    "deaths = pd.read_csv('DETERMINANTE INFRAESTRUTURA/A194712189_28_143_208.csv', encoding='latin-1',sep=';', header=4).head(-8)\n",
    "deaths['Município'] = deaths['Município'].apply(lambda x: x.split()[0])\n",
    "deaths = deaths.set_index('Município')\n",
    "\n",
    "a = pd.merge(cod, pop, left_index=True, right_index=True).reset_index()\n",
    "a['id_municipio'] = a['id_municipio'].apply(lambda x:x[:-1])\n",
    "a = a.set_index('id_municipio')[['Município', 'UF', 'POPULAÇÃO ESTIMADA']]\n",
    "\n",
    "deaths = pd.merge(a, deaths, left_index=True, right_index=True).reset_index(drop=True).set_index(['Município', 'UF'])\n",
    "ind_deaths = pd.DataFrame()\n",
    "ind_deaths['Taxa de Homicídios'] = negative(deaths['Óbitos_p/Ocorrênc']*100000/deaths['POPULAÇÃO ESTIMADA'])\n",
    "\n",
    "sub_condurb = pd.merge(sub_condurb, ind_deaths, left_index=True, right_index=True)"
   ]
  },
  {
   "cell_type": "code",
   "execution_count": 111,
   "metadata": {
    "ExecuteTime": {
     "end_time": "2022-09-06T21:20:01.904095Z",
     "start_time": "2022-09-06T21:20:01.607260Z"
    }
   },
   "outputs": [],
   "source": [
    "missing_data(sub_condurb)\n",
    "extreme_values(sub_condurb)\n",
    "create_subindex(sub_condurb, subdet)\n",
    "infraestrutura[subdet] = sub_condurb"
   ]
  }
 ],
 "metadata": {
  "hide_input": false,
  "kernelspec": {
   "display_name": "Python 3",
   "language": "python",
   "name": "python3"
  },
  "language_info": {
   "codemirror_mode": {
    "name": "ipython",
    "version": 3
   },
   "file_extension": ".py",
   "mimetype": "text/x-python",
   "name": "python",
   "nbconvert_exporter": "python",
   "pygments_lexer": "ipython3",
   "version": "3.7.4"
  },
  "latex_envs": {
   "LaTeX_envs_menu_present": true,
   "autoclose": false,
   "autocomplete": true,
   "bibliofile": "biblio.bib",
   "cite_by": "apalike",
   "current_citInitial": 1,
   "eqLabelWithNumbers": true,
   "eqNumInitial": 1,
   "hotkeys": {
    "equation": "Ctrl-E",
    "itemize": "Ctrl-I"
   },
   "labels_anchors": false,
   "latex_user_defs": false,
   "report_style_numbering": false,
   "user_envs_cfg": false
  },
  "varInspector": {
   "cols": {
    "lenName": 16,
    "lenType": 16,
    "lenVar": 40
   },
   "kernels_config": {
    "python": {
     "delete_cmd_postfix": "",
     "delete_cmd_prefix": "del ",
     "library": "var_list.py",
     "varRefreshCmd": "print(var_dic_list())"
    },
    "r": {
     "delete_cmd_postfix": ") ",
     "delete_cmd_prefix": "rm(",
     "library": "var_list.r",
     "varRefreshCmd": "cat(var_dic_list()) "
    }
   },
   "types_to_exclude": [
    "module",
    "function",
    "builtin_function_or_method",
    "instance",
    "_Feature"
   ],
   "window_display": false
  }
 },
 "nbformat": 4,
 "nbformat_minor": 2
}
