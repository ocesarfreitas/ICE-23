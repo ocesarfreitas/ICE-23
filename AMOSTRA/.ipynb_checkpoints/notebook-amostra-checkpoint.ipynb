{
 "cells": [
  {
   "cell_type": "code",
   "execution_count": 2,
   "metadata": {
    "ExecuteTime": {
     "end_time": "2022-08-10T21:19:09.893723Z",
     "start_time": "2022-08-10T21:19:06.841852Z"
    },
    "run_control": {
     "marked": true
    }
   },
   "outputs": [],
   "source": [
    "import pandas as pd"
   ]
  },
  {
   "cell_type": "code",
   "execution_count": 3,
   "metadata": {
    "ExecuteTime": {
     "end_time": "2022-08-10T21:19:10.809488Z",
     "start_time": "2022-08-10T21:19:09.911826Z"
    }
   },
   "outputs": [],
   "source": [
    "df = pd.read_excel('POP2021_20220711.xls', 'Municípios')\n",
    "df = df.head(-32)\n",
    "df.columns = df.iloc[0]\n",
    "df = df.drop(0)\n",
    "df.index = range(len(df))\n",
    "for i in range(len(df)):\n",
    "    if type(df.iloc[i]['POPULAÇÃO ESTIMADA']) == str:\n",
    "        pop = int(df.iloc[i]['POPULAÇÃO ESTIMADA'].split('(')[0].replace('.',''))\n",
    "        df.at[i, 'POPULAÇÃO ESTIMADA'] = pop\n",
    "top100 = df.sort_values(by=['POPULAÇÃO ESTIMADA'], ascending=False).head(100)"
   ]
  },
  {
   "cell_type": "code",
   "execution_count": 4,
   "metadata": {
    "ExecuteTime": {
     "end_time": "2022-08-10T21:19:10.904273Z",
     "start_time": "2022-08-10T21:19:10.860391Z"
    }
   },
   "outputs": [
    {
     "data": {
      "text/html": [
       "<div>\n",
       "<style scoped>\n",
       "    .dataframe tbody tr th:only-of-type {\n",
       "        vertical-align: middle;\n",
       "    }\n",
       "\n",
       "    .dataframe tbody tr th {\n",
       "        vertical-align: top;\n",
       "    }\n",
       "\n",
       "    .dataframe thead th {\n",
       "        text-align: right;\n",
       "    }\n",
       "</style>\n",
       "<table border=\"1\" class=\"dataframe\">\n",
       "  <thead>\n",
       "    <tr style=\"text-align: right;\">\n",
       "      <th></th>\n",
       "      <th>UF</th>\n",
       "      <th>COD. UF</th>\n",
       "      <th>COD. MUNIC</th>\n",
       "      <th>NOME DO MUNICÍPIO</th>\n",
       "      <th>POPULAÇÃO ESTIMADA</th>\n",
       "    </tr>\n",
       "  </thead>\n",
       "  <tbody>\n",
       "    <tr>\n",
       "      <th>3829</th>\n",
       "      <td>SP</td>\n",
       "      <td>35</td>\n",
       "      <td>50308</td>\n",
       "      <td>São Paulo</td>\n",
       "      <td>12396372</td>\n",
       "    </tr>\n",
       "    <tr>\n",
       "      <th>3242</th>\n",
       "      <td>RJ</td>\n",
       "      <td>33</td>\n",
       "      <td>04557</td>\n",
       "      <td>Rio de Janeiro</td>\n",
       "      <td>6775561</td>\n",
       "    </tr>\n",
       "    <tr>\n",
       "      <th>5569</th>\n",
       "      <td>DF</td>\n",
       "      <td>53</td>\n",
       "      <td>00108</td>\n",
       "      <td>Brasília</td>\n",
       "      <td>3094325</td>\n",
       "    </tr>\n",
       "    <tr>\n",
       "      <th>2162</th>\n",
       "      <td>BA</td>\n",
       "      <td>29</td>\n",
       "      <td>27408</td>\n",
       "      <td>Salvador</td>\n",
       "      <td>2900319</td>\n",
       "    </tr>\n",
       "    <tr>\n",
       "      <th>949</th>\n",
       "      <td>CE</td>\n",
       "      <td>23</td>\n",
       "      <td>04400</td>\n",
       "      <td>Fortaleza</td>\n",
       "      <td>2703391</td>\n",
       "    </tr>\n",
       "    <tr>\n",
       "      <th>...</th>\n",
       "      <td>...</td>\n",
       "      <td>...</td>\n",
       "      <td>...</td>\n",
       "      <td>...</td>\n",
       "      <td>...</td>\n",
       "    </tr>\n",
       "    <tr>\n",
       "      <th>3855</th>\n",
       "      <td>SP</td>\n",
       "      <td>35</td>\n",
       "      <td>52809</td>\n",
       "      <td>Taboão da Serra</td>\n",
       "      <td>297528</td>\n",
       "    </tr>\n",
       "    <tr>\n",
       "      <th>5316</th>\n",
       "      <td>MT</td>\n",
       "      <td>51</td>\n",
       "      <td>08402</td>\n",
       "      <td>Várzea Grande</td>\n",
       "      <td>290383</td>\n",
       "    </tr>\n",
       "    <tr>\n",
       "      <th>3850</th>\n",
       "      <td>SP</td>\n",
       "      <td>35</td>\n",
       "      <td>52403</td>\n",
       "      <td>Sumaré</td>\n",
       "      <td>289875</td>\n",
       "    </tr>\n",
       "    <tr>\n",
       "      <th>216</th>\n",
       "      <td>PA</td>\n",
       "      <td>15</td>\n",
       "      <td>04208</td>\n",
       "      <td>Marabá</td>\n",
       "      <td>287664</td>\n",
       "    </tr>\n",
       "    <tr>\n",
       "      <th>4791</th>\n",
       "      <td>RS</td>\n",
       "      <td>43</td>\n",
       "      <td>09209</td>\n",
       "      <td>Gravataí</td>\n",
       "      <td>285564</td>\n",
       "    </tr>\n",
       "  </tbody>\n",
       "</table>\n",
       "<p>100 rows × 5 columns</p>\n",
       "</div>"
      ],
      "text/plain": [
       "0     UF COD. UF COD. MUNIC NOME DO MUNICÍPIO POPULAÇÃO ESTIMADA\n",
       "3829  SP      35      50308         São Paulo           12396372\n",
       "3242  RJ      33      04557    Rio de Janeiro            6775561\n",
       "5569  DF      53      00108          Brasília            3094325\n",
       "2162  BA      29      27408          Salvador            2900319\n",
       "949   CE      23      04400         Fortaleza            2703391\n",
       "...   ..     ...        ...               ...                ...\n",
       "3855  SP      35      52809   Taboão da Serra             297528\n",
       "5316  MT      51      08402     Várzea Grande             290383\n",
       "3850  SP      35      52403            Sumaré             289875\n",
       "216   PA      15      04208            Marabá             287664\n",
       "4791  RS      43      09209          Gravataí             285564\n",
       "\n",
       "[100 rows x 5 columns]"
      ]
     },
     "execution_count": 4,
     "metadata": {},
     "output_type": "execute_result"
    }
   ],
   "source": [
    "top100"
   ]
  },
  {
   "cell_type": "code",
   "execution_count": 5,
   "metadata": {
    "ExecuteTime": {
     "end_time": "2022-08-10T21:19:13.038838Z",
     "start_time": "2022-08-10T21:19:10.955138Z"
    }
   },
   "outputs": [
    {
     "data": {
      "text/html": [
       "<div>\n",
       "<style scoped>\n",
       "    .dataframe tbody tr th:only-of-type {\n",
       "        vertical-align: middle;\n",
       "    }\n",
       "\n",
       "    .dataframe tbody tr th {\n",
       "        vertical-align: top;\n",
       "    }\n",
       "\n",
       "    .dataframe thead th {\n",
       "        text-align: right;\n",
       "    }\n",
       "</style>\n",
       "<table border=\"1\" class=\"dataframe\">\n",
       "  <thead>\n",
       "    <tr style=\"text-align: right;\">\n",
       "      <th></th>\n",
       "      <th>Município</th>\n",
       "    </tr>\n",
       "  </thead>\n",
       "  <tbody>\n",
       "    <tr>\n",
       "      <th>0</th>\n",
       "      <td>São Paulo</td>\n",
       "    </tr>\n",
       "    <tr>\n",
       "      <th>1</th>\n",
       "      <td>Florianópolis</td>\n",
       "    </tr>\n",
       "    <tr>\n",
       "      <th>2</th>\n",
       "      <td>Curitiba</td>\n",
       "    </tr>\n",
       "    <tr>\n",
       "      <th>3</th>\n",
       "      <td>Vitória</td>\n",
       "    </tr>\n",
       "    <tr>\n",
       "      <th>4</th>\n",
       "      <td>Belo Horizonte</td>\n",
       "    </tr>\n",
       "    <tr>\n",
       "      <th>...</th>\n",
       "      <td>...</td>\n",
       "    </tr>\n",
       "    <tr>\n",
       "      <th>96</th>\n",
       "      <td>São João de Meriti</td>\n",
       "    </tr>\n",
       "    <tr>\n",
       "      <th>97</th>\n",
       "      <td>Caucaia</td>\n",
       "    </tr>\n",
       "    <tr>\n",
       "      <th>98</th>\n",
       "      <td>Ribeirão das Neves</td>\n",
       "    </tr>\n",
       "    <tr>\n",
       "      <th>99</th>\n",
       "      <td>Itaquaquecetuba</td>\n",
       "    </tr>\n",
       "    <tr>\n",
       "      <th>100</th>\n",
       "      <td>Belford Roxo</td>\n",
       "    </tr>\n",
       "  </tbody>\n",
       "</table>\n",
       "<p>101 rows × 1 columns</p>\n",
       "</div>"
      ],
      "text/plain": [
       "              Município\n",
       "0             São Paulo\n",
       "1         Florianópolis\n",
       "2              Curitiba\n",
       "3               Vitória\n",
       "4        Belo Horizonte\n",
       "..                  ...\n",
       "96   São João de Meriti\n",
       "97              Caucaia\n",
       "98   Ribeirão das Neves\n",
       "99      Itaquaquecetuba\n",
       "100        Belford Roxo\n",
       "\n",
       "[101 rows x 1 columns]"
      ]
     },
     "execution_count": 5,
     "metadata": {},
     "output_type": "execute_result"
    }
   ],
   "source": [
    "am = pd.read_excel('Amostra.xlsx')\n",
    "for i in range(len(am)):\n",
    "    name = am['Município'][i].split('-')[0].strip()\n",
    "    am.at[i,'Município'] = name\n",
    "    \n",
    "am"
   ]
  },
  {
   "cell_type": "code",
   "execution_count": 6,
   "metadata": {
    "ExecuteTime": {
     "end_time": "2022-08-10T21:19:13.086695Z",
     "start_time": "2022-08-10T21:19:13.075727Z"
    },
    "run_control": {
     "marked": true
    }
   },
   "outputs": [
    {
     "data": {
      "text/plain": [
       "101"
      ]
     },
     "execution_count": 6,
     "metadata": {},
     "output_type": "execute_result"
    }
   ],
   "source": [
    "def Union(lst1, lst2):\n",
    "    final_list = list(set(lst1) | set(lst2))\n",
    "    return final_list\n",
    "\n",
    "final_sample = Union(am['Município'],top100['NOME DO MUNICÍPIO'])\n",
    "len(final_sample)"
   ]
  },
  {
   "cell_type": "code",
   "execution_count": 7,
   "metadata": {
    "ExecuteTime": {
     "end_time": "2022-08-10T21:19:13.150522Z",
     "start_time": "2022-08-10T21:19:13.138556Z"
    }
   },
   "outputs": [
    {
     "name": "stdout",
     "output_type": "stream",
     "text": [
      "Santa Maria\n"
     ]
    }
   ],
   "source": [
    "for i in am['Município']:\n",
    "    if i not in list(top100['NOME DO MUNICÍPIO']):\n",
    "        print(i)"
   ]
  },
  {
   "cell_type": "code",
   "execution_count": 8,
   "metadata": {
    "ExecuteTime": {
     "end_time": "2022-08-10T21:19:13.194138Z",
     "start_time": "2022-08-10T21:19:13.183146Z"
    }
   },
   "outputs": [
    {
     "data": {
      "text/plain": [
       "101"
      ]
     },
     "execution_count": 8,
     "metadata": {},
     "output_type": "execute_result"
    }
   ],
   "source": [
    "len(am['Município'])"
   ]
  },
  {
   "cell_type": "code",
   "execution_count": 9,
   "metadata": {
    "ExecuteTime": {
     "end_time": "2022-08-10T21:19:13.240994Z",
     "start_time": "2022-08-10T21:19:13.230020Z"
    }
   },
   "outputs": [
    {
     "data": {
      "text/plain": [
       "100"
      ]
     },
     "execution_count": 9,
     "metadata": {},
     "output_type": "execute_result"
    }
   ],
   "source": [
    "len(top100['NOME DO MUNICÍPIO'])"
   ]
  },
  {
   "cell_type": "code",
   "execution_count": 12,
   "metadata": {
    "ExecuteTime": {
     "end_time": "2022-08-10T21:25:33.679663Z",
     "start_time": "2022-08-10T21:25:33.669710Z"
    }
   },
   "outputs": [],
   "source": [
    "top100.to_csv('100-municipios.csv', index=False)"
   ]
  },
  {
   "cell_type": "code",
   "execution_count": null,
   "metadata": {},
   "outputs": [],
   "source": []
  }
 ],
 "metadata": {
  "hide_input": false,
  "kernelspec": {
   "display_name": "Python 3",
   "language": "python",
   "name": "python3"
  },
  "language_info": {
   "codemirror_mode": {
    "name": "ipython",
    "version": 3
   },
   "file_extension": ".py",
   "mimetype": "text/x-python",
   "name": "python",
   "nbconvert_exporter": "python",
   "pygments_lexer": "ipython3",
   "version": "3.7.4"
  },
  "varInspector": {
   "cols": {
    "lenName": 16,
    "lenType": 16,
    "lenVar": 40
   },
   "kernels_config": {
    "python": {
     "delete_cmd_postfix": "",
     "delete_cmd_prefix": "del ",
     "library": "var_list.py",
     "varRefreshCmd": "print(var_dic_list())"
    },
    "r": {
     "delete_cmd_postfix": ") ",
     "delete_cmd_prefix": "rm(",
     "library": "var_list.r",
     "varRefreshCmd": "cat(var_dic_list()) "
    }
   },
   "types_to_exclude": [
    "module",
    "function",
    "builtin_function_or_method",
    "instance",
    "_Feature"
   ],
   "window_display": false
  }
 },
 "nbformat": 4,
 "nbformat_minor": 2
}
