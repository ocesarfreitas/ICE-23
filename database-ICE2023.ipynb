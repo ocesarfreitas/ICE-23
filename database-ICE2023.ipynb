{
 "cells": [
  {
   "cell_type": "code",
   "execution_count": 101,
   "metadata": {
    "ExecuteTime": {
     "end_time": "2022-09-11T19:50:41.754219Z",
     "start_time": "2022-09-11T19:50:39.616142Z"
    }
   },
   "outputs": [],
   "source": [
    "import pandas as pd\n",
    "import numpy as np\n",
    "from funcs import *\n",
    "import os\n",
    "from scipy.stats import spearmanr"
   ]
  },
  {
   "cell_type": "code",
   "execution_count": 19,
   "metadata": {
    "ExecuteTime": {
     "end_time": "2022-08-15T22:19:17.904418Z",
     "start_time": "2022-08-15T22:19:17.890361Z"
    }
   },
   "outputs": [],
   "source": [
    "database = pd.DataFrame()\n",
    "df = {}"
   ]
  },
  {
   "cell_type": "code",
   "execution_count": 113,
   "metadata": {
    "ExecuteTime": {
     "end_time": "2022-09-11T19:54:06.172446Z",
     "start_time": "2022-09-11T19:54:06.007810Z"
    },
    "scrolled": true
   },
   "outputs": [
    {
     "name": "stderr",
     "output_type": "stream",
     "text": [
      "C:\\ProgramData\\Anaconda3\\lib\\site-packages\\IPython\\core\\interactiveshell.py:2855: PerformanceWarning: indexing past lexsort depth may impact performance.\n",
      "  raw_cell, store_history, silent, shell_futures)\n",
      "C:\\Users\\vitor\\AppData\\Roaming\\Python\\Python37\\site-packages\\ipykernel_launcher.py:13: FutureWarning: merging between different levels is deprecated and will be removed in a future version. (1 levels on the left,4 on the right)\n",
      "  del sys.path[0]\n"
     ]
    }
   ],
   "source": [
    "ice23 = pd.read_csv('DETERMINANTES/ICE-2023.csv', encoding='latin-1')\n",
    "ind23 = [i for i in ice23.columns if i.split()[0] == 'Índice']\n",
    "ice23 = ice23[ind23]\n",
    "\n",
    "ice22 = pd.read_excel('Arquivos ICE - 23/Ind_Originais_ICE_2022.xlsx', header=[i for i in range(6)], index_col=[0,1])\n",
    "ind22 = [(' '.join(i.split()[2:]),i) for i in ind23][:-1]\n",
    "\n",
    "df = pd.DataFrame()\n",
    "df.index = ice22.index\n",
    "\n",
    "for  i in ind22:\n",
    "    \n",
    "    df = pd.merge(df, ice22[i], left_index=True, right_index=True)\n",
    "#pd.merge([ice22[i] for i in ind22[:2]], left_index=True, right_index=True)\n",
    "df.columns = ind23[:-1]\n",
    "ice22 = df\n",
    "\n",
    "pd.DataFrame([{i: spearmanr(ice23[i], ice22[i]) for i in ind23[:-1]}]).T.rename(columns={0:'(Correlação 2022-2023, p-valor)'}).to_csv('correlation.csv')"
   ]
  }
 ],
 "metadata": {
  "hide_input": false,
  "kernelspec": {
   "display_name": "Python 3",
   "language": "python",
   "name": "python3"
  },
  "language_info": {
   "codemirror_mode": {
    "name": "ipython",
    "version": 3
   },
   "file_extension": ".py",
   "mimetype": "text/x-python",
   "name": "python",
   "nbconvert_exporter": "python",
   "pygments_lexer": "ipython3",
   "version": "3.7.4"
  },
  "latex_envs": {
   "LaTeX_envs_menu_present": true,
   "autoclose": false,
   "autocomplete": true,
   "bibliofile": "biblio.bib",
   "cite_by": "apalike",
   "current_citInitial": 1,
   "eqLabelWithNumbers": true,
   "eqNumInitial": 1,
   "hotkeys": {
    "equation": "Ctrl-E",
    "itemize": "Ctrl-I"
   },
   "labels_anchors": false,
   "latex_user_defs": false,
   "report_style_numbering": false,
   "user_envs_cfg": false
  },
  "varInspector": {
   "cols": {
    "lenName": 16,
    "lenType": 16,
    "lenVar": 40
   },
   "kernels_config": {
    "python": {
     "delete_cmd_postfix": "",
     "delete_cmd_prefix": "del ",
     "library": "var_list.py",
     "varRefreshCmd": "print(var_dic_list())"
    },
    "r": {
     "delete_cmd_postfix": ") ",
     "delete_cmd_prefix": "rm(",
     "library": "var_list.r",
     "varRefreshCmd": "cat(var_dic_list()) "
    }
   },
   "types_to_exclude": [
    "module",
    "function",
    "builtin_function_or_method",
    "instance",
    "_Feature"
   ],
   "window_display": false
  }
 },
 "nbformat": 4,
 "nbformat_minor": 2
}
