{
 "cells": [
  {
   "cell_type": "code",
   "execution_count": 2,
   "metadata": {
    "ExecuteTime": {
     "end_time": "2022-08-15T22:17:02.429418Z",
     "start_time": "2022-08-15T22:17:01.973235Z"
    }
   },
   "outputs": [],
   "source": [
    "import pandas as pd\n",
    "import numpy as np\n",
    "import multiprocessing\n",
    "import glob"
   ]
  },
  {
   "cell_type": "code",
   "execution_count": 3,
   "metadata": {
    "ExecuteTime": {
     "end_time": "2022-08-15T22:17:02.476675Z",
     "start_time": "2022-08-15T22:17:02.464329Z"
    },
    "code_folding": []
   },
   "outputs": [],
   "source": [
    "# 3.1. Tratamento para Indicadores com Impacto Negativo no Empreendedorismo\n",
    "\n",
    "def negative(series):\n",
    "    \n",
    "    series = 1/series\n",
    "    \n",
    "    return series.replace(np.inf, 0)\n",
    "    "
   ]
  },
  {
   "cell_type": "code",
   "execution_count": 4,
   "metadata": {
    "ExecuteTime": {
     "end_time": "2022-08-15T22:17:02.523550Z",
     "start_time": "2022-08-15T22:17:02.511581Z"
    },
    "code_folding": [
     0
    ]
   },
   "outputs": [],
   "source": [
    "# 3.2. Tratamento para Observações Faltantes (missing data)\n",
    "\n",
    "def missing_data(df):\n",
    "    \n",
    "    ind = pd.read_excel('Arquivos ICE - 23/Ind_Originais_ICE_2022.xlsx')\n",
    "    ind.columns = ind.iloc[1]\n",
    "    ind.columns.values[0] = 'Município'\n",
    "    ind = ind.set_index('Município')\n",
    "    ind = ind.tail(101)\n",
    "    \n",
    "    for c in df.columns:\n",
    "        if c in ind.columns:\n",
    "            if df[c].isna().sum()/len(df) > 0.3:\n",
    "                df[c].fillna(ind[c], inplace=True)\n",
    "        \n",
    "        df[c].fillna(0)\n",
    "                \n",
    "    return df\n"
   ]
  },
  {
   "cell_type": "code",
   "execution_count": 5,
   "metadata": {
    "ExecuteTime": {
     "end_time": "2022-08-15T22:17:02.601340Z",
     "start_time": "2022-08-15T22:17:02.573446Z"
    },
    "code_folding": [
     0
    ]
   },
   "outputs": [],
   "source": [
    "# 3.3. Tratamento para Valores Extremos\n",
    "\n",
    "def extreme_values(df):\n",
    "    \n",
    "    for c in df.columns:\n",
    "    \n",
    "        top_values = [i for i in df[c] if i > df[c].quantile(0.98)]\n",
    "        bottom_values = [i for i in df[c] if i < df[c].quantile(0.02)]\n",
    "        removed = []\n",
    "\n",
    "        if len(top_values) > 1:\n",
    "            for i in top_values:\n",
    "                nlist = [t for t in top_values if t != i]\n",
    "                if i >= 5*sum(nlist)/(len(nlist)):\n",
    "                    removed.append(i)\n",
    "\n",
    "        if len(top_values) > 1:\n",
    "            for j in bottom_values:\n",
    "                if i <= 5*sum(top_values.remove(i))/(len(top_values)-1):\n",
    "                    removed.append(j)\n",
    "\n",
    "        for r in df.index:\n",
    "            if df.loc[r,c] in removed:\n",
    "                df.iat[r,c] = 0\n",
    "            \n",
    "    return df"
   ]
  },
  {
   "cell_type": "code",
   "execution_count": 6,
   "metadata": {
    "ExecuteTime": {
     "end_time": "2022-08-15T22:17:02.679982Z",
     "start_time": "2022-08-15T22:17:02.660031Z"
    },
    "run_control": {
     "marked": true
    }
   },
   "outputs": [],
   "source": [
    "# 3.4. Padronização de Indicadores\n",
    "\n",
    "def normalize(series):\n",
    "    return (series - series.mean())/series.std()\n",
    "\n",
    "def create_subindex(df, subdet):\n",
    "    \n",
    "    i_name = 'Índice de '+subdet\n",
    "    \n",
    "    if i_name not in df.columns:\n",
    "        norm_data = df.apply(lambda x: normalize(x), axis=0)\n",
    "        df[i_name] = normalize(norm_data.sum(axis=1)) + 6\n",
    "    \n",
    "    return df\n",
    "\n",
    "def create_detindex(df, det):\n",
    "    \n",
    "    d_name = 'Índice de ' + det\n",
    "    det_df = pd.DataFrame()\n",
    "    \n",
    "    if d_name not in df.columns:\n",
    "        for i in (df.columns.levels[0]):\n",
    "            det_df[i] = df[i,(df[i].columns[-1])]\n",
    "\n",
    "        det_df = det_df.apply(lambda x: normalize(x), axis=0)\n",
    "        det_df[d_name] = normalize(det_df.sum(axis=1)) + 6\n",
    "        df[d_name] = det_df[d_name]\n",
    "    \n",
    "    return df"
   ]
  },
  {
   "cell_type": "code",
   "execution_count": 7,
   "metadata": {
    "ExecuteTime": {
     "end_time": "2022-08-15T22:17:02.835296Z",
     "start_time": "2022-08-15T22:17:02.826323Z"
    }
   },
   "outputs": [],
   "source": [
    "database = pd.DataFrame()\n",
    "df = {}"
   ]
  },
  {
   "cell_type": "code",
   "execution_count": 8,
   "metadata": {
    "ExecuteTime": {
     "end_time": "2022-08-15T22:17:02.974031Z",
     "start_time": "2022-08-15T22:17:02.954085Z"
    }
   },
   "outputs": [],
   "source": [
    "# 1. AMOSTRA\n",
    "\n",
    "amostra = pd.read_csv('AMOSTRA/100-municipios.csv')\n",
    "database['Município'] = amostra['NOME DO MUNICÍPIO']\n",
    "database['UF'] = amostra['UF']\n",
    "database = database.set_index(['Município', 'UF'])"
   ]
  },
  {
   "cell_type": "code",
   "execution_count": null,
   "metadata": {
    "ExecuteTime": {
     "start_time": "2022-08-15T22:17:03.086Z"
    }
   },
   "outputs": [],
   "source": [
    "# 2.2. DETERMINANTE AMBIENTE REGULATÓRIO\n",
    "\n",
    "# ---------------------------------------------------------------------------------------------\n",
    "# 2.2.1. SUBDETERMINANTE TEMPO DE PROCESSOS\n",
    "subdet = 'Tempo de processos'\n",
    "\n",
    "def read_excel(filenames):\n",
    "    return pd.read_excel(filenames, header = 1, usecols = \"I,R,AA\")\n",
    "    \n",
    "if __name__ == \"__main__\":\n",
    "    files = glob.glob(\"DETERMINANTE AMBIENTE REGULATÓRIO/REDESIM/*.xlsx\")\n",
    "\n",
    "    with multiprocessing.Pool(multiprocessing.cpu_count()) as pool:\n",
    "        data = pool.map(read_excel, files)\n",
    "        sub_tempo_pro = pd.concat(data)\n",
    "\n",
    "# ---------------------------------------------------------------------------------------------\n",
    "# 2.2.2. SUBDETERMINANTE TRIBUTAÇÃO\n"
   ]
  },
  {
   "cell_type": "code",
   "execution_count": null,
   "metadata": {},
   "outputs": [],
   "source": []
  },
  {
   "cell_type": "code",
   "execution_count": null,
   "metadata": {
    "ExecuteTime": {
     "start_time": "2022-08-15T22:17:03.390Z"
    },
    "scrolled": false
   },
   "outputs": [],
   "source": [
    "# 2.8. DETERMINANTE CULTURA\n",
    "\n",
    "def save_googletrends(database, term):\n",
    "    \n",
    "    name = term.split(' ')[-1].replace('_', ' ')\n",
    "    term = term.replace('_', ' ')\n",
    "    c_name = 'Pesquisas '+term\n",
    "    \n",
    "    if c_name not in database.columns:\n",
    "        indicador = pd.read_csv('DETERMINANTE CULTURA/geoMap-'+name+'.csv').reset_index()\n",
    "        indicador = indicador.rename(columns={'index':'Município', 'Category: All categories': c_name})\n",
    "        database = database.merge(indicador, how='left',on='Município').fillna(0)\n",
    "        database[c_name] = database[c_name].astype(int)\n",
    "    \n",
    "    return database\n",
    "\n",
    "cultura = {}\n",
    "\n",
    "# ---------------------------------------------------------------------------------------------\n",
    "# 2.8.1. SUBDETERMINANTE INICIATIVA\n",
    "\n",
    "subdet = 'Iniciativa'\n",
    "\n",
    "iniciativa = ['pelo Termo Empreendedora', 'pelo Termo Empreendedorismo', 'pelo Termo MEI']\n",
    "sub_iniciativa = pd.DataFrame()\n",
    "sub_iniciativa.index = database.index\n",
    "\n",
    "for i in iniciativa:\n",
    "    sub_iniciativa = save_googletrends(sub_iniciativa, i).set_index('Município')\n",
    "    \n",
    "missing_data(sub_iniciativa)\n",
    "extreme_values(sub_iniciativa)\n",
    "create_subindex(sub_iniciativa, subdet)\n",
    "cultura[subdet] = sub_iniciativa\n",
    "\n",
    "# ---------------------------------------------------------------------------------------------\n",
    "# 2.8.2. SUBDETERMINANTE INSTITUIÇÕES\n",
    "\n",
    "subdet = 'Instituições'\n",
    "\n",
    "instituicoes = ['por Sebrae', 'por Franquia', 'por SIMPLES_Nacional', 'por Senac']\n",
    "sub_instituicoes = pd.DataFrame()\n",
    "sub_instituicoes.index = database.index\n",
    "\n",
    "for i in instituicoes:\n",
    "    sub_instituicoes = save_googletrends(sub_instituicoes, i).set_index('Município')\n",
    "\n",
    "missing_data(sub_instituicoes)\n",
    "extreme_values(sub_instituicoes)\n",
    "create_subindex(sub_instituicoes, subdet)\n",
    "cultura[subdet] = sub_instituicoes\n",
    "\n",
    "# ---------------------------------------------------------------------------------------------\n",
    "cultura = pd.concat(cultura, axis=1)\n",
    "\n",
    "df['Cultura'] = cultura\n",
    "df = pd.concat(df, axis=1)\n",
    "df"
   ]
  },
  {
   "cell_type": "code",
   "execution_count": null,
   "metadata": {
    "ExecuteTime": {
     "start_time": "2022-08-15T22:17:03.624Z"
    },
    "run_control": {
     "marked": true
    },
    "scrolled": true
   },
   "outputs": [],
   "source": [
    "df"
   ]
  },
  {
   "cell_type": "code",
   "execution_count": null,
   "metadata": {},
   "outputs": [],
   "source": []
  }
 ],
 "metadata": {
  "hide_input": false,
  "kernelspec": {
   "display_name": "Python 3",
   "language": "python",
   "name": "python3"
  },
  "language_info": {
   "codemirror_mode": {
    "name": "ipython",
    "version": 3
   },
   "file_extension": ".py",
   "mimetype": "text/x-python",
   "name": "python",
   "nbconvert_exporter": "python",
   "pygments_lexer": "ipython3",
   "version": "3.7.4"
  },
  "latex_envs": {
   "LaTeX_envs_menu_present": true,
   "autoclose": false,
   "autocomplete": true,
   "bibliofile": "biblio.bib",
   "cite_by": "apalike",
   "current_citInitial": 1,
   "eqLabelWithNumbers": true,
   "eqNumInitial": 1,
   "hotkeys": {
    "equation": "Ctrl-E",
    "itemize": "Ctrl-I"
   },
   "labels_anchors": false,
   "latex_user_defs": false,
   "report_style_numbering": false,
   "user_envs_cfg": false
  },
  "varInspector": {
   "cols": {
    "lenName": 16,
    "lenType": 16,
    "lenVar": 40
   },
   "kernels_config": {
    "python": {
     "delete_cmd_postfix": "",
     "delete_cmd_prefix": "del ",
     "library": "var_list.py",
     "varRefreshCmd": "print(var_dic_list())"
    },
    "r": {
     "delete_cmd_postfix": ") ",
     "delete_cmd_prefix": "rm(",
     "library": "var_list.r",
     "varRefreshCmd": "cat(var_dic_list()) "
    }
   },
   "types_to_exclude": [
    "module",
    "function",
    "builtin_function_or_method",
    "instance",
    "_Feature"
   ],
   "window_display": false
  }
 },
 "nbformat": 4,
 "nbformat_minor": 2
}
