{
 "cells": [
  {
   "cell_type": "code",
   "execution_count": 1,
   "metadata": {
    "ExecuteTime": {
     "end_time": "2022-09-12T15:28:17.643107Z",
     "start_time": "2022-09-12T15:28:05.792612Z"
    }
   },
   "outputs": [],
   "source": [
    "import pandas as pd\n",
    "from scipy.stats import spearmanr"
   ]
  },
  {
   "cell_type": "code",
   "execution_count": 23,
   "metadata": {
    "ExecuteTime": {
     "end_time": "2022-09-12T15:45:32.880039Z",
     "start_time": "2022-09-12T15:45:32.370680Z"
    },
    "scrolled": true
   },
   "outputs": [
    {
     "name": "stderr",
     "output_type": "stream",
     "text": [
      "C:\\ProgramData\\Anaconda3\\lib\\site-packages\\IPython\\core\\interactiveshell.py:2855: PerformanceWarning: indexing past lexsort depth may impact performance.\n",
      "  raw_cell, store_history, silent, shell_futures)\n",
      "C:\\Users\\vitor\\AppData\\Roaming\\Python\\Python37\\site-packages\\ipykernel_launcher.py:13: FutureWarning: merging between different levels is deprecated and will be removed in a future version. (1 levels on the left,4 on the right)\n",
      "  del sys.path[0]\n"
     ]
    },
    {
     "data": {
      "text/html": [
       "<div>\n",
       "<style scoped>\n",
       "    .dataframe tbody tr th:only-of-type {\n",
       "        vertical-align: middle;\n",
       "    }\n",
       "\n",
       "    .dataframe tbody tr th {\n",
       "        vertical-align: top;\n",
       "    }\n",
       "\n",
       "    .dataframe thead th {\n",
       "        text-align: right;\n",
       "    }\n",
       "</style>\n",
       "<table border=\"1\" class=\"dataframe\">\n",
       "  <thead>\n",
       "    <tr style=\"text-align: right;\">\n",
       "      <th></th>\n",
       "      <th>(Correlação 2022-2023, p-valor)</th>\n",
       "    </tr>\n",
       "  </thead>\n",
       "  <tbody>\n",
       "    <tr>\n",
       "      <th>Índice de Acesso a Capital</th>\n",
       "      <td>(0.35164822364589393, 0.00031105732120126784)</td>\n",
       "    </tr>\n",
       "    <tr>\n",
       "      <th>Índice de Ambiente Regulatório</th>\n",
       "      <td>(-0.07029702970297029, 0.4848348196260749)</td>\n",
       "    </tr>\n",
       "    <tr>\n",
       "      <th>Índice de Capital Humano</th>\n",
       "      <td>(0.1244612696563774, 0.21494612325695386)</td>\n",
       "    </tr>\n",
       "    <tr>\n",
       "      <th>Índice de Cultura</th>\n",
       "      <td>(-0.1912041712403889, 0.055445228734890925)</td>\n",
       "    </tr>\n",
       "    <tr>\n",
       "      <th>Índice de Infraestrutura</th>\n",
       "      <td>(-0.04670937682003495, 0.6427669082106172)</td>\n",
       "    </tr>\n",
       "    <tr>\n",
       "      <th>Índice de Inovação</th>\n",
       "      <td>(0.15419918462434476, 0.12365369835880793)</td>\n",
       "    </tr>\n",
       "    <tr>\n",
       "      <th>Índice de Mercado</th>\n",
       "      <td>(-0.02605707629586488, 0.7959016631746205)</td>\n",
       "    </tr>\n",
       "    <tr>\n",
       "      <th>Índice Cidades Empreendendoras</th>\n",
       "      <td>(0.03322189478655577, 0.7415426813841588)</td>\n",
       "    </tr>\n",
       "  </tbody>\n",
       "</table>\n",
       "</div>"
      ],
      "text/plain": [
       "                                              (Correlação 2022-2023, p-valor)\n",
       "Índice de Acesso a Capital      (0.35164822364589393, 0.00031105732120126784)\n",
       "Índice de Ambiente Regulatório     (-0.07029702970297029, 0.4848348196260749)\n",
       "Índice de Capital Humano            (0.1244612696563774, 0.21494612325695386)\n",
       "Índice de Cultura                 (-0.1912041712403889, 0.055445228734890925)\n",
       "Índice de Infraestrutura           (-0.04670937682003495, 0.6427669082106172)\n",
       "Índice de Inovação                 (0.15419918462434476, 0.12365369835880793)\n",
       "Índice de Mercado                  (-0.02605707629586488, 0.7959016631746205)\n",
       "Índice Cidades Empreendendoras      (0.03322189478655577, 0.7415426813841588)"
      ]
     },
     "execution_count": 23,
     "metadata": {},
     "output_type": "execute_result"
    }
   ],
   "source": [
    "# Correlation\n",
    "\n",
    "ice23 = pd.read_csv('DETERMINANTES/ICE-2023.csv', encoding='utf-8')\n",
    "ind23 = [i for i in ice23.columns if i.split()[0] == 'Índice']\n",
    "ice23 = ice23[ind23]\n",
    "\n",
    "ice22 = pd.read_excel('Arquivos ICE - 23/Ind_Originais_ICE_2022.xlsx', header=[i for i in range(6)], index_col=[0,1])\n",
    "ind22 = [(' '.join(i.split()[2:]),i) for i in ind23][:-1]\n",
    "\n",
    "df = pd.DataFrame()\n",
    "df.index = ice22.index\n",
    "\n",
    "for  i in ind22:\n",
    "    \n",
    "    df = pd.merge(df, ice22[i], left_index=True, right_index=True)\n",
    "\n",
    "df.columns = ind23[:-1]\n",
    "ice22 = df\n",
    "\n",
    "vintedois = pd.read_csv('Arquivos ICE - 23/Índice 2022.csv', encoding='utf-8').set_index(['Município', 'UF'])\n",
    "\n",
    "corr = {i: spearmanr(ice23[i], ice22[i]) for i in ind23[:-1]}\n",
    "corr['Índice Cidades Empreendendoras'] = spearmanr(vintedois, ice23['Índice Cidades Empreendendoras 2023'])\n",
    "corr = pd.DataFrame([corr]).T.rename(columns={0:'(Correlação 2022-2023, p-valor)'})\n",
    "corr.to_csv('correlation.csv', encoding='latin-1')\n",
    "\n",
    "corr"
   ]
  },
  {
   "cell_type": "code",
   "execution_count": 53,
   "metadata": {
    "ExecuteTime": {
     "end_time": "2022-09-12T16:30:26.228189Z",
     "start_time": "2022-09-12T16:30:26.197448Z"
    }
   },
   "outputs": [],
   "source": [
    "# Ranking\n",
    "\n",
    "ranking = pd.read_csv('DETERMINANTES/scores-ICE-23.CSV', encoding='latin-1').drop('Unnamed: 0', axis=1).set_index(['Município', 'UF']).sort_values('ICE', ascending= False)\n",
    "ranking.applymap(lambda x: str(x)[:5]).to_csv('ranking.csv')"
   ]
  }
 ],
 "metadata": {
  "hide_input": false,
  "kernelspec": {
   "display_name": "Python 3",
   "language": "python",
   "name": "python3"
  },
  "language_info": {
   "codemirror_mode": {
    "name": "ipython",
    "version": 3
   },
   "file_extension": ".py",
   "mimetype": "text/x-python",
   "name": "python",
   "nbconvert_exporter": "python",
   "pygments_lexer": "ipython3",
   "version": "3.7.4"
  },
  "latex_envs": {
   "LaTeX_envs_menu_present": true,
   "autoclose": false,
   "autocomplete": true,
   "bibliofile": "biblio.bib",
   "cite_by": "apalike",
   "current_citInitial": 1,
   "eqLabelWithNumbers": true,
   "eqNumInitial": 1,
   "hotkeys": {
    "equation": "Ctrl-E",
    "itemize": "Ctrl-I"
   },
   "labels_anchors": false,
   "latex_user_defs": false,
   "report_style_numbering": false,
   "user_envs_cfg": false
  },
  "varInspector": {
   "cols": {
    "lenName": 16,
    "lenType": 16,
    "lenVar": 40
   },
   "kernels_config": {
    "python": {
     "delete_cmd_postfix": "",
     "delete_cmd_prefix": "del ",
     "library": "var_list.py",
     "varRefreshCmd": "print(var_dic_list())"
    },
    "r": {
     "delete_cmd_postfix": ") ",
     "delete_cmd_prefix": "rm(",
     "library": "var_list.r",
     "varRefreshCmd": "cat(var_dic_list()) "
    }
   },
   "types_to_exclude": [
    "module",
    "function",
    "builtin_function_or_method",
    "instance",
    "_Feature"
   ],
   "window_display": false
  }
 },
 "nbformat": 4,
 "nbformat_minor": 2
}
