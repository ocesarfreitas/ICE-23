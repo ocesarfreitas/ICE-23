{
 "cells": [
  {
   "cell_type": "code",
   "execution_count": 58,
   "metadata": {
    "ExecuteTime": {
     "end_time": "2022-09-15T03:23:19.172296Z",
     "start_time": "2022-09-15T03:23:19.142047Z"
    }
   },
   "outputs": [],
   "source": [
    "import pandas as pd\n",
    "from scipy.stats import spearmanr"
   ]
  },
  {
   "cell_type": "code",
   "execution_count": 60,
   "metadata": {
    "ExecuteTime": {
     "end_time": "2022-09-15T03:23:35.918996Z",
     "start_time": "2022-09-15T03:23:35.752084Z"
    },
    "scrolled": true
   },
   "outputs": [
    {
     "name": "stderr",
     "output_type": "stream",
     "text": [
      "C:\\ProgramData\\Anaconda3\\lib\\site-packages\\IPython\\core\\interactiveshell.py:2855: PerformanceWarning: indexing past lexsort depth may impact performance.\n",
      "  raw_cell, store_history, silent, shell_futures)\n",
      "C:\\Users\\vitor\\AppData\\Roaming\\Python\\Python37\\site-packages\\ipykernel_launcher.py:15: FutureWarning: merging between different levels is deprecated and will be removed in a future version. (1 levels on the left,4 on the right)\n",
      "  from ipykernel import kernelapp as app\n"
     ]
    },
    {
     "data": {
      "text/html": [
       "<div>\n",
       "<style scoped>\n",
       "    .dataframe tbody tr th:only-of-type {\n",
       "        vertical-align: middle;\n",
       "    }\n",
       "\n",
       "    .dataframe tbody tr th {\n",
       "        vertical-align: top;\n",
       "    }\n",
       "\n",
       "    .dataframe thead th {\n",
       "        text-align: right;\n",
       "    }\n",
       "</style>\n",
       "<table border=\"1\" class=\"dataframe\">\n",
       "  <thead>\n",
       "    <tr style=\"text-align: right;\">\n",
       "      <th></th>\n",
       "      <th>(Correlação 2022-2023, p-valor)</th>\n",
       "    </tr>\n",
       "  </thead>\n",
       "  <tbody>\n",
       "    <tr>\n",
       "      <th>Índice de Acesso a Capital</th>\n",
       "      <td>(0.35164822364589393, 0.00031105732120126784)</td>\n",
       "    </tr>\n",
       "    <tr>\n",
       "      <th>Índice de Ambiente Regulatório</th>\n",
       "      <td>(0.047920792079207915, 0.6341620367394952)</td>\n",
       "    </tr>\n",
       "    <tr>\n",
       "      <th>Índice de Capital Humano</th>\n",
       "      <td>(0.1244612696563774, 0.21494612325695386)</td>\n",
       "    </tr>\n",
       "    <tr>\n",
       "      <th>Índice de Cultura</th>\n",
       "      <td>(-0.18718343794207257, 0.06088112135879863)</td>\n",
       "    </tr>\n",
       "    <tr>\n",
       "      <th>Índice de Infraestrutura</th>\n",
       "      <td>(0.08785090273733255, 0.38234063870627166)</td>\n",
       "    </tr>\n",
       "    <tr>\n",
       "      <th>Índice de Inovação</th>\n",
       "      <td>(0.2011065812463599, 0.043738142846402255)</td>\n",
       "    </tr>\n",
       "    <tr>\n",
       "      <th>Índice de Mercado</th>\n",
       "      <td>(0.02230634828188701, 0.8247707300117614)</td>\n",
       "    </tr>\n",
       "    <tr>\n",
       "      <th>Índice Cidades Empreendendoras</th>\n",
       "      <td>(0.11655037457464368, 0.24576485964224126)</td>\n",
       "    </tr>\n",
       "  </tbody>\n",
       "</table>\n",
       "</div>"
      ],
      "text/plain": [
       "                                              (Correlação 2022-2023, p-valor)\n",
       "Índice de Acesso a Capital      (0.35164822364589393, 0.00031105732120126784)\n",
       "Índice de Ambiente Regulatório     (0.047920792079207915, 0.6341620367394952)\n",
       "Índice de Capital Humano            (0.1244612696563774, 0.21494612325695386)\n",
       "Índice de Cultura                 (-0.18718343794207257, 0.06088112135879863)\n",
       "Índice de Infraestrutura           (0.08785090273733255, 0.38234063870627166)\n",
       "Índice de Inovação                 (0.2011065812463599, 0.043738142846402255)\n",
       "Índice de Mercado                   (0.02230634828188701, 0.8247707300117614)\n",
       "Índice Cidades Empreendendoras     (0.11655037457464368, 0.24576485964224126)"
      ]
     },
     "execution_count": 60,
     "metadata": {},
     "output_type": "execute_result"
    }
   ],
   "source": [
    "# Correlation\n",
    "\n",
    "ice23 = pd.read_csv('DETERMINANTES/ICE-2023.csv', encoding='latin-1')\n",
    "ind23 = [i for i in ice23.columns if i.split()[0] == 'Índice']\n",
    "ice23 = ice23[ind23]\n",
    "\n",
    "ice22 = pd.read_excel('Arquivos ICE - 23/Ind_Originais_ICE_2022.xlsx', header=[i for i in range(6)], index_col=[0,1])\n",
    "ind22 = [(' '.join(i.split()[2:]),i) for i in ind23][:-1]\n",
    "\n",
    "df = pd.DataFrame()\n",
    "df.index = ice22.index\n",
    "\n",
    "for  i in ind22:\n",
    "    \n",
    "    df = pd.merge(df, ice22[i], left_index=True, right_index=True)\n",
    "\n",
    "df.columns = ind23[:-1]\n",
    "ice22 = df\n",
    "\n",
    "vintedois = pd.read_csv('Arquivos ICE - 23/Índice 2022.csv', encoding='utf-8').set_index(['Município', 'UF'])\n",
    "\n",
    "corr = {i: spearmanr(ice23[i], ice22[i]) for i in ind23[:-1]}\n",
    "corr['Índice Cidades Empreendendoras'] = spearmanr(vintedois, ice23['Índice Cidades Empreendendoras 2023'])\n",
    "corr = pd.DataFrame([corr]).T.rename(columns={0:'(Correlação 2022-2023, p-valor)'})\n",
    "corr.to_csv('correlation.csv', encoding='latin-1')\n",
    "\n",
    "corr"
   ]
  },
  {
   "cell_type": "code",
   "execution_count": 63,
   "metadata": {
    "ExecuteTime": {
     "end_time": "2022-09-15T03:24:27.760388Z",
     "start_time": "2022-09-15T03:24:27.732583Z"
    }
   },
   "outputs": [],
   "source": [
    "# Ranking\n",
    "\n",
    "ranking = pd.read_csv('DETERMINANTES/scores-ICE-23 (cultura).CSV', encoding='latin-1').drop('Unnamed: 0', axis=1).set_index(['Município', 'UF']).sort_values('Rank ICE 23', ascending= False)\n",
    "ranking.applymap(lambda x: str(x)[:5]).to_csv('ranking.csv')"
   ]
  },
  {
   "cell_type": "code",
   "execution_count": null,
   "metadata": {},
   "outputs": [],
   "source": []
  }
 ],
 "metadata": {
  "hide_input": false,
  "kernelspec": {
   "display_name": "Python 3",
   "language": "python",
   "name": "python3"
  },
  "language_info": {
   "codemirror_mode": {
    "name": "ipython",
    "version": 3
   },
   "file_extension": ".py",
   "mimetype": "text/x-python",
   "name": "python",
   "nbconvert_exporter": "python",
   "pygments_lexer": "ipython3",
   "version": "3.7.4"
  },
  "latex_envs": {
   "LaTeX_envs_menu_present": true,
   "autoclose": false,
   "autocomplete": true,
   "bibliofile": "biblio.bib",
   "cite_by": "apalike",
   "current_citInitial": 1,
   "eqLabelWithNumbers": true,
   "eqNumInitial": 1,
   "hotkeys": {
    "equation": "Ctrl-E",
    "itemize": "Ctrl-I"
   },
   "labels_anchors": false,
   "latex_user_defs": false,
   "report_style_numbering": false,
   "user_envs_cfg": false
  },
  "varInspector": {
   "cols": {
    "lenName": 16,
    "lenType": 16,
    "lenVar": 40
   },
   "kernels_config": {
    "python": {
     "delete_cmd_postfix": "",
     "delete_cmd_prefix": "del ",
     "library": "var_list.py",
     "varRefreshCmd": "print(var_dic_list())"
    },
    "r": {
     "delete_cmd_postfix": ") ",
     "delete_cmd_prefix": "rm(",
     "library": "var_list.r",
     "varRefreshCmd": "cat(var_dic_list()) "
    }
   },
   "types_to_exclude": [
    "module",
    "function",
    "builtin_function_or_method",
    "instance",
    "_Feature"
   ],
   "window_display": false
  }
 },
 "nbformat": 4,
 "nbformat_minor": 2
}
