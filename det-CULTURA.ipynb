{
 "cells": [
  {
   "cell_type": "code",
   "execution_count": 1,
   "metadata": {
    "ExecuteTime": {
     "end_time": "2022-08-17T21:01:40.628211Z",
     "start_time": "2022-08-17T21:01:40.165135Z"
    }
   },
   "outputs": [],
   "source": [
    "import pandas as pd\n",
    "import numpy as np\n",
    "from funcs import *"
   ]
  },
  {
   "cell_type": "code",
   "execution_count": 2,
   "metadata": {
    "ExecuteTime": {
     "end_time": "2022-08-17T21:01:40.659459Z",
     "start_time": "2022-08-17T21:01:40.635198Z"
    },
    "run_control": {
     "marked": true
    }
   },
   "outputs": [],
   "source": [
    "# 1. AMOSTRA\n",
    "\n",
    "database = pd.DataFrame()\n",
    "amostra = pd.read_csv('AMOSTRA/100-municipios.csv')\n",
    "database['Município'] = amostra['NOME DO MUNICÍPIO']\n",
    "database['UF'] = amostra['UF']\n",
    "database = database.set_index(['Município', 'UF'])"
   ]
  },
  {
   "cell_type": "code",
   "execution_count": 5,
   "metadata": {
    "ExecuteTime": {
     "end_time": "2022-08-17T21:02:10.788481Z",
     "start_time": "2022-08-17T21:02:10.273528Z"
    }
   },
   "outputs": [
    {
     "ename": "ValueError",
     "evalue": "Length mismatch: Expected axis has 0 elements, new values have 101 elements",
     "output_type": "error",
     "traceback": [
      "\u001b[1;31m---------------------------------------------------------------------------\u001b[0m",
      "\u001b[1;31mValueError\u001b[0m                                Traceback (most recent call last)",
      "\u001b[1;32m<ipython-input-5-d0d25d771776>\u001b[0m in \u001b[0;36m<module>\u001b[1;34m\u001b[0m\n\u001b[0;32m     42\u001b[0m \u001b[0minstituicoes\u001b[0m \u001b[1;33m=\u001b[0m \u001b[1;33m[\u001b[0m\u001b[1;34m'por Sebrae'\u001b[0m\u001b[1;33m,\u001b[0m \u001b[1;34m'por Franquia'\u001b[0m\u001b[1;33m,\u001b[0m \u001b[1;34m'por SIMPLES_Nacional'\u001b[0m\u001b[1;33m,\u001b[0m \u001b[1;34m'por Senac'\u001b[0m\u001b[1;33m]\u001b[0m\u001b[1;33m\u001b[0m\u001b[1;33m\u001b[0m\u001b[0m\n\u001b[0;32m     43\u001b[0m \u001b[0msub_instituicoes\u001b[0m \u001b[1;33m=\u001b[0m \u001b[0mpd\u001b[0m\u001b[1;33m.\u001b[0m\u001b[0mDataFrame\u001b[0m\u001b[1;33m(\u001b[0m\u001b[1;33m)\u001b[0m\u001b[1;33m\u001b[0m\u001b[1;33m\u001b[0m\u001b[0m\n\u001b[1;32m---> 44\u001b[1;33m \u001b[0msub_instituicoes\u001b[0m\u001b[1;33m.\u001b[0m\u001b[0mindex\u001b[0m \u001b[1;33m=\u001b[0m \u001b[0mdatabase\u001b[0m\u001b[1;33m.\u001b[0m\u001b[0mindex\u001b[0m\u001b[1;33m\u001b[0m\u001b[1;33m\u001b[0m\u001b[0m\n\u001b[0m\u001b[0;32m     45\u001b[0m \u001b[1;33m\u001b[0m\u001b[0m\n\u001b[0;32m     46\u001b[0m \u001b[1;32mfor\u001b[0m \u001b[0mi\u001b[0m \u001b[1;32min\u001b[0m \u001b[0minstituicoes\u001b[0m\u001b[1;33m:\u001b[0m\u001b[1;33m\u001b[0m\u001b[1;33m\u001b[0m\u001b[0m\n",
      "\u001b[1;32m~\\AppData\\Roaming\\Python\\Python37\\site-packages\\pandas\\core\\generic.py\u001b[0m in \u001b[0;36m__setattr__\u001b[1;34m(self, name, value)\u001b[0m\n\u001b[0;32m   5476\u001b[0m         \u001b[1;32mtry\u001b[0m\u001b[1;33m:\u001b[0m\u001b[1;33m\u001b[0m\u001b[1;33m\u001b[0m\u001b[0m\n\u001b[0;32m   5477\u001b[0m             \u001b[0mobject\u001b[0m\u001b[1;33m.\u001b[0m\u001b[0m__getattribute__\u001b[0m\u001b[1;33m(\u001b[0m\u001b[0mself\u001b[0m\u001b[1;33m,\u001b[0m \u001b[0mname\u001b[0m\u001b[1;33m)\u001b[0m\u001b[1;33m\u001b[0m\u001b[1;33m\u001b[0m\u001b[0m\n\u001b[1;32m-> 5478\u001b[1;33m             \u001b[1;32mreturn\u001b[0m \u001b[0mobject\u001b[0m\u001b[1;33m.\u001b[0m\u001b[0m__setattr__\u001b[0m\u001b[1;33m(\u001b[0m\u001b[0mself\u001b[0m\u001b[1;33m,\u001b[0m \u001b[0mname\u001b[0m\u001b[1;33m,\u001b[0m \u001b[0mvalue\u001b[0m\u001b[1;33m)\u001b[0m\u001b[1;33m\u001b[0m\u001b[1;33m\u001b[0m\u001b[0m\n\u001b[0m\u001b[0;32m   5479\u001b[0m         \u001b[1;32mexcept\u001b[0m \u001b[0mAttributeError\u001b[0m\u001b[1;33m:\u001b[0m\u001b[1;33m\u001b[0m\u001b[1;33m\u001b[0m\u001b[0m\n\u001b[0;32m   5480\u001b[0m             \u001b[1;32mpass\u001b[0m\u001b[1;33m\u001b[0m\u001b[1;33m\u001b[0m\u001b[0m\n",
      "\u001b[1;32mpandas\\_libs\\properties.pyx\u001b[0m in \u001b[0;36mpandas._libs.properties.AxisProperty.__set__\u001b[1;34m()\u001b[0m\n",
      "\u001b[1;32m~\\AppData\\Roaming\\Python\\Python37\\site-packages\\pandas\\core\\generic.py\u001b[0m in \u001b[0;36m_set_axis\u001b[1;34m(self, axis, labels)\u001b[0m\n\u001b[0;32m    668\u001b[0m     \u001b[1;32mdef\u001b[0m \u001b[0m_set_axis\u001b[0m\u001b[1;33m(\u001b[0m\u001b[0mself\u001b[0m\u001b[1;33m,\u001b[0m \u001b[0maxis\u001b[0m\u001b[1;33m:\u001b[0m \u001b[0mint\u001b[0m\u001b[1;33m,\u001b[0m \u001b[0mlabels\u001b[0m\u001b[1;33m:\u001b[0m \u001b[0mIndex\u001b[0m\u001b[1;33m)\u001b[0m \u001b[1;33m->\u001b[0m \u001b[1;32mNone\u001b[0m\u001b[1;33m:\u001b[0m\u001b[1;33m\u001b[0m\u001b[1;33m\u001b[0m\u001b[0m\n\u001b[0;32m    669\u001b[0m         \u001b[0mlabels\u001b[0m \u001b[1;33m=\u001b[0m \u001b[0mensure_index\u001b[0m\u001b[1;33m(\u001b[0m\u001b[0mlabels\u001b[0m\u001b[1;33m)\u001b[0m\u001b[1;33m\u001b[0m\u001b[1;33m\u001b[0m\u001b[0m\n\u001b[1;32m--> 670\u001b[1;33m         \u001b[0mself\u001b[0m\u001b[1;33m.\u001b[0m\u001b[0m_mgr\u001b[0m\u001b[1;33m.\u001b[0m\u001b[0mset_axis\u001b[0m\u001b[1;33m(\u001b[0m\u001b[0maxis\u001b[0m\u001b[1;33m,\u001b[0m \u001b[0mlabels\u001b[0m\u001b[1;33m)\u001b[0m\u001b[1;33m\u001b[0m\u001b[1;33m\u001b[0m\u001b[0m\n\u001b[0m\u001b[0;32m    671\u001b[0m         \u001b[0mself\u001b[0m\u001b[1;33m.\u001b[0m\u001b[0m_clear_item_cache\u001b[0m\u001b[1;33m(\u001b[0m\u001b[1;33m)\u001b[0m\u001b[1;33m\u001b[0m\u001b[1;33m\u001b[0m\u001b[0m\n\u001b[0;32m    672\u001b[0m \u001b[1;33m\u001b[0m\u001b[0m\n",
      "\u001b[1;32m~\\AppData\\Roaming\\Python\\Python37\\site-packages\\pandas\\core\\internals\\managers.py\u001b[0m in \u001b[0;36mset_axis\u001b[1;34m(self, axis, new_labels)\u001b[0m\n\u001b[0;32m    219\u001b[0m         \u001b[1;32mif\u001b[0m \u001b[0mnew_len\u001b[0m \u001b[1;33m!=\u001b[0m \u001b[0mold_len\u001b[0m\u001b[1;33m:\u001b[0m\u001b[1;33m\u001b[0m\u001b[1;33m\u001b[0m\u001b[0m\n\u001b[0;32m    220\u001b[0m             raise ValueError(\n\u001b[1;32m--> 221\u001b[1;33m                 \u001b[1;34mf\"Length mismatch: Expected axis has {old_len} elements, new \"\u001b[0m\u001b[1;33m\u001b[0m\u001b[1;33m\u001b[0m\u001b[0m\n\u001b[0m\u001b[0;32m    222\u001b[0m                 \u001b[1;34mf\"values have {new_len} elements\"\u001b[0m\u001b[1;33m\u001b[0m\u001b[1;33m\u001b[0m\u001b[0m\n\u001b[0;32m    223\u001b[0m             )\n",
      "\u001b[1;31mValueError\u001b[0m: Length mismatch: Expected axis has 0 elements, new values have 101 elements"
     ]
    }
   ],
   "source": [
    "# 2.8. DETERMINANTE CULTURA\n",
    "\n",
    "def save_googletrends(database, term):\n",
    "    \n",
    "    name = term.split(' ')[-1].replace('_', ' ')\n",
    "    term = term.replace('_', ' ')\n",
    "    c_name = 'Pesquisas '+term\n",
    "    \n",
    "    if c_name not in database.columns:\n",
    "        indicador = pd.read_csv('DETERMINANTE CULTURA/geoMap-'+name+'.csv').reset_index()\n",
    "        indicador = indicador.rename(columns={'index':'Município', 'Category: All categories': c_name})\n",
    "        database = database.merge(indicador, how='left',on='Município').fillna(0)\n",
    "        database[c_name] = database[c_name].astype(int)\n",
    "    \n",
    "    return database\n",
    "\n",
    "cultura = {}\n",
    "\n",
    "# ---------------------------------------------------------------------------------------------\n",
    "# 2.8.1. SUBDETERMINANTE INICIATIVA\n",
    "\n",
    "subdet = 'Iniciativa'\n",
    "\n",
    "iniciativa = ['pelo Termo Empreendedora', 'pelo Termo Empreendedorismo', 'pelo Termo MEI']\n",
    "sub_iniciativa = pd.DataFrame(database)\n",
    "\n",
    "sub_iniciativa = save_googletrends(sub_iniciativa, 'pelo Termo Empreendedora')\n",
    "sub_iniciativa = save_googletrends(sub_iniciativa, 'pelo Termo Empreendedorismo')\n",
    "sub_iniciativa = save_googletrends(sub_iniciativa, 'pelo Termo MEI')\n",
    "sub_iniciativa = sub_iniciativa.set_index('Município')\n",
    "\n",
    "missing_data(sub_iniciativa)\n",
    "extreme_values(sub_iniciativa.astype(int))\n",
    "create_subindex(sub_iniciativa, subdet)\n",
    "cultura[subdet] = sub_iniciativa\n",
    "\n",
    "# ---------------------------------------------------------------------------------------------\n",
    "# 2.8.2. SUBDETERMINANTE INSTITUIÇÕES\n",
    "\n",
    "subdet = 'Instituições'\n",
    "\n",
    "instituicoes = ['por Sebrae', 'por Franquia', 'por SIMPLES_Nacional', 'por Senac']\n",
    "sub_instituicoes = pd.DataFrame(database)\n",
    "sub_instituicoes.index = database.index\n",
    "\n",
    "for i in instituicoes:\n",
    "    sub_instituicoes = save_googletrends(sub_instituicoes, i).set_index('Município')\n",
    "\n",
    "missing_data(sub_instituicoes)\n",
    "extreme_values(sub_instituicoes)\n",
    "create_subindex(sub_instituicoes, subdet)\n",
    "cultura[subdet] = sub_instituicoes\n",
    "\n",
    "# ---------------------------------------------------------------------------------------------\n",
    "cultura = pd.concat(cultura, axis=1)\n",
    "create_detindex(cultura, 'Cultura')\n",
    "\n",
    "cultura = cultura.reset_index()\n",
    "cultura['UF'] = amostra['UF']\n",
    "cultura = cultura.set_index(['Município', 'UF'])\n",
    "\n",
    "\n",
    "cultura.to_csv('DETERMINANTE CULTURA/det-CULTURA.csv')"
   ]
  },
  {
   "cell_type": "code",
   "execution_count": 6,
   "metadata": {
    "ExecuteTime": {
     "end_time": "2022-08-17T21:02:22.847706Z",
     "start_time": "2022-08-17T21:02:22.815792Z"
    }
   },
   "outputs": [
    {
     "data": {
      "text/html": [
       "<div>\n",
       "<style scoped>\n",
       "    .dataframe tbody tr th:only-of-type {\n",
       "        vertical-align: middle;\n",
       "    }\n",
       "\n",
       "    .dataframe tbody tr th {\n",
       "        vertical-align: top;\n",
       "    }\n",
       "\n",
       "    .dataframe thead th {\n",
       "        text-align: right;\n",
       "    }\n",
       "</style>\n",
       "<table border=\"1\" class=\"dataframe\">\n",
       "  <thead>\n",
       "    <tr style=\"text-align: right;\">\n",
       "      <th></th>\n",
       "      <th></th>\n",
       "    </tr>\n",
       "    <tr>\n",
       "      <th>Município</th>\n",
       "      <th>UF</th>\n",
       "    </tr>\n",
       "  </thead>\n",
       "  <tbody>\n",
       "    <tr>\n",
       "      <th>São Paulo</th>\n",
       "      <th>SP</th>\n",
       "    </tr>\n",
       "    <tr>\n",
       "      <th>Rio de Janeiro</th>\n",
       "      <th>RJ</th>\n",
       "    </tr>\n",
       "    <tr>\n",
       "      <th>Brasília</th>\n",
       "      <th>DF</th>\n",
       "    </tr>\n",
       "    <tr>\n",
       "      <th>Salvador</th>\n",
       "      <th>BA</th>\n",
       "    </tr>\n",
       "    <tr>\n",
       "      <th>Fortaleza</th>\n",
       "      <th>CE</th>\n",
       "    </tr>\n",
       "    <tr>\n",
       "      <th>...</th>\n",
       "      <th>...</th>\n",
       "    </tr>\n",
       "    <tr>\n",
       "      <th>Várzea Grande</th>\n",
       "      <th>MT</th>\n",
       "    </tr>\n",
       "    <tr>\n",
       "      <th>Sumaré</th>\n",
       "      <th>SP</th>\n",
       "    </tr>\n",
       "    <tr>\n",
       "      <th>Marabá</th>\n",
       "      <th>PA</th>\n",
       "    </tr>\n",
       "    <tr>\n",
       "      <th>Gravataí</th>\n",
       "      <th>RS</th>\n",
       "    </tr>\n",
       "    <tr>\n",
       "      <th>Santa Maria</th>\n",
       "      <th>RS</th>\n",
       "    </tr>\n",
       "  </tbody>\n",
       "</table>\n",
       "<p>101 rows × 0 columns</p>\n",
       "</div>"
      ],
      "text/plain": [
       "Empty DataFrame\n",
       "Columns: []\n",
       "Index: [(São Paulo, SP), (Rio de Janeiro, RJ), (Brasília, DF), (Salvador, BA), (Fortaleza, CE), (Belo Horizonte, MG), (Manaus, AM), (Curitiba, PR), (Recife, PE), (Goiânia, GO), (Belém, PA), (Porto Alegre, RS), (Guarulhos, SP), (Campinas, SP), (São Luís, MA), (São Gonçalo, RJ), (Maceió, AL), (Duque de Caxias, RJ), (Campo Grande, MS), (Natal, RN), (Teresina, PI), (São Bernardo do Campo, SP), (João Pessoa, PB), (Nova Iguaçu, RJ), (São José dos Campos, SP), (Santo André, SP), (Ribeirão Preto, SP), (Jaboatão dos Guararapes, PE), (Uberlândia, MG), (Osasco, SP), (Sorocaba, SP), (Contagem, MG), (Aracaju, SE), (Feira de Santana, BA), (Cuiabá, MT), (Joinville, SC), (Aparecida de Goiânia, GO), (Londrina, PR), (Juiz de Fora, MG), (Porto Velho, RO), (Ananindeua, PA), (Serra, ES), (Caxias do Sul, RS), (Macapá, AP), (Niterói, RJ), (Florianópolis, SC), (Belford Roxo, RJ), (Campos dos Goytacazes, RJ), (Vila Velha, ES), (Mauá, SP), (São João de Meriti, RJ), (São José do Rio Preto, SP), (Mogi das Cruzes, SP), (Betim, MG), (Boa Vista, RR), (Maringá, PR), (Santos, SP), (Diadema, SP), (Jundiaí, SP), (Rio Branco, AC), (Montes Claros, MG), (Campina Grande, PB), (Piracicaba, SP), (Carapicuíba, SP), (Anápolis, GO), (Olinda, PE), (Cariacica, ES), (Bauru, SP), (Itaquaquecetuba, SP), (São Vicente, SP), (Vitória, ES), (Caruaru, PE), (Caucaia, CE), (Blumenau, SC), (Petrolina, PE), (Ponta Grossa, PR), (Franca, SP), (Canoas, RS), (Pelotas, RS), (Vitória da Conquista, BA), (Ribeirão das Neves, MG), (Uberaba, MG), (Paulista, PE), (Praia Grande, SP), (Cascavel, PR), (São José dos Pinhais, PR), (Guarujá, SP), (Taubaté, SP), (Palmas, TO), (Limeira, SP), (Camaçari, BA), (Santarém, PA), (Petrópolis, RJ), (Mossoró, RN), (Suzano, SP), (Taboão da Serra, SP), (Várzea Grande, MT), (Sumaré, SP), (Marabá, PA), (Gravataí, RS), ...]\n",
       "\n",
       "[101 rows x 0 columns]"
      ]
     },
     "execution_count": 6,
     "metadata": {},
     "output_type": "execute_result"
    }
   ],
   "source": []
  },
  {
   "cell_type": "code",
   "execution_count": null,
   "metadata": {},
   "outputs": [],
   "source": []
  }
 ],
 "metadata": {
  "hide_input": false,
  "kernelspec": {
   "display_name": "Python 3",
   "language": "python",
   "name": "python3"
  },
  "language_info": {
   "codemirror_mode": {
    "name": "ipython",
    "version": 3
   },
   "file_extension": ".py",
   "mimetype": "text/x-python",
   "name": "python",
   "nbconvert_exporter": "python",
   "pygments_lexer": "ipython3",
   "version": "3.7.4"
  },
  "varInspector": {
   "cols": {
    "lenName": 16,
    "lenType": 16,
    "lenVar": 40
   },
   "kernels_config": {
    "python": {
     "delete_cmd_postfix": "",
     "delete_cmd_prefix": "del ",
     "library": "var_list.py",
     "varRefreshCmd": "print(var_dic_list())"
    },
    "r": {
     "delete_cmd_postfix": ") ",
     "delete_cmd_prefix": "rm(",
     "library": "var_list.r",
     "varRefreshCmd": "cat(var_dic_list()) "
    }
   },
   "types_to_exclude": [
    "module",
    "function",
    "builtin_function_or_method",
    "instance",
    "_Feature"
   ],
   "window_display": false
  }
 },
 "nbformat": 4,
 "nbformat_minor": 2
}
