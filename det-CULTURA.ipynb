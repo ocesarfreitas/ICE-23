{
 "cells": [
  {
   "cell_type": "code",
   "execution_count": 5,
   "metadata": {
    "ExecuteTime": {
     "end_time": "2022-08-15T23:44:06.061700Z",
     "start_time": "2022-08-15T23:44:06.048705Z"
    }
   },
   "outputs": [],
   "source": [
    "import pandas as pd\n",
    "import numpy as np\n",
    "from funcs import *"
   ]
  },
  {
   "cell_type": "code",
   "execution_count": 6,
   "metadata": {
    "ExecuteTime": {
     "end_time": "2022-08-15T23:44:06.202864Z",
     "start_time": "2022-08-15T23:44:06.190897Z"
    }
   },
   "outputs": [],
   "source": [
    "# 1. AMOSTRA\n",
    "\n",
    "database = pd.DataFrame()\n",
    "amostra = pd.read_csv('AMOSTRA/100-municipios.csv')\n",
    "database['Município'] = amostra['NOME DO MUNICÍPIO']\n",
    "database['UF'] = amostra['UF']\n",
    "database = database.set_index(['Município', 'UF'])"
   ]
  },
  {
   "cell_type": "code",
   "execution_count": 13,
   "metadata": {
    "ExecuteTime": {
     "end_time": "2022-08-15T23:48:34.223732Z",
     "start_time": "2022-08-15T23:48:33.176565Z"
    }
   },
   "outputs": [],
   "source": [
    "# 2.8. DETERMINANTE CULTURA\n",
    "\n",
    "def save_googletrends(database, term):\n",
    "    \n",
    "    name = term.split(' ')[-1].replace('_', ' ')\n",
    "    term = term.replace('_', ' ')\n",
    "    c_name = 'Pesquisas '+term\n",
    "    \n",
    "    if c_name not in database.columns:\n",
    "        indicador = pd.read_csv('DETERMINANTE CULTURA/geoMap-'+name+'.csv').reset_index()\n",
    "        indicador = indicador.rename(columns={'index':'Município', 'Category: All categories': c_name})\n",
    "        database = database.merge(indicador, how='left',on='Município').fillna(0)\n",
    "        database[c_name] = database[c_name].astype(int)\n",
    "    \n",
    "    return database\n",
    "\n",
    "cultura = {}\n",
    "\n",
    "# ---------------------------------------------------------------------------------------------\n",
    "# 2.8.1. SUBDETERMINANTE INICIATIVA\n",
    "\n",
    "subdet = 'Iniciativa'\n",
    "\n",
    "iniciativa = ['pelo Termo Empreendedora', 'pelo Termo Empreendedorismo', 'pelo Termo MEI']\n",
    "sub_iniciativa = pd.DataFrame()\n",
    "sub_iniciativa.index = database.index\n",
    "\n",
    "for i in iniciativa:\n",
    "    sub_iniciativa = save_googletrends(sub_iniciativa, i).set_index('Município')\n",
    "    \n",
    "missing_data(sub_iniciativa)\n",
    "extreme_values(sub_iniciativa)\n",
    "create_subindex(sub_iniciativa, subdet)\n",
    "cultura[subdet] = sub_iniciativa\n",
    "\n",
    "# ---------------------------------------------------------------------------------------------\n",
    "# 2.8.2. SUBDETERMINANTE INSTITUIÇÕES\n",
    "\n",
    "subdet = 'Instituições'\n",
    "\n",
    "instituicoes = ['por Sebrae', 'por Franquia', 'por SIMPLES_Nacional', 'por Senac']\n",
    "sub_instituicoes = pd.DataFrame()\n",
    "sub_instituicoes.index = database.index\n",
    "\n",
    "for i in instituicoes:\n",
    "    sub_instituicoes = save_googletrends(sub_instituicoes, i).set_index('Município')\n",
    "\n",
    "missing_data(sub_instituicoes)\n",
    "extreme_values(sub_instituicoes)\n",
    "create_subindex(sub_instituicoes, subdet)\n",
    "cultura[subdet] = sub_instituicoes\n",
    "\n",
    "# ---------------------------------------------------------------------------------------------\n",
    "cultura = pd.concat(cultura, axis=1)\n",
    "create_detindex(cultura, 'Cultura')\n",
    "\n",
    "cultura = cultura.reset_index()\n",
    "cultura['UF'] = amostra['UF']\n",
    "cultura = cultura.set_index(['Município', 'UF'])\n",
    "\n",
    "\n",
    "cultura.to_csv('DETERMINANTE CULTURA/det-CULTURA.csv')"
   ]
  }
 ],
 "metadata": {
  "hide_input": false,
  "kernelspec": {
   "display_name": "Python 3",
   "language": "python",
   "name": "python3"
  },
  "language_info": {
   "codemirror_mode": {
    "name": "ipython",
    "version": 3
   },
   "file_extension": ".py",
   "mimetype": "text/x-python",
   "name": "python",
   "nbconvert_exporter": "python",
   "pygments_lexer": "ipython3",
   "version": "3.7.4"
  },
  "varInspector": {
   "cols": {
    "lenName": 16,
    "lenType": 16,
    "lenVar": 40
   },
   "kernels_config": {
    "python": {
     "delete_cmd_postfix": "",
     "delete_cmd_prefix": "del ",
     "library": "var_list.py",
     "varRefreshCmd": "print(var_dic_list())"
    },
    "r": {
     "delete_cmd_postfix": ") ",
     "delete_cmd_prefix": "rm(",
     "library": "var_list.r",
     "varRefreshCmd": "cat(var_dic_list()) "
    }
   },
   "types_to_exclude": [
    "module",
    "function",
    "builtin_function_or_method",
    "instance",
    "_Feature"
   ],
   "window_display": false
  }
 },
 "nbformat": 4,
 "nbformat_minor": 2
}
