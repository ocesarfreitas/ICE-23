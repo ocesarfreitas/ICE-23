{
 "cells": [
  {
   "cell_type": "code",
   "execution_count": 204,
   "metadata": {
    "ExecuteTime": {
     "end_time": "2022-08-16T17:55:11.739246Z",
     "start_time": "2022-08-16T17:55:11.733260Z"
    }
   },
   "outputs": [],
   "source": [
    "import pandas as pd\n",
    "import numpy as np\n",
    "from funcs import *\n",
    "import unidecode\n",
    "import basedosdados as bd"
   ]
  },
  {
   "cell_type": "code",
   "execution_count": 205,
   "metadata": {
    "ExecuteTime": {
     "end_time": "2022-08-16T17:55:12.164294Z",
     "start_time": "2022-08-16T17:55:12.151657Z"
    }
   },
   "outputs": [],
   "source": [
    "# 2.4. DETERMINANTE MERCADO\n",
    "\n",
    "mercado = {}"
   ]
  },
  {
   "cell_type": "code",
   "execution_count": 206,
   "metadata": {
    "ExecuteTime": {
     "end_time": "2022-08-16T17:55:12.569264Z",
     "start_time": "2022-08-16T17:55:12.555242Z"
    }
   },
   "outputs": [],
   "source": [
    "# 2.4.1. Subdeterminante Desenvolvimento Econômico\n",
    "\n",
    "subdet = 'Desenvolvimento Econômico'"
   ]
  },
  {
   "cell_type": "code",
   "execution_count": 207,
   "metadata": {
    "ExecuteTime": {
     "end_time": "2022-08-16T17:55:13.208096Z",
     "start_time": "2022-08-16T17:55:13.076793Z"
    }
   },
   "outputs": [],
   "source": [
    "# 2.4.1.1. Indicador Índice de Desenvolvimento Humano\n",
    "\n",
    "ind = pd.read_excel('Arquivos ICE - 23/Ind_Originais_ICE_2022.xlsx', header=[i for i in range(6)], index_col=[0,1])\n",
    "sub_desenveco = ind['Mercado', 'Desenvolvimento Econômico', 'Índice de Desenvolvimento Humano']\n",
    "sub_desenveco.columns = sub_desenveco.columns.droplevel([0,1])\n",
    "sub_desenveco.columns.values[0] = 'Índice de Desenvolvimento Humano'"
   ]
  },
  {
   "cell_type": "code",
   "execution_count": 215,
   "metadata": {
    "ExecuteTime": {
     "end_time": "2022-08-16T17:59:40.387024Z",
     "start_time": "2022-08-16T17:59:39.950024Z"
    }
   },
   "outputs": [],
   "source": [
    "# 2.4.1.2. Indicador Crescimento Médio Real do PIB\n",
    "\n",
    "pib = pd.read_excel('DETERMINANTE MERCADO/tabela5938.xlsx', header=3).head(-1)\n",
    "pib.columns.values[0] = 'Município'\n",
    "pib['UF'] = pib['Município'].apply(lambda x: x.split('(')[-1][:2])\n",
    "pib['Município'] = pib['Município'].apply(lambda x: x.split('(')[0].strip())\n",
    "pib = pib.set_index(['Município', 'UF'])\n",
    "\n",
    "# O DEFLATOR DO PIB UTILIZADO É DA FONTE IPEADATA E NÃO IBGE\n",
    "\n",
    "deflator = pd.DataFrame([{\n",
    "    '2016':8.10,\n",
    "    '2017':3.67,\n",
    "    '2018':4.49,\n",
    "    '2019':4.22\n",
    "}]).T"
   ]
  },
  {
   "cell_type": "code",
   "execution_count": 223,
   "metadata": {
    "ExecuteTime": {
     "end_time": "2022-08-16T18:07:13.579881Z",
     "start_time": "2022-08-16T18:07:13.557933Z"
    }
   },
   "outputs": [
    {
     "data": {
      "text/html": [
       "<div>\n",
       "<style scoped>\n",
       "    .dataframe tbody tr th:only-of-type {\n",
       "        vertical-align: middle;\n",
       "    }\n",
       "\n",
       "    .dataframe tbody tr th {\n",
       "        vertical-align: top;\n",
       "    }\n",
       "\n",
       "    .dataframe thead th {\n",
       "        text-align: right;\n",
       "    }\n",
       "</style>\n",
       "<table border=\"1\" class=\"dataframe\">\n",
       "  <thead>\n",
       "    <tr style=\"text-align: right;\">\n",
       "      <th></th>\n",
       "      <th>0</th>\n",
       "    </tr>\n",
       "  </thead>\n",
       "  <tbody>\n",
       "    <tr>\n",
       "      <th>2016</th>\n",
       "      <td>1.037229</td>\n",
       "    </tr>\n",
       "    <tr>\n",
       "      <th>2017</th>\n",
       "      <td>0.994723</td>\n",
       "    </tr>\n",
       "    <tr>\n",
       "      <th>2018</th>\n",
       "      <td>1.002591</td>\n",
       "    </tr>\n",
       "    <tr>\n",
       "      <th>2019</th>\n",
       "      <td>1.000000</td>\n",
       "    </tr>\n",
       "  </tbody>\n",
       "</table>\n",
       "</div>"
      ],
      "text/plain": [
       "             0\n",
       "2016  1.037229\n",
       "2017  0.994723\n",
       "2018  1.002591\n",
       "2019  1.000000"
      ]
     },
     "execution_count": 223,
     "metadata": {},
     "output_type": "execute_result"
    }
   ],
   "source": [
    "(deflator +100)/(deflator.loc['2019',0]+100)"
   ]
  },
  {
   "cell_type": "code",
   "execution_count": 209,
   "metadata": {
    "ExecuteTime": {
     "end_time": "2022-08-16T17:56:08.405984Z",
     "start_time": "2022-08-16T17:55:14.438382Z"
    },
    "scrolled": true
   },
   "outputs": [
    {
     "name": "stderr",
     "output_type": "stream",
     "text": [
      "Downloading: 100%|████████████████████████████████████████████████████████████| 5570/5570 [00:00<00:00, 10247.33rows/s]\n"
     ]
    }
   ],
   "source": [
    "# 2.4.1.3. Indicador Número de Empresas Exportadoras com Sede na Cidade\n",
    "\n",
    "emp_exp = pd.read_excel('DETERMINANTE MERCADO/EMPRESAS_CADASTRO_2020.xlsx', header=7)\n",
    "\n",
    "convert = lambda x: unidecode.unidecode(x.upper())\n",
    "n_exp = {n:len(emp_exp.groupby(['MUNICÍPIO', 'UF']).get_group(tuple([convert(i) for i in n]))) for n in sub_desenveco.index}\n",
    "n_exp = pd.DataFrame([n_exp],index=['n_exp']).T\n",
    "n_exp.index = pd.MultiIndex.from_tuples(n_exp.index, names=['Município', 'UF'])\n",
    "\n",
    "variaveis = ('COUNT(quantidade_vinculos_ativos), id_municipio')\n",
    "\n",
    "## Montando a query\n",
    "base = '`basedosdados.br_me_rais.microdados_estabelecimentos`'\n",
    "project_id = \"trim-descent-346220\"\n",
    "query = f\"SELECT id_municipio, COUNT(quantidade_vinculos_ativos) FROM {base} WHERE ano = 2020 AND quantidade_vinculos_ativos > 0 GROUP BY id_municipio\"\n",
    "\n",
    "## Importando o data lake\n",
    "df_rais = bd.read_sql(query=query, billing_project_id=project_id).set_index('id_municipio')\n",
    "\n",
    "cod = pd.read_excel('DETERMINANTE MERCADO/RELATORIO_DTB_BRASIL_MUNICIPIO.xls')\n",
    "cod = cod.rename(columns={'Código Município Completo':'id_municipio'})\n",
    "cod['id_municipio'] = cod['id_municipio'].apply(str)\n",
    "cod = cod[['Nome_Município','Nome_UF','id_municipio']].set_index('id_municipio')\n",
    "\n",
    "n_rais = pd.merge(cod, df_rais, left_index=True, right_index=True).rename(columns={\n",
    "    'Nome_Município':'Município',\n",
    "    'Nome_UF':'UF',\n",
    "    'f0_':'n_rais'\n",
    "}).set_index(['Município', 'UF'])\n",
    "\n",
    "ratio = pd.merge(n_rais, n_exp, left_index=True, right_index=True)\n",
    "ratio['ratio'] = ratio['n_exp']/ratio['n_rais']\n",
    "\n",
    "sub_desenveco['Número de Empresas Exportadoras com Sede na Cidade'] = ratio['ratio']"
   ]
  },
  {
   "cell_type": "code",
   "execution_count": 210,
   "metadata": {
    "ExecuteTime": {
     "end_time": "2022-08-16T17:56:08.831147Z",
     "start_time": "2022-08-16T17:56:08.802152Z"
    }
   },
   "outputs": [
    {
     "data": {
      "text/html": [
       "<div>\n",
       "<style scoped>\n",
       "    .dataframe tbody tr th:only-of-type {\n",
       "        vertical-align: middle;\n",
       "    }\n",
       "\n",
       "    .dataframe tbody tr th {\n",
       "        vertical-align: top;\n",
       "    }\n",
       "\n",
       "    .dataframe thead th {\n",
       "        text-align: right;\n",
       "    }\n",
       "</style>\n",
       "<table border=\"1\" class=\"dataframe\">\n",
       "  <thead>\n",
       "    <tr style=\"text-align: right;\">\n",
       "      <th></th>\n",
       "      <th>UF</th>\n",
       "      <th>Índice de Desenvolvimento Humano</th>\n",
       "      <th>Número de Empresas Exportadoras com Sede na Cidade</th>\n",
       "    </tr>\n",
       "  </thead>\n",
       "  <tbody>\n",
       "    <tr>\n",
       "      <th>Rio de Janeiro</th>\n",
       "      <th>RJ</th>\n",
       "      <td>0.799</td>\n",
       "      <td>0.005925</td>\n",
       "    </tr>\n",
       "    <tr>\n",
       "      <th>São Paulo</th>\n",
       "      <th>SP</th>\n",
       "      <td>0.805</td>\n",
       "      <td>0.013096</td>\n",
       "    </tr>\n",
       "    <tr>\n",
       "      <th>Florianópolis</th>\n",
       "      <th>SC</th>\n",
       "      <td>0.847</td>\n",
       "      <td>0.005943</td>\n",
       "    </tr>\n",
       "    <tr>\n",
       "      <th>Curitiba</th>\n",
       "      <th>PR</th>\n",
       "      <td>0.823</td>\n",
       "      <td>0.010232</td>\n",
       "    </tr>\n",
       "    <tr>\n",
       "      <th>Joinville</th>\n",
       "      <th>SC</th>\n",
       "      <td>0.809</td>\n",
       "      <td>0.017927</td>\n",
       "    </tr>\n",
       "    <tr>\n",
       "      <th>...</th>\n",
       "      <th>...</th>\n",
       "      <td>...</td>\n",
       "      <td>...</td>\n",
       "    </tr>\n",
       "    <tr>\n",
       "      <th>São Vicente</th>\n",
       "      <th>SP</th>\n",
       "      <td>0.768</td>\n",
       "      <td>0.004187</td>\n",
       "    </tr>\n",
       "    <tr>\n",
       "      <th>São João de Meriti</th>\n",
       "      <th>RJ</th>\n",
       "      <td>0.719</td>\n",
       "      <td>0.001978</td>\n",
       "    </tr>\n",
       "    <tr>\n",
       "      <th>Ribeirão das Neves</th>\n",
       "      <th>MG</th>\n",
       "      <td>0.684</td>\n",
       "      <td>0.003631</td>\n",
       "    </tr>\n",
       "    <tr>\n",
       "      <th>Itaquaquecetuba</th>\n",
       "      <th>SP</th>\n",
       "      <td>0.714</td>\n",
       "      <td>0.029337</td>\n",
       "    </tr>\n",
       "    <tr>\n",
       "      <th>Belford Roxo</th>\n",
       "      <th>RJ</th>\n",
       "      <td>0.684</td>\n",
       "      <td>0.004437</td>\n",
       "    </tr>\n",
       "  </tbody>\n",
       "</table>\n",
       "<p>101 rows × 2 columns</p>\n",
       "</div>"
      ],
      "text/plain": [
       "UF                     Índice de Desenvolvimento Humano  \\\n",
       "Rio de Janeiro     RJ                             0.799   \n",
       "São Paulo          SP                             0.805   \n",
       "Florianópolis      SC                             0.847   \n",
       "Curitiba           PR                             0.823   \n",
       "Joinville          SC                             0.809   \n",
       "...                                                 ...   \n",
       "São Vicente        SP                             0.768   \n",
       "São João de Meriti RJ                             0.719   \n",
       "Ribeirão das Neves MG                             0.684   \n",
       "Itaquaquecetuba    SP                             0.714   \n",
       "Belford Roxo       RJ                             0.684   \n",
       "\n",
       "UF                     Número de Empresas Exportadoras com Sede na Cidade  \n",
       "Rio de Janeiro     RJ                                           0.005925   \n",
       "São Paulo          SP                                           0.013096   \n",
       "Florianópolis      SC                                           0.005943   \n",
       "Curitiba           PR                                           0.010232   \n",
       "Joinville          SC                                           0.017927   \n",
       "...                                                                  ...   \n",
       "São Vicente        SP                                           0.004187   \n",
       "São João de Meriti RJ                                           0.001978   \n",
       "Ribeirão das Neves MG                                           0.003631   \n",
       "Itaquaquecetuba    SP                                           0.029337   \n",
       "Belford Roxo       RJ                                           0.004437   \n",
       "\n",
       "[101 rows x 2 columns]"
      ]
     },
     "execution_count": 210,
     "metadata": {},
     "output_type": "execute_result"
    }
   ],
   "source": [
    "sub_desenveco"
   ]
  },
  {
   "cell_type": "code",
   "execution_count": null,
   "metadata": {},
   "outputs": [],
   "source": [
    "# 2.4.2. Subdeterminante Clientes Potenciais\n",
    "\n",
    "subdet = 'Desenvolvimento Econômico'"
   ]
  }
 ],
 "metadata": {
  "hide_input": false,
  "kernelspec": {
   "display_name": "Python 3",
   "language": "python",
   "name": "python3"
  },
  "language_info": {
   "codemirror_mode": {
    "name": "ipython",
    "version": 3
   },
   "file_extension": ".py",
   "mimetype": "text/x-python",
   "name": "python",
   "nbconvert_exporter": "python",
   "pygments_lexer": "ipython3",
   "version": "3.7.4"
  },
  "varInspector": {
   "cols": {
    "lenName": 16,
    "lenType": 16,
    "lenVar": 40
   },
   "kernels_config": {
    "python": {
     "delete_cmd_postfix": "",
     "delete_cmd_prefix": "del ",
     "library": "var_list.py",
     "varRefreshCmd": "print(var_dic_list())"
    },
    "r": {
     "delete_cmd_postfix": ") ",
     "delete_cmd_prefix": "rm(",
     "library": "var_list.r",
     "varRefreshCmd": "cat(var_dic_list()) "
    }
   },
   "types_to_exclude": [
    "module",
    "function",
    "builtin_function_or_method",
    "instance",
    "_Feature"
   ],
   "window_display": false
  }
 },
 "nbformat": 4,
 "nbformat_minor": 2
}
