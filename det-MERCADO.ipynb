{
 "cells": [
  {
   "cell_type": "code",
   "execution_count": 7,
   "metadata": {
    "ExecuteTime": {
     "end_time": "2022-08-17T19:46:13.296463Z",
     "start_time": "2022-08-17T19:46:13.285309Z"
    }
   },
   "outputs": [],
   "source": [
    "import pandas as pd\n",
    "import numpy as np\n",
    "from funcs import *\n",
    "import unidecode\n",
    "import basedosdados as bd"
   ]
  },
  {
   "cell_type": "code",
   "execution_count": 8,
   "metadata": {
    "ExecuteTime": {
     "end_time": "2022-08-17T19:46:14.149685Z",
     "start_time": "2022-08-17T19:46:14.132050Z"
    }
   },
   "outputs": [],
   "source": [
    "# 2.4. DETERMINANTE MERCADO\n",
    "\n",
    "mercado = {}"
   ]
  },
  {
   "cell_type": "code",
   "execution_count": 9,
   "metadata": {
    "ExecuteTime": {
     "end_time": "2022-08-17T19:46:14.946957Z",
     "start_time": "2022-08-17T19:46:14.935534Z"
    }
   },
   "outputs": [],
   "source": [
    "# 2.4.1. Subdeterminante Desenvolvimento Econômico\n",
    "\n",
    "subdet = 'Desenvolvimento Econômico'"
   ]
  },
  {
   "cell_type": "code",
   "execution_count": 10,
   "metadata": {
    "ExecuteTime": {
     "end_time": "2022-08-17T19:46:15.966079Z",
     "start_time": "2022-08-17T19:46:15.705365Z"
    }
   },
   "outputs": [],
   "source": [
    "# 2.4.1.1. Indicador Índice de Desenvolvimento Humano\n",
    "\n",
    "ind = pd.read_excel('Arquivos ICE - 23/Ind_Originais_ICE_2022.xlsx', header=[i for i in range(6)], index_col=[0,1])\n",
    "sub_desenveco = ind['Mercado', 'Desenvolvimento Econômico', 'Índice de Desenvolvimento Humano']\n",
    "sub_desenveco.columns = sub_desenveco.columns.droplevel([0,1])\n",
    "sub_desenveco.columns.values[0] = 'Índice de Desenvolvimento Humano'\n",
    "sub_desenveco = sub_desenveco.rename_axis(None, axis=1)\n",
    "sub_desenveco.index.names = ['Município', 'UF']"
   ]
  },
  {
   "cell_type": "code",
   "execution_count": 11,
   "metadata": {
    "ExecuteTime": {
     "end_time": "2022-08-17T19:46:19.142409Z",
     "start_time": "2022-08-17T19:46:16.984060Z"
    }
   },
   "outputs": [],
   "source": [
    "# 2.4.1.2. Indicador Crescimento Médio Real do PIB\n",
    "\n",
    "pib = pd.read_excel('DETERMINANTE MERCADO/tabela5938.xlsx', header=3).head(-1)\n",
    "pib.columns.values[0] = 'Município'\n",
    "pib['UF'] = pib['Município'].apply(lambda x: x.split('(')[-1][:2])\n",
    "pib['Município'] = pib['Município'].apply(lambda x: x.split('(')[0].strip())\n",
    "pib = pib.set_index(['Município', 'UF'])\n",
    "\n",
    "# O DEFLATOR DO PIB UTILIZADO É DA FONTE IPEADATA E NÃO IBGE\n",
    "\n",
    "deflator = pd.DataFrame([{\n",
    "    '2016':8.10,\n",
    "    '2017':3.67,\n",
    "    '2018':4.49,\n",
    "    '2019':4.22\n",
    "}]).T\n",
    "deflator = (deflator +100)/(deflator.loc['2019',0]+100)\n",
    "\n",
    "pib_def = pd.DataFrame()\n",
    "for i in pib.columns:\n",
    "    pib_def[i] = pib[i]*deflator.loc[i,0]\n",
    "    \n",
    "pib_var = (pib_def.T / pib_def.T.shift(1)).apply(lambda x: x-1).T.drop('2016', axis=1)\n",
    "pib_var['Crescimento Real Médio do PIB'] = pib_var.mean(axis=1)\n",
    "\n",
    "sub_desenveco = pd.merge(sub_desenveco, pib_var['Crescimento Real Médio do PIB'], left_index=True, right_index=True)"
   ]
  },
  {
   "cell_type": "code",
   "execution_count": 12,
   "metadata": {
    "ExecuteTime": {
     "end_time": "2022-08-17T19:46:32.715374Z",
     "start_time": "2022-08-17T19:46:20.213404Z"
    },
    "scrolled": true
   },
   "outputs": [
    {
     "name": "stderr",
     "output_type": "stream",
     "text": [
      "Downloading: 100%|████████████████████████████████████████████████████████████| 5570/5570 [00:00<00:00, 10198.94rows/s]\n"
     ]
    }
   ],
   "source": [
    "# 2.4.1.3. Indicador Número de Empresas Exportadoras com Sede na Cidade\n",
    "\n",
    "emp_exp = pd.read_excel('DETERMINANTE MERCADO/EMPRESAS_CADASTRO_2020.xlsx', header=7)\n",
    "\n",
    "convert = lambda x: unidecode.unidecode(x.upper())\n",
    "n_exp = {n:len(emp_exp.groupby(['MUNICÍPIO', 'UF']).get_group(tuple([convert(i) for i in n]))) for n in sub_desenveco.index}\n",
    "n_exp = pd.DataFrame([n_exp],index=['n_exp']).T\n",
    "n_exp.index = pd.MultiIndex.from_tuples(n_exp.index, names=['Município', 'UF'])\n",
    "\n",
    "variaveis = ('COUNT(quantidade_vinculos_ativos), id_municipio')\n",
    "\n",
    "## Montando a query\n",
    "base = '`basedosdados.br_me_rais.microdados_estabelecimentos`'\n",
    "project_id = \"trim-descent-346220\"\n",
    "query = f\"SELECT id_municipio, COUNT(quantidade_vinculos_ativos) FROM {base} WHERE ano = 2020 AND quantidade_vinculos_ativos > 0 GROUP BY id_municipio\"\n",
    "\n",
    "## Importando o data lake\n",
    "df_rais = bd.read_sql(query=query, billing_project_id=project_id).set_index('id_municipio')\n",
    "\n",
    "cod = pd.read_excel('DETERMINANTE MERCADO/RELATORIO_DTB_BRASIL_MUNICIPIO.xls')\n",
    "cod = cod.rename(columns={'Código Município Completo':'id_municipio'})\n",
    "cod['id_municipio'] = cod['id_municipio'].apply(str)\n",
    "cod = cod[['Nome_Município','Nome_UF','id_municipio']].set_index('id_municipio')\n",
    "\n",
    "n_rais = pd.merge(cod, df_rais, left_index=True, right_index=True).rename(columns={\n",
    "    'Nome_Município':'Município',\n",
    "    'Nome_UF':'UF',\n",
    "    'f0_':'n_rais'\n",
    "}).set_index(['Município', 'UF'])\n",
    "\n",
    "ratio = pd.merge(n_rais, n_exp, left_index=True, right_index=True)\n",
    "ratio['ratio'] = ratio['n_exp']/ratio['n_rais']\n",
    "\n",
    "sub_desenveco['Número de Empresas Exportadoras com Sede na Cidade'] = ratio['ratio']"
   ]
  },
  {
   "cell_type": "code",
   "execution_count": 13,
   "metadata": {
    "ExecuteTime": {
     "end_time": "2022-08-17T19:46:34.674458Z",
     "start_time": "2022-08-17T19:46:34.457249Z"
    },
    "scrolled": false
   },
   "outputs": [
    {
     "data": {
      "text/html": [
       "<div>\n",
       "<style scoped>\n",
       "    .dataframe tbody tr th:only-of-type {\n",
       "        vertical-align: middle;\n",
       "    }\n",
       "\n",
       "    .dataframe tbody tr th {\n",
       "        vertical-align: top;\n",
       "    }\n",
       "\n",
       "    .dataframe thead th {\n",
       "        text-align: right;\n",
       "    }\n",
       "</style>\n",
       "<table border=\"1\" class=\"dataframe\">\n",
       "  <thead>\n",
       "    <tr style=\"text-align: right;\">\n",
       "      <th></th>\n",
       "      <th></th>\n",
       "      <th>Índice de Desenvolvimento Humano</th>\n",
       "      <th>Crescimento Real Médio do PIB</th>\n",
       "      <th>Número de Empresas Exportadoras com Sede na Cidade</th>\n",
       "      <th>Índice de Desenvolvimento Econômico</th>\n",
       "    </tr>\n",
       "    <tr>\n",
       "      <th>Município</th>\n",
       "      <th>UF</th>\n",
       "      <th></th>\n",
       "      <th></th>\n",
       "      <th></th>\n",
       "      <th></th>\n",
       "    </tr>\n",
       "  </thead>\n",
       "  <tbody>\n",
       "    <tr>\n",
       "      <th>Rio de Janeiro</th>\n",
       "      <th>RJ</th>\n",
       "      <td>0.799</td>\n",
       "      <td>0.014996</td>\n",
       "      <td>0.005925</td>\n",
       "      <td>5.873209</td>\n",
       "    </tr>\n",
       "    <tr>\n",
       "      <th>São Paulo</th>\n",
       "      <th>SP</th>\n",
       "      <td>0.805</td>\n",
       "      <td>0.025963</td>\n",
       "      <td>0.013096</td>\n",
       "      <td>6.554610</td>\n",
       "    </tr>\n",
       "    <tr>\n",
       "      <th>Florianópolis</th>\n",
       "      <th>SC</th>\n",
       "      <td>0.847</td>\n",
       "      <td>0.043613</td>\n",
       "      <td>0.005943</td>\n",
       "      <td>6.916514</td>\n",
       "    </tr>\n",
       "    <tr>\n",
       "      <th>Curitiba</th>\n",
       "      <th>PR</th>\n",
       "      <td>0.823</td>\n",
       "      <td>0.035563</td>\n",
       "      <td>0.010232</td>\n",
       "      <td>6.751256</td>\n",
       "    </tr>\n",
       "    <tr>\n",
       "      <th>Joinville</th>\n",
       "      <th>SC</th>\n",
       "      <td>0.809</td>\n",
       "      <td>0.097477</td>\n",
       "      <td>0.017927</td>\n",
       "      <td>7.927349</td>\n",
       "    </tr>\n",
       "    <tr>\n",
       "      <th>...</th>\n",
       "      <th>...</th>\n",
       "      <td>...</td>\n",
       "      <td>...</td>\n",
       "      <td>...</td>\n",
       "      <td>...</td>\n",
       "    </tr>\n",
       "    <tr>\n",
       "      <th>São Vicente</th>\n",
       "      <th>SP</th>\n",
       "      <td>0.768</td>\n",
       "      <td>0.018591</td>\n",
       "      <td>0.004187</td>\n",
       "      <td>5.406877</td>\n",
       "    </tr>\n",
       "    <tr>\n",
       "      <th>São João de Meriti</th>\n",
       "      <th>RJ</th>\n",
       "      <td>0.719</td>\n",
       "      <td>0.002492</td>\n",
       "      <td>0.001978</td>\n",
       "      <td>4.392700</td>\n",
       "    </tr>\n",
       "    <tr>\n",
       "      <th>Ribeirão das Neves</th>\n",
       "      <th>MG</th>\n",
       "      <td>0.684</td>\n",
       "      <td>0.050157</td>\n",
       "      <td>0.003631</td>\n",
       "      <td>4.712603</td>\n",
       "    </tr>\n",
       "    <tr>\n",
       "      <th>Itaquaquecetuba</th>\n",
       "      <th>SP</th>\n",
       "      <td>0.714</td>\n",
       "      <td>0.042382</td>\n",
       "      <td>0.029337</td>\n",
       "      <td>6.596033</td>\n",
       "    </tr>\n",
       "    <tr>\n",
       "      <th>Belford Roxo</th>\n",
       "      <th>RJ</th>\n",
       "      <td>0.684</td>\n",
       "      <td>-0.006917</td>\n",
       "      <td>0.004437</td>\n",
       "      <td>3.948988</td>\n",
       "    </tr>\n",
       "  </tbody>\n",
       "</table>\n",
       "<p>101 rows × 4 columns</p>\n",
       "</div>"
      ],
      "text/plain": [
       "                       Índice de Desenvolvimento Humano  \\\n",
       "Município          UF                                     \n",
       "Rio de Janeiro     RJ                             0.799   \n",
       "São Paulo          SP                             0.805   \n",
       "Florianópolis      SC                             0.847   \n",
       "Curitiba           PR                             0.823   \n",
       "Joinville          SC                             0.809   \n",
       "...                                                 ...   \n",
       "São Vicente        SP                             0.768   \n",
       "São João de Meriti RJ                             0.719   \n",
       "Ribeirão das Neves MG                             0.684   \n",
       "Itaquaquecetuba    SP                             0.714   \n",
       "Belford Roxo       RJ                             0.684   \n",
       "\n",
       "                       Crescimento Real Médio do PIB  \\\n",
       "Município          UF                                  \n",
       "Rio de Janeiro     RJ                       0.014996   \n",
       "São Paulo          SP                       0.025963   \n",
       "Florianópolis      SC                       0.043613   \n",
       "Curitiba           PR                       0.035563   \n",
       "Joinville          SC                       0.097477   \n",
       "...                                              ...   \n",
       "São Vicente        SP                       0.018591   \n",
       "São João de Meriti RJ                       0.002492   \n",
       "Ribeirão das Neves MG                       0.050157   \n",
       "Itaquaquecetuba    SP                       0.042382   \n",
       "Belford Roxo       RJ                      -0.006917   \n",
       "\n",
       "                       Número de Empresas Exportadoras com Sede na Cidade  \\\n",
       "Município          UF                                                       \n",
       "Rio de Janeiro     RJ                                           0.005925    \n",
       "São Paulo          SP                                           0.013096    \n",
       "Florianópolis      SC                                           0.005943    \n",
       "Curitiba           PR                                           0.010232    \n",
       "Joinville          SC                                           0.017927    \n",
       "...                                                                  ...    \n",
       "São Vicente        SP                                           0.004187    \n",
       "São João de Meriti RJ                                           0.001978    \n",
       "Ribeirão das Neves MG                                           0.003631    \n",
       "Itaquaquecetuba    SP                                           0.029337    \n",
       "Belford Roxo       RJ                                           0.004437    \n",
       "\n",
       "                       Índice de Desenvolvimento Econômico  \n",
       "Município          UF                                       \n",
       "Rio de Janeiro     RJ                             5.873209  \n",
       "São Paulo          SP                             6.554610  \n",
       "Florianópolis      SC                             6.916514  \n",
       "Curitiba           PR                             6.751256  \n",
       "Joinville          SC                             7.927349  \n",
       "...                                                    ...  \n",
       "São Vicente        SP                             5.406877  \n",
       "São João de Meriti RJ                             4.392700  \n",
       "Ribeirão das Neves MG                             4.712603  \n",
       "Itaquaquecetuba    SP                             6.596033  \n",
       "Belford Roxo       RJ                             3.948988  \n",
       "\n",
       "[101 rows x 4 columns]"
      ]
     },
     "execution_count": 13,
     "metadata": {},
     "output_type": "execute_result"
    }
   ],
   "source": [
    "missing_data(sub_desenveco)\n",
    "#extreme_values(sub_desenveco)\n",
    "create_subindex(sub_desenveco, subdet)\n",
    "mercado[subdet] = sub_desenveco\n",
    "sub_desenveco"
   ]
  },
  {
   "cell_type": "code",
   "execution_count": 48,
   "metadata": {
    "ExecuteTime": {
     "end_time": "2022-08-17T20:01:20.441487Z",
     "start_time": "2022-08-17T20:01:20.429514Z"
    }
   },
   "outputs": [],
   "source": [
    "# 2.4.2. Subdeterminante Clientes Potenciais\n",
    "\n",
    "subdet = 'Clientes Potenciais'\n",
    "sub_clipot = pd.DataFrame()"
   ]
  },
  {
   "cell_type": "code",
   "execution_count": 49,
   "metadata": {
    "ExecuteTime": {
     "end_time": "2022-08-17T20:01:22.252524Z",
     "start_time": "2022-08-17T20:01:22.207566Z"
    }
   },
   "outputs": [
    {
     "data": {
      "text/html": [
       "<div>\n",
       "<style scoped>\n",
       "    .dataframe tbody tr th:only-of-type {\n",
       "        vertical-align: middle;\n",
       "    }\n",
       "\n",
       "    .dataframe tbody tr th {\n",
       "        vertical-align: top;\n",
       "    }\n",
       "\n",
       "    .dataframe thead th {\n",
       "        text-align: right;\n",
       "    }\n",
       "</style>\n",
       "<table border=\"1\" class=\"dataframe\">\n",
       "  <thead>\n",
       "    <tr style=\"text-align: right;\">\n",
       "      <th></th>\n",
       "      <th></th>\n",
       "      <th>PIB per capita</th>\n",
       "    </tr>\n",
       "    <tr>\n",
       "      <th>Município</th>\n",
       "      <th>UF</th>\n",
       "      <th></th>\n",
       "    </tr>\n",
       "  </thead>\n",
       "  <tbody>\n",
       "    <tr>\n",
       "      <th>Ananindeua</th>\n",
       "      <th>PA</th>\n",
       "      <td>15.110366</td>\n",
       "    </tr>\n",
       "    <tr>\n",
       "      <th>Anápolis</th>\n",
       "      <th>GO</th>\n",
       "      <td>37.168564</td>\n",
       "    </tr>\n",
       "    <tr>\n",
       "      <th>Aparecida de Goiânia</th>\n",
       "      <th>GO</th>\n",
       "      <td>23.877938</td>\n",
       "    </tr>\n",
       "    <tr>\n",
       "      <th>Aracaju</th>\n",
       "      <th>SE</th>\n",
       "      <td>26.069206</td>\n",
       "    </tr>\n",
       "    <tr>\n",
       "      <th>Bauru</th>\n",
       "      <th>SP</th>\n",
       "      <td>40.147629</td>\n",
       "    </tr>\n",
       "    <tr>\n",
       "      <th>...</th>\n",
       "      <th>...</th>\n",
       "      <td>...</td>\n",
       "    </tr>\n",
       "    <tr>\n",
       "      <th>Uberlândia</th>\n",
       "      <th>MG</th>\n",
       "      <td>53.252704</td>\n",
       "    </tr>\n",
       "    <tr>\n",
       "      <th>Vila Velha</th>\n",
       "      <th>ES</th>\n",
       "      <td>25.281651</td>\n",
       "    </tr>\n",
       "    <tr>\n",
       "      <th>Vitória</th>\n",
       "      <th>ES</th>\n",
       "      <td>58.492298</td>\n",
       "    </tr>\n",
       "    <tr>\n",
       "      <th>Vitória da Conquista</th>\n",
       "      <th>BA</th>\n",
       "      <td>21.137428</td>\n",
       "    </tr>\n",
       "    <tr>\n",
       "      <th>Várzea Grande</th>\n",
       "      <th>MT</th>\n",
       "      <td>29.604447</td>\n",
       "    </tr>\n",
       "  </tbody>\n",
       "</table>\n",
       "<p>101 rows × 1 columns</p>\n",
       "</div>"
      ],
      "text/plain": [
       "                         PIB per capita\n",
       "Município            UF                \n",
       "Ananindeua           PA       15.110366\n",
       "Anápolis             GO       37.168564\n",
       "Aparecida de Goiânia GO       23.877938\n",
       "Aracaju              SE       26.069206\n",
       "Bauru                SP       40.147629\n",
       "...                                 ...\n",
       "Uberlândia           MG       53.252704\n",
       "Vila Velha           ES       25.281651\n",
       "Vitória              ES       58.492298\n",
       "Vitória da Conquista BA       21.137428\n",
       "Várzea Grande        MT       29.604447\n",
       "\n",
       "[101 rows x 1 columns]"
      ]
     },
     "execution_count": 49,
     "metadata": {},
     "output_type": "execute_result"
    }
   ],
   "source": [
    "amostra = pd.read_csv('AMOSTRA/100-municipios.csv').rename(columns={\n",
    "    'COD. MUNIC':'Município'\n",
    "}).rename(columns={'Município':'None', 'NOME DO MUNICÍPIO':'Município'}).set_index(['Município', 'UF'])\n",
    "\n",
    "sub_clipot['PIB per capita'] = (pib['2019']/amostra['POPULAÇÃO ESTIMADA']).dropna()\n",
    "sub_clipot"
   ]
  },
  {
   "cell_type": "code",
   "execution_count": null,
   "metadata": {},
   "outputs": [],
   "source": []
  }
 ],
 "metadata": {
  "hide_input": false,
  "kernelspec": {
   "display_name": "Python 3",
   "language": "python",
   "name": "python3"
  },
  "language_info": {
   "codemirror_mode": {
    "name": "ipython",
    "version": 3
   },
   "file_extension": ".py",
   "mimetype": "text/x-python",
   "name": "python",
   "nbconvert_exporter": "python",
   "pygments_lexer": "ipython3",
   "version": "3.7.4"
  },
  "varInspector": {
   "cols": {
    "lenName": 16,
    "lenType": 16,
    "lenVar": 40
   },
   "kernels_config": {
    "python": {
     "delete_cmd_postfix": "",
     "delete_cmd_prefix": "del ",
     "library": "var_list.py",
     "varRefreshCmd": "print(var_dic_list())"
    },
    "r": {
     "delete_cmd_postfix": ") ",
     "delete_cmd_prefix": "rm(",
     "library": "var_list.r",
     "varRefreshCmd": "cat(var_dic_list()) "
    }
   },
   "types_to_exclude": [
    "module",
    "function",
    "builtin_function_or_method",
    "instance",
    "_Feature"
   ],
   "window_display": false
  }
 },
 "nbformat": 4,
 "nbformat_minor": 2
}
