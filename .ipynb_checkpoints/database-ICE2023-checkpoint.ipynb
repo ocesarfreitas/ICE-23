{
 "cells": [
  {
   "cell_type": "code",
   "execution_count": 72,
   "metadata": {
    "ExecuteTime": {
     "end_time": "2022-08-10T22:40:43.214686Z",
     "start_time": "2022-08-10T22:40:43.201905Z"
    }
   },
   "outputs": [],
   "source": [
    "import pandas as pd"
   ]
  },
  {
   "cell_type": "code",
   "execution_count": 73,
   "metadata": {
    "ExecuteTime": {
     "end_time": "2022-08-10T22:40:43.381755Z",
     "start_time": "2022-08-10T22:40:43.375086Z"
    }
   },
   "outputs": [],
   "source": [
    "database = pd.DataFrame()"
   ]
  },
  {
   "cell_type": "code",
   "execution_count": 74,
   "metadata": {
    "ExecuteTime": {
     "end_time": "2022-08-10T22:40:43.564775Z",
     "start_time": "2022-08-10T22:40:43.544076Z"
    },
    "scrolled": true
   },
   "outputs": [],
   "source": [
    "database = pd.DataFrame()\n",
    "\n",
    "# 1. AMOSTRA\n",
    "amostra = pd.read_csv('AMOSTRA/100-municipios.csv')\n",
    "database['Município'] = amostra['NOME DO MUNICÍPIO']\n",
    "database['UF'] = amostra['UF']"
   ]
  },
  {
   "cell_type": "code",
   "execution_count": 75,
   "metadata": {
    "ExecuteTime": {
     "end_time": "2022-08-10T22:40:44.110780Z",
     "start_time": "2022-08-10T22:40:44.009833Z"
    }
   },
   "outputs": [
    {
     "data": {
      "text/html": [
       "<div>\n",
       "<style scoped>\n",
       "    .dataframe tbody tr th:only-of-type {\n",
       "        vertical-align: middle;\n",
       "    }\n",
       "\n",
       "    .dataframe tbody tr th {\n",
       "        vertical-align: top;\n",
       "    }\n",
       "\n",
       "    .dataframe thead th {\n",
       "        text-align: right;\n",
       "    }\n",
       "</style>\n",
       "<table border=\"1\" class=\"dataframe\">\n",
       "  <thead>\n",
       "    <tr style=\"text-align: right;\">\n",
       "      <th></th>\n",
       "      <th>Município</th>\n",
       "      <th>UF</th>\n",
       "      <th>Pesquisas pelo Termo Empreendedora</th>\n",
       "      <th>Pesquisas pelo Termo Empreendedorismo</th>\n",
       "      <th>Pesquisas pelo Termo MEI</th>\n",
       "      <th>Pesquisas pelo Termo SEBRAE</th>\n",
       "      <th>Pesquisas pelo Termo Franquia</th>\n",
       "      <th>Pesquisas pelo Termo Simples Nacional</th>\n",
       "    </tr>\n",
       "  </thead>\n",
       "  <tbody>\n",
       "    <tr>\n",
       "      <th>0</th>\n",
       "      <td>São Paulo</td>\n",
       "      <td>SP</td>\n",
       "      <td>0</td>\n",
       "      <td>0</td>\n",
       "      <td>0</td>\n",
       "      <td>0</td>\n",
       "      <td>0</td>\n",
       "      <td>0</td>\n",
       "    </tr>\n",
       "    <tr>\n",
       "      <th>1</th>\n",
       "      <td>Rio de Janeiro</td>\n",
       "      <td>RJ</td>\n",
       "      <td>0</td>\n",
       "      <td>0</td>\n",
       "      <td>0</td>\n",
       "      <td>0</td>\n",
       "      <td>0</td>\n",
       "      <td>0</td>\n",
       "    </tr>\n",
       "    <tr>\n",
       "      <th>2</th>\n",
       "      <td>Brasília</td>\n",
       "      <td>DF</td>\n",
       "      <td>0</td>\n",
       "      <td>0</td>\n",
       "      <td>0</td>\n",
       "      <td>50</td>\n",
       "      <td>0</td>\n",
       "      <td>0</td>\n",
       "    </tr>\n",
       "    <tr>\n",
       "      <th>3</th>\n",
       "      <td>Salvador</td>\n",
       "      <td>BA</td>\n",
       "      <td>0</td>\n",
       "      <td>0</td>\n",
       "      <td>0</td>\n",
       "      <td>0</td>\n",
       "      <td>0</td>\n",
       "      <td>0</td>\n",
       "    </tr>\n",
       "    <tr>\n",
       "      <th>4</th>\n",
       "      <td>Fortaleza</td>\n",
       "      <td>CE</td>\n",
       "      <td>0</td>\n",
       "      <td>0</td>\n",
       "      <td>0</td>\n",
       "      <td>0</td>\n",
       "      <td>0</td>\n",
       "      <td>0</td>\n",
       "    </tr>\n",
       "    <tr>\n",
       "      <th>...</th>\n",
       "      <td>...</td>\n",
       "      <td>...</td>\n",
       "      <td>...</td>\n",
       "      <td>...</td>\n",
       "      <td>...</td>\n",
       "      <td>...</td>\n",
       "      <td>...</td>\n",
       "      <td>...</td>\n",
       "    </tr>\n",
       "    <tr>\n",
       "      <th>95</th>\n",
       "      <td>Taboão da Serra</td>\n",
       "      <td>SP</td>\n",
       "      <td>0</td>\n",
       "      <td>24</td>\n",
       "      <td>0</td>\n",
       "      <td>40</td>\n",
       "      <td>36</td>\n",
       "      <td>0</td>\n",
       "    </tr>\n",
       "    <tr>\n",
       "      <th>96</th>\n",
       "      <td>Várzea Grande</td>\n",
       "      <td>MT</td>\n",
       "      <td>0</td>\n",
       "      <td>0</td>\n",
       "      <td>0</td>\n",
       "      <td>0</td>\n",
       "      <td>0</td>\n",
       "      <td>0</td>\n",
       "    </tr>\n",
       "    <tr>\n",
       "      <th>97</th>\n",
       "      <td>Sumaré</td>\n",
       "      <td>SP</td>\n",
       "      <td>0</td>\n",
       "      <td>0</td>\n",
       "      <td>0</td>\n",
       "      <td>0</td>\n",
       "      <td>0</td>\n",
       "      <td>0</td>\n",
       "    </tr>\n",
       "    <tr>\n",
       "      <th>98</th>\n",
       "      <td>Marabá</td>\n",
       "      <td>PA</td>\n",
       "      <td>0</td>\n",
       "      <td>0</td>\n",
       "      <td>0</td>\n",
       "      <td>0</td>\n",
       "      <td>0</td>\n",
       "      <td>0</td>\n",
       "    </tr>\n",
       "    <tr>\n",
       "      <th>99</th>\n",
       "      <td>Gravataí</td>\n",
       "      <td>RS</td>\n",
       "      <td>0</td>\n",
       "      <td>0</td>\n",
       "      <td>0</td>\n",
       "      <td>0</td>\n",
       "      <td>0</td>\n",
       "      <td>0</td>\n",
       "    </tr>\n",
       "  </tbody>\n",
       "</table>\n",
       "<p>100 rows × 8 columns</p>\n",
       "</div>"
      ],
      "text/plain": [
       "          Município  UF  Pesquisas pelo Termo Empreendedora  \\\n",
       "0         São Paulo  SP                                   0   \n",
       "1    Rio de Janeiro  RJ                                   0   \n",
       "2          Brasília  DF                                   0   \n",
       "3          Salvador  BA                                   0   \n",
       "4         Fortaleza  CE                                   0   \n",
       "..              ...  ..                                 ...   \n",
       "95  Taboão da Serra  SP                                   0   \n",
       "96    Várzea Grande  MT                                   0   \n",
       "97           Sumaré  SP                                   0   \n",
       "98           Marabá  PA                                   0   \n",
       "99         Gravataí  RS                                   0   \n",
       "\n",
       "    Pesquisas pelo Termo Empreendedorismo  Pesquisas pelo Termo MEI  \\\n",
       "0                                       0                         0   \n",
       "1                                       0                         0   \n",
       "2                                       0                         0   \n",
       "3                                       0                         0   \n",
       "4                                       0                         0   \n",
       "..                                    ...                       ...   \n",
       "95                                     24                         0   \n",
       "96                                      0                         0   \n",
       "97                                      0                         0   \n",
       "98                                      0                         0   \n",
       "99                                      0                         0   \n",
       "\n",
       "    Pesquisas pelo Termo SEBRAE  Pesquisas pelo Termo Franquia  \\\n",
       "0                             0                              0   \n",
       "1                             0                              0   \n",
       "2                            50                              0   \n",
       "3                             0                              0   \n",
       "4                             0                              0   \n",
       "..                          ...                            ...   \n",
       "95                           40                             36   \n",
       "96                            0                              0   \n",
       "97                            0                              0   \n",
       "98                            0                              0   \n",
       "99                            0                              0   \n",
       "\n",
       "    Pesquisas pelo Termo Simples Nacional  \n",
       "0                                       0  \n",
       "1                                       0  \n",
       "2                                       0  \n",
       "3                                       0  \n",
       "4                                       0  \n",
       "..                                    ...  \n",
       "95                                      0  \n",
       "96                                      0  \n",
       "97                                      0  \n",
       "98                                      0  \n",
       "99                                      0  \n",
       "\n",
       "[100 rows x 8 columns]"
      ]
     },
     "execution_count": 75,
     "metadata": {},
     "output_type": "execute_result"
    }
   ],
   "source": [
    "# 8. DETERMINANTE CULTURA\n",
    "def save_googletrends(term):\n",
    "    \n",
    "    global database\n",
    "    \n",
    "    indicador = pd.read_csv('DETERMINANTE CULTURA/geoMap-'+term+'.csv').reset_index()\n",
    "    c_name = 'Pesquisas pelo Termo '+term\n",
    "    indicador = indicador.rename(columns={'index':'Município', 'Category: All categories': c_name})\n",
    "    database = database.merge(indicador, how='left',on='Município').fillna(0)\n",
    "    database[c_name] = database[c_name].astype(int)\n",
    "\n",
    "# SUBDETERMINANTE INICIATIVA\n",
    "save_googletrends('Empreendedora')\n",
    "save_googletrends('Empreendedorismo')\n",
    "save_googletrends('MEI')\n",
    "\n",
    "#SUBDETERMINANTE INSTITUIÇÕES\n",
    "save_googletrends('SEBRAE')\n",
    "save_googletrends('Franquia')\n",
    "save_googletrends('Simples Nacional')\n",
    "\n",
    "database"
   ]
  },
  {
   "cell_type": "code",
   "execution_count": 76,
   "metadata": {
    "ExecuteTime": {
     "end_time": "2022-08-10T22:40:44.969639Z",
     "start_time": "2022-08-10T22:40:44.956206Z"
    }
   },
   "outputs": [
    {
     "data": {
      "text/plain": [
       "109"
      ]
     },
     "execution_count": 76,
     "metadata": {},
     "output_type": "execute_result"
    }
   ],
   "source": [
    "sum(database['Pesquisas pelo Termo MEI'])"
   ]
  },
  {
   "cell_type": "code",
   "execution_count": 77,
   "metadata": {
    "ExecuteTime": {
     "end_time": "2022-08-10T22:40:53.336210Z",
     "start_time": "2022-08-10T22:40:53.312625Z"
    }
   },
   "outputs": [
    {
     "data": {
      "text/html": [
       "<div>\n",
       "<style scoped>\n",
       "    .dataframe tbody tr th:only-of-type {\n",
       "        vertical-align: middle;\n",
       "    }\n",
       "\n",
       "    .dataframe tbody tr th {\n",
       "        vertical-align: top;\n",
       "    }\n",
       "\n",
       "    .dataframe thead th {\n",
       "        text-align: right;\n",
       "    }\n",
       "</style>\n",
       "<table border=\"1\" class=\"dataframe\">\n",
       "  <thead>\n",
       "    <tr style=\"text-align: right;\">\n",
       "      <th></th>\n",
       "      <th>Município</th>\n",
       "      <th>UF</th>\n",
       "      <th>Pesquisas pelo Termo Empreendedora</th>\n",
       "      <th>Pesquisas pelo Termo Empreendedorismo</th>\n",
       "      <th>Pesquisas pelo Termo MEI</th>\n",
       "      <th>Pesquisas pelo Termo SEBRAE</th>\n",
       "      <th>Pesquisas pelo Termo Franquia</th>\n",
       "      <th>Pesquisas pelo Termo Simples Nacional</th>\n",
       "    </tr>\n",
       "  </thead>\n",
       "  <tbody>\n",
       "    <tr>\n",
       "      <th>76</th>\n",
       "      <td>Franca</td>\n",
       "      <td>SP</td>\n",
       "      <td>0</td>\n",
       "      <td>0</td>\n",
       "      <td>0</td>\n",
       "      <td>0</td>\n",
       "      <td>0</td>\n",
       "      <td>61</td>\n",
       "    </tr>\n",
       "    <tr>\n",
       "      <th>84</th>\n",
       "      <td>Cascavel</td>\n",
       "      <td>PR</td>\n",
       "      <td>0</td>\n",
       "      <td>0</td>\n",
       "      <td>48</td>\n",
       "      <td>0</td>\n",
       "      <td>0</td>\n",
       "      <td>53</td>\n",
       "    </tr>\n",
       "    <tr>\n",
       "      <th>88</th>\n",
       "      <td>Palmas</td>\n",
       "      <td>TO</td>\n",
       "      <td>0</td>\n",
       "      <td>0</td>\n",
       "      <td>0</td>\n",
       "      <td>83</td>\n",
       "      <td>0</td>\n",
       "      <td>52</td>\n",
       "    </tr>\n",
       "  </tbody>\n",
       "</table>\n",
       "</div>"
      ],
      "text/plain": [
       "   Município  UF  Pesquisas pelo Termo Empreendedora  \\\n",
       "76    Franca  SP                                   0   \n",
       "84  Cascavel  PR                                   0   \n",
       "88    Palmas  TO                                   0   \n",
       "\n",
       "    Pesquisas pelo Termo Empreendedorismo  Pesquisas pelo Termo MEI  \\\n",
       "76                                      0                         0   \n",
       "84                                      0                        48   \n",
       "88                                      0                         0   \n",
       "\n",
       "    Pesquisas pelo Termo SEBRAE  Pesquisas pelo Termo Franquia  \\\n",
       "76                            0                              0   \n",
       "84                            0                              0   \n",
       "88                           83                              0   \n",
       "\n",
       "    Pesquisas pelo Termo Simples Nacional  \n",
       "76                                     61  \n",
       "84                                     53  \n",
       "88                                     52  "
      ]
     },
     "execution_count": 77,
     "metadata": {},
     "output_type": "execute_result"
    }
   ],
   "source": [
    "database.iloc[np.where(database['Pesquisas pelo Termo Simples Nacional'] != 0)]"
   ]
  },
  {
   "cell_type": "code",
   "execution_count": null,
   "metadata": {},
   "outputs": [],
   "source": []
  }
 ],
 "metadata": {
  "hide_input": false,
  "kernelspec": {
   "display_name": "Python 3",
   "language": "python",
   "name": "python3"
  },
  "language_info": {
   "codemirror_mode": {
    "name": "ipython",
    "version": 3
   },
   "file_extension": ".py",
   "mimetype": "text/x-python",
   "name": "python",
   "nbconvert_exporter": "python",
   "pygments_lexer": "ipython3",
   "version": "3.7.4"
  },
  "varInspector": {
   "cols": {
    "lenName": 16,
    "lenType": 16,
    "lenVar": 40
   },
   "kernels_config": {
    "python": {
     "delete_cmd_postfix": "",
     "delete_cmd_prefix": "del ",
     "library": "var_list.py",
     "varRefreshCmd": "print(var_dic_list())"
    },
    "r": {
     "delete_cmd_postfix": ") ",
     "delete_cmd_prefix": "rm(",
     "library": "var_list.r",
     "varRefreshCmd": "cat(var_dic_list()) "
    }
   },
   "types_to_exclude": [
    "module",
    "function",
    "builtin_function_or_method",
    "instance",
    "_Feature"
   ],
   "window_display": false
  }
 },
 "nbformat": 4,
 "nbformat_minor": 2
}
